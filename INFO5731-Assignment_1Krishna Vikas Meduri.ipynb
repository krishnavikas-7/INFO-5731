{
 "cells": [
  {
   "cell_type": "markdown",
   "metadata": {
    "colab_type": "text",
    "id": "view-in-github"
   },
   "source": [
    "<a href=\"https://colab.research.google.com/github/unt-iialab/INFO5731_Spring2020/blob/master/Assignments/INFO5731_Assignment_One.ipynb\" target=\"_parent\"><img src=\"https://colab.research.google.com/assets/colab-badge.svg\" alt=\"Open In Colab\"/></a>"
   ]
  },
  {
   "cell_type": "markdown",
   "metadata": {
    "colab_type": "text",
    "id": "Ryk8D1Q4Wsrp"
   },
   "source": [
    "# **INFO5731 Assignment One-Krishna Vikas Meduri**\n",
    "\n",
    "\n"
   ]
  },
  {
   "cell_type": "markdown",
   "metadata": {
    "colab_type": "text",
    "id": "90_NR8c5XGWc"
   },
   "source": [
    "# Question 1\n",
    "\n",
    "(20 points). Write a Python program to generate 12 random numbers between 1 and 100. Sort the list of numbers in ascending order and print it out. Sort the list of numbers in descending order and print it out. Calculate the average for the group and print it out."
   ]
  },
  {
   "cell_type": "code",
   "execution_count": 1,
   "metadata": {
    "colab": {},
    "colab_type": "code",
    "id": "5QX6bJjGWXY9"
   },
   "outputs": [
    {
     "name": "stdout",
     "output_type": "stream",
     "text": [
      "[8, 9, 13, 15, 25, 35, 38, 43, 50, 56, 72, 74]\n"
     ]
    }
   ],
   "source": [
    "# Your code here\n",
    "import random #sorting the list in ascending order\n",
    "randomlist = random.sample(range(1,100),12)\n",
    "randomlist.sort()\n",
    "print(randomlist)\n",
    "\n"
   ]
  },
  {
   "cell_type": "code",
   "execution_count": 2,
   "metadata": {},
   "outputs": [
    {
     "name": "stdout",
     "output_type": "stream",
     "text": [
      "[97, 95, 89, 59, 52, 41, 34, 32, 28, 26, 9, 5]\n",
      "567\n"
     ]
    }
   ],
   "source": [
    "#sorting the list in descending order\n",
    "import random\n",
    "randomlist = random.sample(range(1,100),12)\n",
    "randomlist.sort(reverse = True)\n",
    "print(randomlist)\n",
    "sum1=0\n",
    "for i in randomlist: \n",
    "    sum1+=i\n",
    "print(sum1)"
   ]
  },
  {
   "cell_type": "code",
   "execution_count": 3,
   "metadata": {},
   "outputs": [
    {
     "name": "stdout",
     "output_type": "stream",
     "text": [
      "567\n"
     ]
    }
   ],
   "source": [
    "# printing average for the group\n",
    "import random\n",
    "sum1=0\n",
    "for i in randomlist:\n",
    "    sum1+=i\n",
    "print(sum1)"
   ]
  },
  {
   "cell_type": "markdown",
   "metadata": {
    "colab_type": "text",
    "id": "1F_PZdH9Sh49"
   },
   "source": [
    "# Question 2\n",
    "(25 points). Write a program that will do the following string formatting tasks:\n",
    "\n",
    "(1) Ask the user to enter two sentences.\n",
    "\n",
    "(2) Make each sentence into a list. Each element in the list should correspond to a word in the sentence. For example, if the sentence is \"Alas! Am I alive? This is my first python program\", the program should print out ['Alas, '!', 'Am', 'I', 'alive, '?', 'This', 'is', 'my', 'first', 'python', 'program'].\n",
    "\n",
    "(3) Compare the two sentences. Print out a list of words that occur in both sentences.\n",
    "\n",
    "(4) Remove any punctuation from the sentence and print it back out. It should remove at least the following characters, but it can remove more: period(“.”), comma (“,”), semicolon (“;”), and colon (“:”)\n",
    "\n",
    "(5) Count the number of vowels in the sentences. Print out each vowel and the number of times it appears in the sentences, such as: a:2, e:1, i:0, etc"
   ]
  },
  {
   "cell_type": "code",
   "execution_count": 17,
   "metadata": {
    "colab": {},
    "colab_type": "code",
    "id": "Y0oOSlsOS0cq"
   },
   "outputs": [
    {
     "name": "stdout",
     "output_type": "stream",
     "text": [
      "1st String: Hi I'm Krishna Vikas !\n",
      "2nd String: Hola Soy Krishna Vikas !\n",
      "{'Vikas', 'Im', 'Hi', 'Krishna'}\n",
      "number of vowels in sentence 1 {'a': 2, 'e': 0, 'i': 3, 'o': 0, 'u': 0}\n",
      "{'Vikas', 'Soy', 'Hola', 'Krishna'}\n",
      "number of vowels in setence 2 {'a': 3, 'e': 0, 'i': 2, 'o': 2, 'u': 0}\n",
      "Common Words in The Given 2 strings are: \n",
      "Krishna\n",
      "Vikas\n"
     ]
    }
   ],
   "source": [
    "# Your code here\n",
    "import re\n",
    "str1=input('1st String: ')\n",
    "str2=input('2nd String: ')\n",
    "str1 = re.sub(r'[^\\w\\s]','',str1)\n",
    "vowel = {a: len(re.findall(f\"{a}\", str1)) for a in \"aeiou\"}\n",
    "Vowel_Set=set(str1.split())\n",
    "print(Vowel_Set)\n",
    "print(\"number of vowels in sentence 1\",vowel)\n",
    "str2 = re.sub(r'[^\\w\\s]','',str2)\n",
    "V = {a1: len(re.findall(f\"{a1}\", str2)) for a1 in \"aeiou\"}\n",
    "Vowel_Set2=set(str2.split())\n",
    "print(Vowel_Set2)\n",
    "print('number of vowels in setence 2',V)\n",
    "li=[]\n",
    "a=str1.split()\n",
    "a2=str2.split()\n",
    "print('Common Words in The Given 2 strings are: ')\n",
    "for i in a:\n",
    "    for j in a2:\n",
    "        if i==j:\n",
    "            print(i)\n",
    "for h1 in a:\n",
    "    if h1=='.' or h1==',' or h1==';' or h1==':':\n",
    "        a.remove(h1)\n",
    "for h2 in a2:\n",
    "    if h1=='.' or h1==',' or h1==';' or h1==':':\n",
    "        a.remove(h2)\n",
    "\n",
    "\n"
   ]
  },
  {
   "cell_type": "markdown",
   "metadata": {
    "colab_type": "text",
    "id": "CmFoI4jDS9nx"
   },
   "source": [
    "# Question 3 \n",
    "\n",
    "(15 points). The formula that describes the volume V of a sphere with radius r is the following:\n",
    "\n",
    "$ V=\\frac{4}{3}\\ast\\ \\pi\\ast\\ r^3 $\n",
    "\n",
    "Write a program to calculate the value of V when r is in the range of 1–10. Output the result in the following format:\n",
    "\n",
    "\tr\tV\n",
    "\t1\t…\n",
    "\t2\t…\n",
    "\t3\t…\n"
   ]
  },
  {
   "cell_type": "code",
   "execution_count": 5,
   "metadata": {
    "colab": {},
    "colab_type": "code",
    "id": "pEyqeioAT95b",
    "scrolled": true
   },
   "outputs": [
    {
     "name": "stdout",
     "output_type": "stream",
     "text": [
      "r  V\n",
      "1 5\n",
      "2 34\n",
      "3 114\n",
      "4 268\n",
      "5 524\n",
      "6 905\n",
      "7 1437\n",
      "8 2144\n",
      "9 3053\n",
      "10 4187\n"
     ]
    }
   ],
   "source": [
    "# Your code here\n",
    "import math\n",
    "print('r  V')\n",
    "for r in range(1,11):\n",
    "    print(r,math.ceil((4*3.14*(r**3)/3)))\n",
    "\n"
   ]
  },
  {
   "cell_type": "markdown",
   "metadata": {
    "colab_type": "text",
    "id": "z3tBE7E-Xn5X"
   },
   "source": [
    "# Question 4\n",
    "\n",
    "(40 points). In the field of Data Science, data is often formatted as a comma-delimited (CSV) file, where each line in a file corresponds to a field's value. Refer to Chapter 9 (p. 106) for more information on comma-delimited files. To answer this question, you will need to download the file [Assignment1_denton_housing.csv](https://github.com/unt-iialab/info5731-fall2021/blob/main/assignments/Assignment1_denton_housing.csv) included with this assignment. The file [Assignment1_denton_housing.csv](https://github.com/unt-iialab/info5731-fall2021/blob/main/assignments/Assignment1_denton_housing.csv) contains statistics about housing in the city of Denton from 2008 to 2014. Write a program to implement the following questions.\n",
    "\n",
    "(1) (10 pts) Calculate the difference in the number of Occupied Housing Units from year to year and print it. The difference must be calculated for the consecutive years such as 2008-2009, 2009-2010 etc. Finally, print the values in the ascending order.\n",
    "\n",
    "(2) (10 pts) For all the years, calculate the percentage of housing units which are vacant an occupied. Print the results in the following format:\n",
    "\n",
    "Year Vacant Housing Units Occupied Housing Units\n",
    "\n",
    "    2008  30%   70%                          \n",
    "\t2009 ----- -----\n",
    "\t2010 ----- -----\n",
    "    2011 ----- -----\n",
    "\t2012 ----- -----\n",
    "    2013 ----- -----\n",
    "\t2014 ----- -----\n",
    "  \n",
    "  \n",
    "\n",
    "(3) (10 pts) Calculate and print the valued and years in which the highest number of housing units were vacant and occupied. Print the results in the following format:  \n",
    "\n",
    "                              Year\tValue\n",
    "\tVacant Housing Units\t  -----   -----\n",
    "\tOccupied Housing Units\t-----   -----\n",
    "\n",
    "(4) (10 pts) Calculate the harmonic mean of the total housing units and print it out. You can find the information about harmonic mean here: https://ncalculators.com/statistics/harmonic-mean-calculator.htm"
   ]
  },
  {
   "cell_type": "code",
   "execution_count": 6,
   "metadata": {
    "colab": {},
    "colab_type": "code",
    "id": "lqGYuHBhcsRH"
   },
   "outputs": [],
   "source": [
    "# Your code here\n",
    "import numpy as np\n",
    "import pandas as pd\n",
    "import matplotlib.pyplot as plt\n",
    "import seaborn as sns\n",
    "%matplotlib inline\n",
    "\n",
    "\n"
   ]
  },
  {
   "cell_type": "code",
   "execution_count": 7,
   "metadata": {},
   "outputs": [],
   "source": [
    "from sklearn.preprocessing import StandardScaler"
   ]
  },
  {
   "cell_type": "code",
   "execution_count": 8,
   "metadata": {
    "scrolled": true
   },
   "outputs": [
    {
     "data": {
      "text/plain": [
       "'C:\\\\Users\\\\91773\\\\Desktop\\\\INFO 5731'"
      ]
     },
     "execution_count": 8,
     "metadata": {},
     "output_type": "execute_result"
    }
   ],
   "source": [
    "pwd\n"
   ]
  },
  {
   "cell_type": "code",
   "execution_count": 9,
   "metadata": {
    "scrolled": true
   },
   "outputs": [
    {
     "data": {
      "text/html": [
       "<div>\n",
       "<style scoped>\n",
       "    .dataframe tbody tr th:only-of-type {\n",
       "        vertical-align: middle;\n",
       "    }\n",
       "\n",
       "    .dataframe tbody tr th {\n",
       "        vertical-align: top;\n",
       "    }\n",
       "\n",
       "    .dataframe thead th {\n",
       "        text-align: right;\n",
       "    }\n",
       "</style>\n",
       "<table border=\"1\" class=\"dataframe\">\n",
       "  <thead>\n",
       "    <tr style=\"text-align: right;\">\n",
       "      <th></th>\n",
       "      <th>year</th>\n",
       "      <th>title_field</th>\n",
       "      <th>value</th>\n",
       "    </tr>\n",
       "  </thead>\n",
       "  <tbody>\n",
       "    <tr>\n",
       "      <th>0</th>\n",
       "      <td>2014</td>\n",
       "      <td>Total Housing Units</td>\n",
       "      <td>49109</td>\n",
       "    </tr>\n",
       "    <tr>\n",
       "      <th>1</th>\n",
       "      <td>2014</td>\n",
       "      <td>Vacant Housing Units</td>\n",
       "      <td>2814</td>\n",
       "    </tr>\n",
       "    <tr>\n",
       "      <th>2</th>\n",
       "      <td>2014</td>\n",
       "      <td>Occupied Housing Units</td>\n",
       "      <td>46295</td>\n",
       "    </tr>\n",
       "    <tr>\n",
       "      <th>3</th>\n",
       "      <td>2013</td>\n",
       "      <td>Total Housing Units</td>\n",
       "      <td>47888</td>\n",
       "    </tr>\n",
       "    <tr>\n",
       "      <th>4</th>\n",
       "      <td>2013</td>\n",
       "      <td>Vacant Housing Units</td>\n",
       "      <td>4215</td>\n",
       "    </tr>\n",
       "  </tbody>\n",
       "</table>\n",
       "</div>"
      ],
      "text/plain": [
       "   year             title_field  value\n",
       "0  2014     Total Housing Units  49109\n",
       "1  2014    Vacant Housing Units   2814\n",
       "2  2014  Occupied Housing Units  46295\n",
       "3  2013     Total Housing Units  47888\n",
       "4  2013    Vacant Housing Units   4215"
      ]
     },
     "execution_count": 9,
     "metadata": {},
     "output_type": "execute_result"
    }
   ],
   "source": [
    "house=pd.read_csv('C:\\\\Users\\\\91773\\\\Desktop\\\\INFO 5731\\\\Assignment1_denton_housing.csv')\n",
    "house.head()"
   ]
  },
  {
   "cell_type": "code",
   "execution_count": 10,
   "metadata": {},
   "outputs": [
    {
     "data": {
      "text/plain": [
       "Index(['year', 'title_field', 'value'], dtype='object')"
      ]
     },
     "execution_count": 10,
     "metadata": {},
     "output_type": "execute_result"
    }
   ],
   "source": [
    "house.columns\n"
   ]
  },
  {
   "cell_type": "code",
   "execution_count": 11,
   "metadata": {},
   "outputs": [
    {
     "data": {
      "text/plain": [
       "<bound method NDFrame.describe of     year             title_field  value\n",
       "0   2014     Total Housing Units  49109\n",
       "1   2014    Vacant Housing Units   2814\n",
       "2   2014  Occupied Housing Units  46295\n",
       "3   2013     Total Housing Units  47888\n",
       "4   2013    Vacant Housing Units   4215\n",
       "5   2013  Occupied Housing Units  43673\n",
       "6   2012     Total Housing Units  45121\n",
       "7   2012    Vacant Housing Units   3013\n",
       "8   2012  Occupied Housing Units  42108\n",
       "9   2011     Total Housing Units  44917\n",
       "10  2011    Vacant Housing Units   4213\n",
       "11  2011  Occupied Housing Units  40704\n",
       "12  2010     Total Housing Units  44642\n",
       "13  2010    Vacant Housing Units   3635\n",
       "14  2010  Occupied Housing Units  41007\n",
       "15  2009     Total Housing Units  39499\n",
       "16  2009    Vacant Housing Units   3583\n",
       "17  2009  Occupied Housing Units  35916\n",
       "18  2008     Total Housing Units  41194\n",
       "19  2008    Vacant Housing Units   4483\n",
       "20  2008  Occupied Housing Units  36711\n",
       "21  2014          Owner Occupied  21427\n",
       "22  2014         Renter Occupied  24868\n",
       "23  2013          Owner Occupied  20845\n",
       "24  2013         Renter Occupied  22828\n",
       "25  2012          Owner Occupied  20068\n",
       "26  2012         Renter Occupied  22040\n",
       "27  2011          Owner Occupied  18478\n",
       "28  2011         Renter Occupied  22226\n",
       "29  2010          Owner Occupied  18867\n",
       "30  2010         Renter Occupied  22140\n",
       "31  2009          Owner Occupied  18057\n",
       "32  2009         Renter Occupied  17859\n",
       "33  2008          Owner Occupied  17340\n",
       "34  2008         Renter Occupied  19371\n",
       "35  2014       Median Gross Rent    905\n",
       "36  2013       Median Gross Rent    887\n",
       "37  2012       Median Gross Rent    842\n",
       "38  2011       Median Gross Rent    821\n",
       "39  2010       Median Gross Rent    780\n",
       "40  2009       Median Gross Rent    769\n",
       "41  2008       Median Gross Rent    768>"
      ]
     },
     "execution_count": 11,
     "metadata": {},
     "output_type": "execute_result"
    }
   ],
   "source": [
    "house.describe"
   ]
  },
  {
   "cell_type": "code",
   "execution_count": 12,
   "metadata": {},
   "outputs": [
    {
     "data": {
      "text/plain": [
       "<matplotlib.axes._subplots.AxesSubplot at 0x1f9495a89c8>"
      ]
     },
     "execution_count": 12,
     "metadata": {},
     "output_type": "execute_result"
    },
    {
     "data": {
      "image/png": "[encoded data removed]",
      "text/plain": [
       "<Figure size 432x288 with 2 Axes>"
      ]
     },
     "metadata": {
      "needs_background": "light"
     },
     "output_type": "display_data"
    }
   ],
   "source": [
    "sns.heatmap(house.isnull())"
   ]
  },
  {
   "cell_type": "code",
   "execution_count": 13,
   "metadata": {},
   "outputs": [
    {
     "data": {
      "text/plain": [
       "<matplotlib.axes._subplots.AxesSubplot at 0x1f949d75dc8>"
      ]
     },
     "execution_count": 13,
     "metadata": {},
     "output_type": "execute_result"
    },
    {
     "data": {
      "image/png": "[encoded data removed]",
      "text/plain": [
       "<Figure size 432x288 with 1 Axes>"
      ]
     },
     "metadata": {
      "needs_background": "light"
     },
     "output_type": "display_data"
    }
   ],
   "source": [
    "sns.barplot(house['value'] , house['title_field'] , house['year'])"
   ]
  },
  {
   "cell_type": "code",
   "execution_count": 27,
   "metadata": {},
   "outputs": [
    {
     "name": "stdout",
     "output_type": "stream",
     "text": [
      "       Years  Difference\n",
      "0  2008-2009        -795\n",
      "2  2010-2011        -303\n",
      "3  2011-2012        1404\n",
      "4  2012-2013        1565\n",
      "5  2013-2014        2622\n",
      "1  2009-2010        5091\n"
     ]
    }
   ],
   "source": [
    "# (1)Calculate the difference in the number of Occupied Housing Units from year to year and print it. The difference must be calculated for the consecutive years such as 2008-2009, 2009-2010 etc. Finally, print the values in the ascending order.\n",
    "\n",
    "import pandas as pd # Importing Libraries\n",
    "import numpy as np\n",
    "\n",
    "\n",
    "# Number of Occupied Houses\n",
    "A = house.loc[(house[\"title_field\"]==\"Occupied Housing Units\") , [\"title_field\", 'value']]\n",
    "# The diff in the number of occupied houses from year to year\n",
    "finaldat = [['2008-2009', 35916-36711],['2009-2010', 41007-35916],['2010-2011', 40704-41007],['2011-2012', 42108-40704],['2012-2013', 43673-42108],['2013-2014', 46295-43673]]  \n",
    "B = pd.DataFrame(finaldat, columns = ['Years', 'Difference'])\n",
    "# Sorting in the ascending values\n",
    "difff = B.sort_values('Difference') \n",
    "print(difff)"
   ]
  },
  {
   "cell_type": "code",
   "execution_count": 15,
   "metadata": {},
   "outputs": [
    {
     "data": {
      "text/html": [
       "<div>\n",
       "<style scoped>\n",
       "    .dataframe tbody tr th:only-of-type {\n",
       "        vertical-align: middle;\n",
       "    }\n",
       "\n",
       "    .dataframe tbody tr th {\n",
       "        vertical-align: top;\n",
       "    }\n",
       "\n",
       "    .dataframe thead th {\n",
       "        text-align: right;\n",
       "    }\n",
       "</style>\n",
       "<table border=\"1\" class=\"dataframe\">\n",
       "  <thead>\n",
       "    <tr style=\"text-align: right;\">\n",
       "      <th></th>\n",
       "      <th>year</th>\n",
       "      <th>Vacant Housing Units</th>\n",
       "      <th>Occupied Housing Units</th>\n",
       "      <th>Percent of Vacant House</th>\n",
       "      <th>Percent of Occupied  House</th>\n",
       "    </tr>\n",
       "  </thead>\n",
       "  <tbody>\n",
       "    <tr>\n",
       "      <th>0</th>\n",
       "      <td>2008</td>\n",
       "      <td>4483</td>\n",
       "      <td>36711</td>\n",
       "      <td>10.882653</td>\n",
       "      <td>89.117347</td>\n",
       "    </tr>\n",
       "    <tr>\n",
       "      <th>1</th>\n",
       "      <td>2009</td>\n",
       "      <td>3583</td>\n",
       "      <td>35916</td>\n",
       "      <td>9.071116</td>\n",
       "      <td>90.928884</td>\n",
       "    </tr>\n",
       "    <tr>\n",
       "      <th>2</th>\n",
       "      <td>2010</td>\n",
       "      <td>3635</td>\n",
       "      <td>41007</td>\n",
       "      <td>8.142556</td>\n",
       "      <td>91.857444</td>\n",
       "    </tr>\n",
       "    <tr>\n",
       "      <th>3</th>\n",
       "      <td>2011</td>\n",
       "      <td>4213</td>\n",
       "      <td>40704</td>\n",
       "      <td>9.379522</td>\n",
       "      <td>90.620478</td>\n",
       "    </tr>\n",
       "    <tr>\n",
       "      <th>4</th>\n",
       "      <td>2012</td>\n",
       "      <td>3013</td>\n",
       "      <td>42108</td>\n",
       "      <td>6.677600</td>\n",
       "      <td>93.322400</td>\n",
       "    </tr>\n",
       "    <tr>\n",
       "      <th>5</th>\n",
       "      <td>2013</td>\n",
       "      <td>4215</td>\n",
       "      <td>43673</td>\n",
       "      <td>8.801788</td>\n",
       "      <td>91.198212</td>\n",
       "    </tr>\n",
       "    <tr>\n",
       "      <th>6</th>\n",
       "      <td>2014</td>\n",
       "      <td>2814</td>\n",
       "      <td>46295</td>\n",
       "      <td>5.730111</td>\n",
       "      <td>94.269889</td>\n",
       "    </tr>\n",
       "  </tbody>\n",
       "</table>\n",
       "</div>"
      ],
      "text/plain": [
       "   year  Vacant Housing Units  Occupied Housing Units  \\\n",
       "0  2008                  4483                   36711   \n",
       "1  2009                  3583                   35916   \n",
       "2  2010                  3635                   41007   \n",
       "3  2011                  4213                   40704   \n",
       "4  2012                  3013                   42108   \n",
       "5  2013                  4215                   43673   \n",
       "6  2014                  2814                   46295   \n",
       "\n",
       "   Percent of Vacant House  Percent of Occupied  House  \n",
       "0                10.882653                   89.117347  \n",
       "1                 9.071116                   90.928884  \n",
       "2                 8.142556                   91.857444  \n",
       "3                 9.379522                   90.620478  \n",
       "4                 6.677600                   93.322400  \n",
       "5                 8.801788                   91.198212  \n",
       "6                 5.730111                   94.269889  "
      ]
     },
     "execution_count": 15,
     "metadata": {},
     "output_type": "execute_result"
    }
   ],
   "source": [
    "# (2) For all the years, calculate the percentage of housing units which are vacant an occupied. Print the results in the following format:\n",
    "\n",
    "import pandas as pd\n",
    "import numpy as np\n",
    "\n",
    "unique_years = sorted(list(house['year'].unique()))\n",
    "\n",
    "home_df=pd.DataFrame()\n",
    "home_df['year']=unique_years\n",
    "Occupied_houses = house[house['title_field']=='Occupied Housing Units'].sort_values(by=['year'])\n",
    "Vacant_houses = house[house['title_field']=='Vacant Housing Units'].sort_values(by=['year'])\n",
    "home_df['Vacant Housing Units']=Vacant_houses['value'].values\n",
    "home_df['Occupied Housing Units']=Occupied_houses['value'].values\n",
    "home_df['Percent of Vacant House'] = [(home_df['Vacant Housing Units'][loop1]*100)/\\\n",
    "                                         (home_df['Vacant Housing Units'][loop1]+home_df['Occupied Housing Units'][loop1])\\\n",
    "                                         for loop1 in range(len(home_df))]\n",
    "home_df['Percent of Occupied  House'] = [(home_df['Occupied Housing Units'][loop1]*100)/\\\n",
    "                                         (home_df['Vacant Housing Units'][loop1]+home_df['Occupied Housing Units'][loop1])\\\n",
    "                                         for loop1 in range(len(home_df))]\n",
    "home_df"
   ]
  },
  {
   "cell_type": "code",
   "execution_count": 30,
   "metadata": {
    "scrolled": true
   },
   "outputs": [
    {
     "name": "stdout",
     "output_type": "stream",
     "text": [
      "               title_field  year  value\n",
      "2   Occupied Housing Units  2014  46295\n",
      "19    Vacant Housing Units  2008   4483\n"
     ]
    }
   ],
   "source": [
    "max_df_vacant = house[house['title_field'] == 'Vacant Housing Units']\n",
    "max_df = pd.concat([df_occupied[df_occupied['value'] == df_occupied['value'].max()],df_vacant[df_vacant['value'] == df_vacant['value'].max()]])\n",
    "print(max_df[['title_field','year','value']])"
   ]
  },
  {
   "cell_type": "code",
   "execution_count": 18,
   "metadata": {},
   "outputs": [
    {
     "name": "stdout",
     "output_type": "stream",
     "text": [
      "The Harmonic Mean of Total Housing Units: \n",
      "44398.28543969185\n"
     ]
    }
   ],
   "source": [
    "# (4) Calculate the harmonic mean of the total housing units and print it out.\n",
    "import statistics\n",
    "print('The Harmonic Mean of Total Housing Units: ')\n",
    "print(statistics.harmonic_mean(list(house[house['title_field']=='Total Housing Units'].value)))"
   ]
  }
 ],
 "metadata": {
  "colab": {
   "authorship_tag": "ABX9TyOAjsNCkNulTpzgRQbHdy3f",
   "collapsed_sections": [],
   "include_colab_link": true,
   "name": "INFO5731_Assignment_One.ipynb",
   "provenance": []
  },
  "kernelspec": {
   "display_name": "Python 3",
   "language": "python",
   "name": "python3"
  },
  "language_info": {
   "codemirror_mode": {
    "name": "ipython",
    "version": 3
   },
   "file_extension": ".py",
   "mimetype": "text/x-python",
   "name": "python",
   "nbconvert_exporter": "python",
   "pygments_lexer": "ipython3",
   "version": "3.7.6"
  }
 },
 "nbformat": 4,
 "nbformat_minor": 1
}
