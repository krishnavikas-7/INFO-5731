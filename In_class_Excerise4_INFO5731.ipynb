{
  "nbformat": 4,
  "nbformat_minor": 0,
  "metadata": {
    "colab": {
      "name": "In_class_Excerise4_INFO5731.ipynb",
      "provenance": []
    },
    "kernelspec": {
      "name": "python3",
      "display_name": "Python 3"
    },
    "language_info": {
      "name": "python"
    }
  },
  "cells": [
    {
      "cell_type": "markdown",
      "metadata": {
        "id": "iB-_kxj4AV2G"
      },
      "source": [
        "##**In class Exercise 4**"
      ]
    },
    {
      "cell_type": "markdown",
      "metadata": {
        "id": "D5uiEm4pAQJW"
      },
      "source": [
        "(1) (15 points) Generate K topics by using LDA, the number of topics K should be decided by the coherence score, then summarize what are the topics. You may refer the code here:\n",
        "https://www.machinelearningplus.com/nlp/topic-modeling-gensim-python/"
      ]
    },
    {
      "cell_type": "code",
      "metadata": {
        "colab": {
          "base_uri": "https://localhost:8080/"
        },
        "id": "so36z1kZvPcG",
        "outputId": "f848449c-4a5b-45b8-e9a0-55d6ec23dccc"
      },
      "source": [
        "# Write your code here\n",
        "import nltk; nltk.download('stopwords')\n",
        "import re\n",
        "import numpy as np\n",
        "import pandas as pd\n",
        "from pprint import pprint\n",
        "import gensim\n",
        "import gensim.corpora as corpora\n",
        "from gensim.utils import simple_preprocess\n",
        "from gensim.models import CoherenceModel\n",
        "import spacy\n",
        "!pip install pyLDAvis\n",
        "import pyLDAvis\n",
        "import pyLDAvis.gensim_models  \n",
        "import matplotlib.pyplot as plt\n",
        "%matplotlib inline\n",
        "import requests\n",
        "from bs4 import BeautifulSoup\n",
        "import warnings\n",
        "warnings.filterwarnings(\"ignore\",category=DeprecationWarning)\n",
        "import spacy.cli\n",
        "spacy.cli.download('en_core_web_sm')\n",
        "import os\n",
        "def install_java():\n",
        "  !apt-get install -y openjdk-8-jdk-headless -qq > /dev/null\n",
        "  os.environ[\"JAVA_HOME\"] = \"/usr/lib/jvm/java-8-openjdk-amd64\"\n",
        "  !java -version\n",
        "install_java()"
      ],
      "execution_count": null,
      "outputs": [
        {
          "output_type": "stream",
          "name": "stdout",
          "text": [
            "[nltk_data] Downloading package stopwords to /root/nltk_data...\n",
            "[nltk_data]   Package stopwords is already up-to-date!\n",
            "Requirement already satisfied: pyLDAvis in /usr/local/lib/python3.7/dist-packages (3.3.1)\n",
            "Requirement already satisfied: numpy>=1.20.0 in /usr/local/lib/python3.7/dist-packages (from pyLDAvis) (1.21.3)\n",
            "Requirement already satisfied: scikit-learn in /usr/local/lib/python3.7/dist-packages (from pyLDAvis) (0.22.2.post1)\n",
            "Requirement already satisfied: funcy in /usr/local/lib/python3.7/dist-packages (from pyLDAvis) (1.16)\n",
            "Requirement already satisfied: scipy in /usr/local/lib/python3.7/dist-packages (from pyLDAvis) (1.4.1)\n",
            "Requirement already satisfied: gensim in /usr/local/lib/python3.7/dist-packages (from pyLDAvis) (3.6.0)\n",
            "Requirement already satisfied: sklearn in /usr/local/lib/python3.7/dist-packages (from pyLDAvis) (0.0)\n",
            "Requirement already satisfied: numexpr in /usr/local/lib/python3.7/dist-packages (from pyLDAvis) (2.7.3)\n",
            "Requirement already satisfied: jinja2 in /usr/local/lib/python3.7/dist-packages (from pyLDAvis) (2.11.3)\n",
            "Requirement already satisfied: joblib in /usr/local/lib/python3.7/dist-packages (from pyLDAvis) (1.0.1)\n",
            "Requirement already satisfied: setuptools in /usr/local/lib/python3.7/dist-packages (from pyLDAvis) (57.4.0)\n",
            "Requirement already satisfied: future in /usr/local/lib/python3.7/dist-packages (from pyLDAvis) (0.16.0)\n",
            "Requirement already satisfied: pandas>=1.2.0 in /usr/local/lib/python3.7/dist-packages (from pyLDAvis) (1.3.4)\n",
            "Requirement already satisfied: python-dateutil>=2.7.3 in /usr/local/lib/python3.7/dist-packages (from pandas>=1.2.0->pyLDAvis) (2.8.2)\n",
            "Requirement already satisfied: pytz>=2017.3 in /usr/local/lib/python3.7/dist-packages (from pandas>=1.2.0->pyLDAvis) (2018.9)\n",
            "Requirement already satisfied: six>=1.5 in /usr/local/lib/python3.7/dist-packages (from python-dateutil>=2.7.3->pandas>=1.2.0->pyLDAvis) (1.15.0)\n",
            "Requirement already satisfied: smart-open>=1.2.1 in /usr/local/lib/python3.7/dist-packages (from gensim->pyLDAvis) (5.2.1)\n",
            "Requirement already satisfied: MarkupSafe>=0.23 in /usr/local/lib/python3.7/dist-packages (from jinja2->pyLDAvis) (2.0.1)\n"
          ]
        },
        {
          "output_type": "stream",
          "name": "stderr",
          "text": [
            "/usr/local/lib/python3.7/dist-packages/past/types/oldstr.py:5: DeprecationWarning: Using or importing the ABCs from 'collections' instead of from 'collections.abc' is deprecated since Python 3.3,and in 3.9 it will stop working\n",
            "  from collections import Iterable\n",
            "/usr/local/lib/python3.7/dist-packages/sklearn/decomposition/_lda.py:29: DeprecationWarning: `np.float` is a deprecated alias for the builtin `float`. To silence this warning, use `float` by itself. Doing this will not modify any behavior and is safe. If you specifically wanted the numpy scalar type, use `np.float64` here.\n",
            "Deprecated in NumPy 1.20; for more details and guidance: https://numpy.org/devdocs/release/1.20.0-notes.html#deprecations\n",
            "  EPS = np.finfo(np.float).eps\n"
          ]
        },
        {
          "output_type": "stream",
          "name": "stdout",
          "text": [
            "\u001b[38;5;2m✔ Download and installation successful\u001b[0m\n",
            "You can now load the model via spacy.load('en_core_web_sm')\n",
            "openjdk version \"11.0.11\" 2021-04-20\n",
            "OpenJDK Runtime Environment (build 11.0.11+9-Ubuntu-0ubuntu2.18.04)\n",
            "OpenJDK 64-Bit Server VM (build 11.0.11+9-Ubuntu-0ubuntu2.18.04, mixed mode, sharing)\n"
          ]
        }
      ]
    },
    {
      "cell_type": "code",
      "metadata": {
        "id": "Gz7mbwUevxCu"
      },
      "source": [
        "from nltk.corpus import stopwords\n",
        "stop_words = stopwords.words('english')\n",
        "stop_words.extend(['from', 'subject', 're', 'edu', 'use'])"
      ],
      "execution_count": null,
      "outputs": []
    },
    {
      "cell_type": "code",
      "metadata": {
        "id": "6Wor0f-EvyXY"
      },
      "source": [
        "name = [ ]\n",
        "data = [ ]\n",
        "page_number = [0,10,20,30,40,50,60,70,80,90]\n",
        "for i in page_number:\n",
        "  page = requests.get('https://www.imdb.com/title/tt13131798/reviews/?ref_=tt_ql_urv'+ str (i))\n",
        "  soup = BeautifulSoup(page.content,'html.parser')\n",
        "  name.append(soup.find_all('a',class_=\"title\"))\n",
        "\n",
        "for j in name:\n",
        "  for k in range(len(j)):\n",
        "    data.append(j[k].get_text())\n",
        "data = [re.sub('\\s+', ' ', sent) for sent in data]\n",
        "data = [re.sub(\"\\'\", \"\", sent) for sent in data]"
      ],
      "execution_count": null,
      "outputs": []
    },
    {
      "cell_type": "code",
      "metadata": {
        "id": "vRMV6zFVv5GQ"
      },
      "source": [
        "def sent_to_words(sentences):\n",
        "    for sentence in sentences:\n",
        "        yield(gensim.utils.simple_preprocess(str(sentence), deacc=True))\n",
        "\n",
        "data_words = list(sent_to_words(data))"
      ],
      "execution_count": null,
      "outputs": []
    },
    {
      "cell_type": "code",
      "metadata": {
        "colab": {
          "base_uri": "https://localhost:8080/"
        },
        "id": "mmt9su_mv8kG",
        "outputId": "7abcd3ff-60aa-418c-cf42-0032303cdeaf"
      },
      "source": [
        "# Build the bigram and trigram models\n",
        "bigram = gensim.models.Phrases(data_words, min_count=5, threshold=100)\n",
        "trigram = gensim.models.Phrases(bigram[data_words], threshold=100)\n",
        "bigram_mod = gensim.models.phrases.Phraser(bigram)\n",
        "trigram_mod = gensim.models.phrases.Phraser(trigram)\n",
        "print(trigram_mod[bigram_mod[data_words[0]]])"
      ],
      "execution_count": null,
      "outputs": [
        {
          "output_type": "stream",
          "name": "stdout",
          "text": [
            "['sharwanand', 'completely', 'forgot', 'on', 'how', 'to', 'choose', 'scripts']\n"
          ]
        },
        {
          "output_type": "stream",
          "name": "stderr",
          "text": [
            "/usr/local/lib/python3.7/dist-packages/gensim/models/phrases.py:598: UserWarning: For a faster implementation, use the gensim.models.phrases.Phraser class\n",
            "  warnings.warn(\"For a faster implementation, use the gensim.models.phrases.Phraser class\")\n"
          ]
        }
      ]
    },
    {
      "cell_type": "code",
      "metadata": {
        "id": "hAYHn6yRwAI-"
      },
      "source": [
        "def remove_stopwords(texts):\n",
        "    return [[word for word in simple_preprocess(str(doc)) if word not in stop_words] for doc in texts]\n",
        "\n",
        "def make_bigrams(texts):\n",
        "    return [bigram_mod[doc] for doc in texts]\n",
        "\n",
        "def make_trigrams(texts):\n",
        "    return [trigram_mod[bigram_mod[doc]] for doc in texts]\n",
        "\n",
        "def lemmatization(texts, allowed_postags=['NOUN', 'ADJ', 'VERB', 'ADV']):\n",
        "    \"\"\"https://spacy.io/api/annotation\"\"\"\n",
        "    texts_out = []\n",
        "    for sent in texts:\n",
        "        doc = nlp(\" \".join(sent)) \n",
        "        texts_out.append([token.lemma_ for token in doc if token.pos_ in allowed_postags])\n",
        "    return texts_out"
      ],
      "execution_count": null,
      "outputs": []
    },
    {
      "cell_type": "code",
      "metadata": {
        "colab": {
          "base_uri": "https://localhost:8080/"
        },
        "id": "8L-b2O8RwDXU",
        "outputId": "3872536f-8641-47bc-a932-cd13715739ab"
      },
      "source": [
        "# Remove Stop Words\n",
        "data_words_nostops = remove_stopwords(data_words)\n",
        "\n",
        "# Form Bigrams\n",
        "data_words_bigrams = make_bigrams(data_words_nostops)\n",
        "nlp = spacy.load('en', disable=['parser', 'ner'])\n",
        "data_lemmatized = lemmatization(data_words_bigrams, allowed_postags=['NOUN', 'ADJ', 'VERB', 'ADV'])\n",
        "\n",
        "print(data_lemmatized[:1])"
      ],
      "execution_count": null,
      "outputs": [
        {
          "output_type": "stream",
          "name": "stdout",
          "text": [
            "[['completely', 'forget', 'choose', 'script']]\n"
          ]
        }
      ]
    },
    {
      "cell_type": "code",
      "metadata": {
        "colab": {
          "base_uri": "https://localhost:8080/"
        },
        "id": "RIEn9fQtymSA",
        "outputId": "d60c9c5d-0cf9-4cb2-99c1-606e72d9497b"
      },
      "source": [
        "# Create Dictionary\n",
        "id2word = corpora.Dictionary(data_lemmatized)\n",
        "\n",
        "\n",
        "texts = data_lemmatized\n",
        "\n",
        "\n",
        "corpus = [id2word.doc2bow(text) for text in texts]\n",
        "\n",
        "\n",
        "print(corpus[:1])"
      ],
      "execution_count": null,
      "outputs": [
        {
          "output_type": "stream",
          "name": "stdout",
          "text": [
            "[[(0, 1), (1, 1), (2, 1), (3, 1)]]\n"
          ]
        }
      ]
    },
    {
      "cell_type": "code",
      "metadata": {
        "id": "94D-HAitzWnf"
      },
      "source": [
        "# Build LDA model\n",
        "lda_model = gensim.models.ldamodel.LdaModel(corpus=corpus,\n",
        "                                           id2word=id2word,\n",
        "                                           num_topics=20, \n",
        "                                           random_state=100,\n",
        "                                           update_every=1,\n",
        "                                           chunksize=100,\n",
        "                                           passes=10,\n",
        "                                           alpha='auto',\n",
        "                                           per_word_topics=True)"
      ],
      "execution_count": null,
      "outputs": []
    },
    {
      "cell_type": "code",
      "metadata": {
        "colab": {
          "base_uri": "https://localhost:8080/"
        },
        "id": "r9nsyOAbzZ0s",
        "outputId": "760e4ad1-d7ce-4138-bf1b-ead72b353464"
      },
      "source": [
        "pprint(lda_model.print_topics())\n",
        "doc_lda = lda_model[corpus]"
      ],
      "execution_count": null,
      "outputs": [
        {
          "output_type": "stream",
          "name": "stdout",
          "text": [
            "[(0,\n",
            "  '0.471*\"notion\" + 0.471*\"misfired\" + 0.002*\"movie\" + 0.002*\"boring\" + '\n",
            "  '0.002*\"average\" + 0.002*\"completely\" + 0.002*\"choose\" + 0.002*\"forget\" + '\n",
            "  '0.002*\"script\" + 0.002*\"bad\"'),\n",
            " (1,\n",
            "  '0.037*\"second\" + 0.037*\"better\" + 0.037*\"could\" + 0.037*\"half\" + '\n",
            "  '0.037*\"emotion\" + 0.037*\"story\" + 0.037*\"end\" + 0.037*\"movie\" + '\n",
            "  '0.037*\"casting\" + 0.037*\"love\"'),\n",
            " (2,\n",
            "  '0.037*\"society\" + 0.037*\"show\" + 0.037*\"s\" + 0.037*\"happen\" + '\n",
            "  '0.037*\"misfired\" + 0.037*\"story\" + 0.037*\"good\" + 0.037*\"casting\" + '\n",
            "  '0.037*\"bad\" + 0.037*\"average\"'),\n",
            " (3,\n",
            "  '0.037*\"average\" + 0.037*\"choose\" + 0.037*\"bad\" + 0.037*\"completely\" + '\n",
            "  '0.037*\"good\" + 0.037*\"story\" + 0.037*\"casting\" + 0.037*\"forget\" + '\n",
            "  '0.037*\"script\" + 0.037*\"show\"'),\n",
            " (4,\n",
            "  '0.243*\"story\" + 0.243*\"bad\" + 0.243*\"good\" + 0.243*\"casting\" + '\n",
            "  '0.001*\"completely\" + 0.001*\"choose\" + 0.001*\"script\" + 0.001*\"forget\" + '\n",
            "  '0.001*\"movie\" + 0.001*\"boring\"'),\n",
            " (5,\n",
            "  '0.242*\"second\" + 0.242*\"better\" + 0.242*\"could\" + 0.242*\"half\" + '\n",
            "  '0.001*\"emotion\" + 0.001*\"story\" + 0.001*\"end\" + 0.001*\"movie\" + '\n",
            "  '0.001*\"casting\" + 0.001*\"love\"'),\n",
            " (6,\n",
            "  '0.037*\"boring\" + 0.037*\"bad\" + 0.037*\"better\" + 0.037*\"could\" + '\n",
            "  '0.037*\"half\" + 0.037*\"second\" + 0.037*\"misfired\" + 0.037*\"casting\" + '\n",
            "  '0.037*\"story\" + 0.037*\"good\"'),\n",
            " (7,\n",
            "  '0.485*\"movie\" + 0.485*\"average\" + 0.001*\"love\" + 0.001*\"emotion\" + '\n",
            "  '0.001*\"story\" + 0.001*\"end\" + 0.001*\"casting\" + 0.001*\"good\" + '\n",
            "  '0.001*\"happen\" + 0.001*\"show\"'),\n",
            " (8,\n",
            "  '0.037*\"watch\" + 0.037*\"must\" + 0.037*\"mahasamudram\" + 0.037*\"bad\" + '\n",
            "  '0.037*\"end\" + 0.037*\"good\" + 0.037*\"story\" + 0.037*\"movie\" + 0.037*\"happen\" '\n",
            "  '+ 0.037*\"s\"'),\n",
            " (9,\n",
            "  '0.037*\"end\" + 0.037*\"bad\" + 0.037*\"movie\" + 0.037*\"casting\" + 0.037*\"good\" '\n",
            "  '+ 0.037*\"story\" + 0.037*\"average\" + 0.037*\"show\" + 0.037*\"happen\" + '\n",
            "  '0.037*\"notion\"'),\n",
            " (10,\n",
            "  '0.321*\"watch\" + 0.321*\"must\" + 0.321*\"mahasamudram\" + 0.002*\"end\" + '\n",
            "  '0.002*\"emotion\" + 0.002*\"story\" + 0.002*\"casting\" + 0.002*\"movie\" + '\n",
            "  '0.002*\"show\" + 0.002*\"happen\"'),\n",
            " (11,\n",
            "  '0.888*\"bad\" + 0.004*\"average\" + 0.004*\"love\" + 0.004*\"movie\" + '\n",
            "  '0.004*\"emotion\" + 0.004*\"good\" + 0.004*\"end\" + 0.004*\"casting\" + '\n",
            "  '0.004*\"happen\" + 0.004*\"story\"'),\n",
            " (12,\n",
            "  '0.321*\"love\" + 0.321*\"emotion\" + 0.321*\"movie\" + 0.002*\"choose\" + '\n",
            "  '0.002*\"completely\" + 0.002*\"end\" + 0.002*\"average\" + 0.002*\"script\" + '\n",
            "  '0.002*\"forget\" + 0.002*\"good\"'),\n",
            " (13,\n",
            "  '0.242*\"completely\" + 0.242*\"forget\" + 0.242*\"script\" + 0.242*\"choose\" + '\n",
            "  '0.001*\"movie\" + 0.001*\"good\" + 0.001*\"story\" + 0.001*\"end\" + '\n",
            "  '0.001*\"casting\" + 0.001*\"show\"'),\n",
            " (14,\n",
            "  '0.243*\"show\" + 0.243*\"s\" + 0.243*\"society\" + 0.243*\"happen\" + '\n",
            "  '0.001*\"second\" + 0.001*\"better\" + 0.001*\"could\" + 0.001*\"half\" + '\n",
            "  '0.001*\"end\" + 0.001*\"story\"'),\n",
            " (15,\n",
            "  '0.888*\"end\" + 0.004*\"movie\" + 0.004*\"emotion\" + 0.004*\"casting\" + '\n",
            "  '0.004*\"good\" + 0.004*\"story\" + 0.004*\"average\" + 0.004*\"show\" + '\n",
            "  '0.004*\"happen\" + 0.004*\"notion\"'),\n",
            " (16,\n",
            "  '0.037*\"story\" + 0.037*\"bad\" + 0.037*\"show\" + 0.037*\"s\" + 0.037*\"happen\" + '\n",
            "  '0.037*\"casting\" + 0.037*\"society\" + 0.037*\"good\" + 0.037*\"end\" + '\n",
            "  '0.037*\"average\"'),\n",
            " (17,\n",
            "  '0.037*\"end\" + 0.037*\"watch\" + 0.037*\"must\" + 0.037*\"mahasamudram\" + '\n",
            "  '0.037*\"emotion\" + 0.037*\"story\" + 0.037*\"casting\" + 0.037*\"movie\" + '\n",
            "  '0.037*\"show\" + 0.037*\"happen\"'),\n",
            " (18,\n",
            "  '0.037*\"must\" + 0.037*\"watch\" + 0.037*\"mahasamudram\" + 0.037*\"forget\" + '\n",
            "  '0.037*\"script\" + 0.037*\"completely\" + 0.037*\"choose\" + 0.037*\"love\" + '\n",
            "  '0.037*\"end\" + 0.037*\"movie\"'),\n",
            " (19,\n",
            "  '0.888*\"boring\" + 0.004*\"average\" + 0.004*\"forget\" + 0.004*\"script\" + '\n",
            "  '0.004*\"completely\" + 0.004*\"choose\" + 0.004*\"movie\" + 0.004*\"story\" + '\n",
            "  '0.004*\"end\" + 0.004*\"good\"')]\n"
          ]
        }
      ]
    },
    {
      "cell_type": "code",
      "metadata": {
        "colab": {
          "base_uri": "https://localhost:8080/"
        },
        "id": "4gX18N6Fzbn0",
        "outputId": "221d8908-1b0d-487d-a861-9c87154a8ff9"
      },
      "source": [
        "print('\\nPerplexity: ', lda_model.log_perplexity(corpus))\n",
        "coherence_model_lda = CoherenceModel(model=lda_model, texts=data_lemmatized, dictionary=id2word, coherence='c_v')\n",
        "coherence_lda = coherence_model_lda.get_coherence()\n",
        "print('\\nCoherence Score: ', coherence_lda)"
      ],
      "execution_count": null,
      "outputs": [
        {
          "output_type": "stream",
          "name": "stdout",
          "text": [
            "\n",
            "Perplexity:  -2.8610436991337806\n",
            "\n",
            "Coherence Score:  0.669933613161464\n"
          ]
        }
      ]
    },
    {
      "cell_type": "code",
      "metadata": {
        "id": "9HknNmpQzfyF"
      },
      "source": [
        "mallet_path = '/content/mallet-2.0.8/bin/mallet'\n",
        "ldamallet = gensim.models.wrappers.LdaMallet(mallet_path, corpus=corpus, num_topics=20, id2word=id2word)"
      ],
      "execution_count": null,
      "outputs": []
    },
    {
      "cell_type": "code",
      "metadata": {
        "id": "JgLTGlmMzyS6"
      },
      "source": [
        "def compute_coherence_values(dictionary, corpus, texts, limit, start=2, step=3):\n",
        "    \"\"\"\n",
        "    Compute c_v coherence for various number of topics\n",
        "\n",
        "    Parameters:\n",
        "    ----------\n",
        "    dictionary : Gensim dictionary\n",
        "    corpus : Gensim corpus\n",
        "    texts : List of input texts\n",
        "    limit : Max num of topics\n",
        "\n",
        "    Returns:\n",
        "    -------\n",
        "    model_list : List of LDA topic models\n",
        "    coherence_values : Coherence values corresponding to the LDA model with respective number of topics\n",
        "    \"\"\"\n",
        "    coherence_values = []\n",
        "    model_list = []\n",
        "    for num_topics in range(start, limit, step):\n",
        "        model = gensim.models.wrappers.LdaMallet(mallet_path, corpus=corpus, num_topics=num_topics, id2word=id2word)\n",
        "        model_list.append(model)\n",
        "        coherencemodel = CoherenceModel(model=model, texts=texts, dictionary=dictionary, coherence='c_v')\n",
        "        coherence_values.append(coherencemodel.get_coherence())\n",
        "\n",
        "    return model_list, coherence_values"
      ],
      "execution_count": null,
      "outputs": []
    },
    {
      "cell_type": "code",
      "metadata": {
        "id": "JaMMXBxxz40Q"
      },
      "source": [
        "model_list, coherence_values = compute_coherence_values(dictionary=id2word, corpus=corpus, texts=data_lemmatized, start=2, limit=40, step=6)"
      ],
      "execution_count": null,
      "outputs": []
    },
    {
      "cell_type": "code",
      "metadata": {
        "colab": {
          "base_uri": "https://localhost:8080/",
          "height": 279
        },
        "id": "q_r0uOyoz67-",
        "outputId": "23c7c3e0-a78e-447d-ffe9-ec9ebe1d4a04"
      },
      "source": [
        "# Show graph\n",
        "limit=40; start=2; step=6;\n",
        "x = range(start, limit, step)\n",
        "plt.plot(x, coherence_values)\n",
        "plt.xlabel(\"Num Topics\")\n",
        "plt.ylabel(\"Coherence score\")\n",
        "plt.legend((\"coherence_values\"), loc='best')\n",
        "plt.show()"
      ],
      "execution_count": null,
      "outputs": [
        {
          "output_type": "display_data",
          "data": {
            "image/png": "[encoded data removed]",
            "text/plain": [
              "<Figure size 432x288 with 1 Axes>"
            ]
          },
          "metadata": {
            "needs_background": "light"
          }
        }
      ]
    },
    {
      "cell_type": "code",
      "metadata": {
        "colab": {
          "base_uri": "https://localhost:8080/"
        },
        "id": "QatUSaOGz78C",
        "outputId": "0287908b-88b3-45c8-f245-7ea4a6a5438f"
      },
      "source": [
        "for m, cv in zip(x, coherence_values):\n",
        "    print(\"Num Topics =\", m, \" has Coherence Value of\", round(cv, 4))"
      ],
      "execution_count": null,
      "outputs": [
        {
          "output_type": "stream",
          "name": "stdout",
          "text": [
            "Num Topics = 2  has Coherence Value of 0.7045\n",
            "Num Topics = 8  has Coherence Value of 0.6593\n",
            "Num Topics = 14  has Coherence Value of 0.6613\n",
            "Num Topics = 20  has Coherence Value of 0.6617\n",
            "Num Topics = 26  has Coherence Value of 0.6631\n",
            "Num Topics = 32  has Coherence Value of 0.662\n",
            "Num Topics = 38  has Coherence Value of 0.6626\n"
          ]
        }
      ]
    },
    {
      "cell_type": "code",
      "metadata": {
        "id": "owUiTaBm0Be3"
      },
      "source": [
        "lda_model = gensim.models.ldamodel.LdaModel(corpus=corpus,\n",
        "                                           id2word=id2word,\n",
        "                                           num_topics=14, \n",
        "                                           random_state=100,\n",
        "                                           update_every=1,\n",
        "                                           chunksize=100,\n",
        "                                           passes=10,\n",
        "                                           alpha='auto',\n",
        "                                           per_word_topics=True)"
      ],
      "execution_count": null,
      "outputs": []
    },
    {
      "cell_type": "code",
      "metadata": {
        "colab": {
          "base_uri": "https://localhost:8080/"
        },
        "id": "c9hvSP4g0CYc",
        "outputId": "94e9d642-6463-4f3b-8762-5b6986e3e1ca"
      },
      "source": [
        "optimal_model = model_list[3]\n",
        "model_topics = optimal_model.show_topics(formatted=False)\n",
        "pprint(optimal_model.print_topics(num_words=10))"
      ],
      "execution_count": null,
      "outputs": [
        {
          "output_type": "stream",
          "name": "stdout",
          "text": [
            "[(0,\n",
            "  '0.667*\"end\" + 0.333*\"society\" + 0.000*\"emotion\" + 0.000*\"casting\" + '\n",
            "  '0.000*\"good\" + 0.000*\"story\" + 0.000*\"average\" + 0.000*\"movie\" + '\n",
            "  '0.000*\"show\" + 0.000*\"s\"'),\n",
            " (1,\n",
            "  '1.000*\"casting\" + 0.000*\"movie\" + 0.000*\"emotion\" + 0.000*\"good\" + '\n",
            "  '0.000*\"story\" + 0.000*\"end\" + 0.000*\"average\" + 0.000*\"show\" + '\n",
            "  '0.000*\"happen\" + 0.000*\"notion\"'),\n",
            " (2,\n",
            "  '0.462*\"average\" + 0.385*\"misfired\" + 0.154*\"script\" + 0.000*\"movie\" + '\n",
            "  '0.000*\"good\" + 0.000*\"story\" + 0.000*\"end\" + 0.000*\"love\" + 0.000*\"show\" + '\n",
            "  '0.000*\"happen\"'),\n",
            " (3,\n",
            "  '1.000*\"happen\" + 0.000*\"end\" + 0.000*\"emotion\" + 0.000*\"casting\" + '\n",
            "  '0.000*\"good\" + 0.000*\"story\" + 0.000*\"average\" + 0.000*\"movie\" + '\n",
            "  '0.000*\"show\" + 0.000*\"s\"'),\n",
            " (4,\n",
            "  '0.588*\"choose\" + 0.412*\"script\" + 0.000*\"movie\" + 0.000*\"love\" + '\n",
            "  '0.000*\"good\" + 0.000*\"story\" + 0.000*\"end\" + 0.000*\"bad\" + 0.000*\"show\" + '\n",
            "  '0.000*\"s\"'),\n",
            " (5,\n",
            "  '0.556*\"completely\" + 0.444*\"forget\" + 0.000*\"movie\" + 0.000*\"casting\" + '\n",
            "  '0.000*\"good\" + 0.000*\"story\" + 0.000*\"end\" + 0.000*\"bad\" + 0.000*\"show\" + '\n",
            "  '0.000*\"happen\"'),\n",
            " (6,\n",
            "  '0.909*\"love\" + 0.091*\"forget\" + 0.000*\"movie\" + 0.000*\"good\" + '\n",
            "  '0.000*\"story\" + 0.000*\"end\" + 0.000*\"bad\" + 0.000*\"emotion\" + 0.000*\"show\" '\n",
            "  '+ 0.000*\"s\"'),\n",
            " (7,\n",
            "  '0.545*\"half\" + 0.273*\"average\" + 0.182*\"misfired\" + 0.000*\"end\" + '\n",
            "  '0.000*\"emotion\" + 0.000*\"good\" + 0.000*\"story\" + 0.000*\"show\" + '\n",
            "  '0.000*\"movie\" + 0.000*\"happen\"'),\n",
            " (8,\n",
            "  '0.526*\"watch\" + 0.474*\"mahasamudram\" + 0.000*\"end\" + 0.000*\"emotion\" + '\n",
            "  '0.000*\"good\" + 0.000*\"story\" + 0.000*\"bad\" + 0.000*\"movie\" + 0.000*\"show\" + '\n",
            "  '0.000*\"happen\"'),\n",
            " (9,\n",
            "  '0.667*\"bad\" + 0.333*\"movie\" + 0.000*\"casting\" + 0.000*\"good\" + '\n",
            "  '0.000*\"story\" + 0.000*\"end\" + 0.000*\"average\" + 0.000*\"show\" + '\n",
            "  '0.000*\"happen\" + 0.000*\"notion\"'),\n",
            " (10,\n",
            "  '0.909*\"notion\" + 0.091*\"bad\" + 0.000*\"casting\" + 0.000*\"good\" + '\n",
            "  '0.000*\"story\" + 0.000*\"end\" + 0.000*\"average\" + 0.000*\"movie\" + '\n",
            "  '0.000*\"show\" + 0.000*\"s\"'),\n",
            " (11,\n",
            "  '0.833*\"story\" + 0.167*\"end\" + 0.000*\"movie\" + 0.000*\"emotion\" + '\n",
            "  '0.000*\"casting\" + 0.000*\"good\" + 0.000*\"average\" + 0.000*\"show\" + '\n",
            "  '0.000*\"happen\" + 0.000*\"notion\"'),\n",
            " (12,\n",
            "  '0.667*\"show\" + 0.333*\"society\" + 0.000*\"end\" + 0.000*\"emotion\" + '\n",
            "  '0.000*\"casting\" + 0.000*\"good\" + 0.000*\"story\" + 0.000*\"average\" + '\n",
            "  '0.000*\"s\" + 0.000*\"happen\"'),\n",
            " (13,\n",
            "  '0.714*\"good\" + 0.143*\"bad\" + 0.071*\"forget\" + 0.071*\"misfired\" + '\n",
            "  '0.000*\"movie\" + 0.000*\"story\" + 0.000*\"end\" + 0.000*\"love\" + 0.000*\"show\" + '\n",
            "  '0.000*\"happen\"'),\n",
            " (14,\n",
            "  '1.000*\"bad\" + 0.000*\"movie\" + 0.000*\"casting\" + 0.000*\"good\" + '\n",
            "  '0.000*\"story\" + 0.000*\"end\" + 0.000*\"average\" + 0.000*\"show\" + '\n",
            "  '0.000*\"happen\" + 0.000*\"notion\"'),\n",
            " (15,\n",
            "  '0.909*\"emotion\" + 0.091*\"script\" + 0.000*\"love\" + 0.000*\"good\" + '\n",
            "  '0.000*\"story\" + 0.000*\"end\" + 0.000*\"movie\" + 0.000*\"bad\" + 0.000*\"show\" + '\n",
            "  '0.000*\"s\"'),\n",
            " (16,\n",
            "  '0.909*\"movie\" + 0.091*\"society\" + 0.000*\"emotion\" + 0.000*\"casting\" + '\n",
            "  '0.000*\"good\" + 0.000*\"story\" + 0.000*\"end\" + 0.000*\"average\" + 0.000*\"show\" '\n",
            "  '+ 0.000*\"s\"'),\n",
            " (17,\n",
            "  '0.714*\"boring\" + 0.286*\"half\" + 0.000*\"good\" + 0.000*\"story\" + 0.000*\"end\" '\n",
            "  '+ 0.000*\"movie\" + 0.000*\"bad\" + 0.000*\"emotion\" + 0.000*\"show\" + '\n",
            "  '0.000*\"happen\"'),\n",
            " (18,\n",
            "  '0.944*\"movie\" + 0.056*\"mahasamudram\" + 0.000*\"emotion\" + 0.000*\"good\" + '\n",
            "  '0.000*\"story\" + 0.000*\"end\" + 0.000*\"bad\" + 0.000*\"show\" + 0.000*\"happen\" + '\n",
            "  '0.000*\"notion\"'),\n",
            " (19,\n",
            "  '0.733*\"average\" + 0.133*\"misfired\" + 0.133*\"bad\" + 0.000*\"story\" + '\n",
            "  '0.000*\"end\" + 0.000*\"show\" + 0.000*\"casting\" + 0.000*\"good\" + 0.000*\"s\" + '\n",
            "  '0.000*\"love\"')]\n"
          ]
        }
      ]
    },
    {
      "cell_type": "code",
      "metadata": {
        "colab": {
          "base_uri": "https://localhost:8080/",
          "height": 357
        },
        "id": "yg8_DzOD1IyF",
        "outputId": "840f288d-04b2-46bb-a3e7-5497d2c54ad5"
      },
      "source": [
        "def format_topics_sentences(ldamodel=lda_model, corpus=corpus, texts=data):\n",
        "    sent_topics_df = pd.DataFrame()\n",
        "\n",
        "    \n",
        "    for i, row in enumerate(ldamodel[corpus]):\n",
        "        row = sorted(row, key=lambda x: (x[1]), reverse=True)\n",
        "        for j, (topic_num, prop_topic) in enumerate(row):\n",
        "            if j == 0:\n",
        "                wp = ldamodel.show_topic(topic_num)\n",
        "                topic_keywords = \", \".join([word for word, prop in wp])\n",
        "                sent_topics_df = sent_topics_df.append(pd.Series([int(topic_num), round(prop_topic,4), topic_keywords]), ignore_index=True)\n",
        "            else:\n",
        "                break\n",
        "    sent_topics_df.columns = ['Dominant_Topic', 'Perc_Contribution', 'Topic_Keywords']\n",
        "\n",
        "    contents = pd.Series(texts)\n",
        "    sent_topics_df = pd.concat([sent_topics_df, contents], axis=1)\n",
        "    return(sent_topics_df)\n",
        "\n",
        "\n",
        "df_topic_sents_keywords = format_topics_sentences(ldamodel=optimal_model, corpus=corpus, texts=data)\n",
        "\n",
        "\n",
        "df_dominant_topic = df_topic_sents_keywords.reset_index()\n",
        "df_dominant_topic.columns = ['Document_No', 'Dominant_Topic', 'Topic_Perc_Contrib', 'Keywords', 'Text']\n",
        "\n",
        "\n",
        "df_dominant_topic.head(10)"
      ],
      "execution_count": null,
      "outputs": [
        {
          "output_type": "execute_result",
          "data": {
            "text/html": [
              "<div>\n",
              "<style scoped>\n",
              "    .dataframe tbody tr th:only-of-type {\n",
              "        vertical-align: middle;\n",
              "    }\n",
              "\n",
              "    .dataframe tbody tr th {\n",
              "        vertical-align: top;\n",
              "    }\n",
              "\n",
              "    .dataframe thead th {\n",
              "        text-align: right;\n",
              "    }\n",
              "</style>\n",
              "<table border=\"1\" class=\"dataframe\">\n",
              "  <thead>\n",
              "    <tr style=\"text-align: right;\">\n",
              "      <th></th>\n",
              "      <th>Document_No</th>\n",
              "      <th>Dominant_Topic</th>\n",
              "      <th>Topic_Perc_Contrib</th>\n",
              "      <th>Keywords</th>\n",
              "      <th>Text</th>\n",
              "    </tr>\n",
              "  </thead>\n",
              "  <tbody>\n",
              "    <tr>\n",
              "      <th>0</th>\n",
              "      <td>0</td>\n",
              "      <td>5.0</td>\n",
              "      <td>0.0813</td>\n",
              "      <td>completely, forget, movie, casting, good, stor...</td>\n",
              "      <td>Sharwanand Completely forgot on how to choose...</td>\n",
              "    </tr>\n",
              "    <tr>\n",
              "      <th>1</th>\n",
              "      <td>1</td>\n",
              "      <td>7.0</td>\n",
              "      <td>0.0621</td>\n",
              "      <td>half, average, misfired, end, emotion, good, s...</td>\n",
              "      <td>Second half could have been better</td>\n",
              "    </tr>\n",
              "    <tr>\n",
              "      <th>2</th>\n",
              "      <td>2</td>\n",
              "      <td>17.0</td>\n",
              "      <td>0.0686</td>\n",
              "      <td>boring, half, good, story, end, movie, bad, em...</td>\n",
              "      <td>Boring</td>\n",
              "    </tr>\n",
              "    <tr>\n",
              "      <th>3</th>\n",
              "      <td>3</td>\n",
              "      <td>8.0</td>\n",
              "      <td>0.0865</td>\n",
              "      <td>watch, mahasamudram, end, emotion, good, story...</td>\n",
              "      <td>mahasamudram is a must watch</td>\n",
              "    </tr>\n",
              "    <tr>\n",
              "      <th>4</th>\n",
              "      <td>4</td>\n",
              "      <td>10.0</td>\n",
              "      <td>0.0673</td>\n",
              "      <td>notion, bad, casting, good, story, end, averag...</td>\n",
              "      <td>Misfired Notion</td>\n",
              "    </tr>\n",
              "    <tr>\n",
              "      <th>5</th>\n",
              "      <td>5</td>\n",
              "      <td>19.0</td>\n",
              "      <td>0.0621</td>\n",
              "      <td>average, misfired, bad, story, end, show, cast...</td>\n",
              "      <td>Below average👎</td>\n",
              "    </tr>\n",
              "    <tr>\n",
              "      <th>6</th>\n",
              "      <td>6</td>\n",
              "      <td>13.0</td>\n",
              "      <td>0.0689</td>\n",
              "      <td>good, bad, forget, misfired, movie, story, end...</td>\n",
              "      <td>Good story but bad casting</td>\n",
              "    </tr>\n",
              "    <tr>\n",
              "      <th>7</th>\n",
              "      <td>7</td>\n",
              "      <td>14.0</td>\n",
              "      <td>0.0621</td>\n",
              "      <td>bad, movie, casting, good, story, end, average...</td>\n",
              "      <td>Not too bad</td>\n",
              "    </tr>\n",
              "    <tr>\n",
              "      <th>8</th>\n",
              "      <td>8</td>\n",
              "      <td>0.0</td>\n",
              "      <td>0.0664</td>\n",
              "      <td>end, society, emotion, casting, good, story, a...</td>\n",
              "      <td>Till the end</td>\n",
              "    </tr>\n",
              "    <tr>\n",
              "      <th>9</th>\n",
              "      <td>9</td>\n",
              "      <td>0.0</td>\n",
              "      <td>0.0500</td>\n",
              "      <td>end, society, emotion, casting, good, story, a...</td>\n",
              "      <td>Maha soonyam</td>\n",
              "    </tr>\n",
              "  </tbody>\n",
              "</table>\n",
              "</div>"
            ],
            "text/plain": [
              "   Document_No  ...                                               Text\n",
              "0            0  ...   Sharwanand Completely forgot on how to choose...\n",
              "1            1  ...                Second half could have been better \n",
              "2            2  ...                                            Boring \n",
              "3            3  ...                      mahasamudram is a must watch \n",
              "4            4  ...                                   Misfired Notion \n",
              "5            5  ...                                    Below average👎 \n",
              "6            6  ...                        Good story but bad casting \n",
              "7            7  ...                                       Not too bad \n",
              "8            8  ...                                      Till the end \n",
              "9            9  ...                                      Maha soonyam \n",
              "\n",
              "[10 rows x 5 columns]"
            ]
          },
          "metadata": {},
          "execution_count": 20
        }
      ]
    },
    {
      "cell_type": "code",
      "metadata": {
        "colab": {
          "base_uri": "https://localhost:8080/",
          "height": 203
        },
        "id": "Azsg2ENI1emf",
        "outputId": "7ce7ace6-396e-4085-85e3-cc866dd7713c"
      },
      "source": [
        "sent_topics_sorteddf_mallet = pd.DataFrame()\n",
        "\n",
        "sent_topics_outdf_grpd = df_topic_sents_keywords.groupby('Dominant_Topic')\n",
        "\n",
        "for i, grp in sent_topics_outdf_grpd:\n",
        "    sent_topics_sorteddf_mallet = pd.concat([sent_topics_sorteddf_mallet, \n",
        "                                             grp.sort_values(['Perc_Contribution'], ascending=[0]).head(1)], \n",
        "                                            axis=0)\n",
        "\n",
        "  \n",
        "sent_topics_sorteddf_mallet.reset_index(drop=True, inplace=True)\n",
        "\n",
        "\n",
        "sent_topics_sorteddf_mallet.columns = ['Topic_Num', \"Topic_Perc_Contrib\", \"Keywords\", \"Text\"]\n",
        "\n",
        "\n",
        "sent_topics_sorteddf_mallet.head()"
      ],
      "execution_count": null,
      "outputs": [
        {
          "output_type": "execute_result",
          "data": {
            "text/html": [
              "<div>\n",
              "<style scoped>\n",
              "    .dataframe tbody tr th:only-of-type {\n",
              "        vertical-align: middle;\n",
              "    }\n",
              "\n",
              "    .dataframe tbody tr th {\n",
              "        vertical-align: top;\n",
              "    }\n",
              "\n",
              "    .dataframe thead th {\n",
              "        text-align: right;\n",
              "    }\n",
              "</style>\n",
              "<table border=\"1\" class=\"dataframe\">\n",
              "  <thead>\n",
              "    <tr style=\"text-align: right;\">\n",
              "      <th></th>\n",
              "      <th>Topic_Num</th>\n",
              "      <th>Topic_Perc_Contrib</th>\n",
              "      <th>Keywords</th>\n",
              "      <th>Text</th>\n",
              "    </tr>\n",
              "  </thead>\n",
              "  <tbody>\n",
              "    <tr>\n",
              "      <th>0</th>\n",
              "      <td>0.0</td>\n",
              "      <td>0.0686</td>\n",
              "      <td>end, society, emotion, casting, good, story, a...</td>\n",
              "      <td>Till the end</td>\n",
              "    </tr>\n",
              "    <tr>\n",
              "      <th>1</th>\n",
              "      <td>1.0</td>\n",
              "      <td>0.0669</td>\n",
              "      <td>casting, movie, emotion, good, story, end, ave...</td>\n",
              "      <td>Good story but bad casting</td>\n",
              "    </tr>\n",
              "    <tr>\n",
              "      <th>2</th>\n",
              "      <td>2.0</td>\n",
              "      <td>0.0577</td>\n",
              "      <td>average, misfired, script, movie, good, story,...</td>\n",
              "      <td>Below average👎</td>\n",
              "    </tr>\n",
              "    <tr>\n",
              "      <th>3</th>\n",
              "      <td>3.0</td>\n",
              "      <td>0.0660</td>\n",
              "      <td>happen, end, emotion, casting, good, story, av...</td>\n",
              "      <td>Showing something thats happening in society..</td>\n",
              "    </tr>\n",
              "    <tr>\n",
              "      <th>4</th>\n",
              "      <td>4.0</td>\n",
              "      <td>0.0813</td>\n",
              "      <td>choose, script, movie, love, good, story, end,...</td>\n",
              "      <td>Sharwanand Completely forgot on how to choose...</td>\n",
              "    </tr>\n",
              "  </tbody>\n",
              "</table>\n",
              "</div>"
            ],
            "text/plain": [
              "   Topic_Num  ...                                               Text\n",
              "0        0.0  ...                                      Till the end \n",
              "1        1.0  ...                        Good story but bad casting \n",
              "2        2.0  ...                                    Below average👎 \n",
              "3        3.0  ...    Showing something thats happening in society.. \n",
              "4        4.0  ...   Sharwanand Completely forgot on how to choose...\n",
              "\n",
              "[5 rows x 4 columns]"
            ]
          },
          "metadata": {},
          "execution_count": 21
        }
      ]
    },
    {
      "cell_type": "code",
      "metadata": {
        "colab": {
          "base_uri": "https://localhost:8080/",
          "height": 417
        },
        "id": "mzWO0Ozh1jog",
        "outputId": "ba17b860-5595-44b9-8f64-9ff594a9c19c"
      },
      "source": [
        "\n",
        "topic_counts = df_topic_sents_keywords['Dominant_Topic'].value_counts()\n",
        "\n",
        "\n",
        "topic_contribution = round(topic_counts/topic_counts.sum(), 4)\n",
        "\n",
        "\n",
        "topic_num_keywords = df_topic_sents_keywords[['Dominant_Topic', 'Topic_Keywords']]\n",
        "\n",
        "\n",
        "df_dominant_topics = pd.concat([topic_num_keywords, topic_counts, topic_contribution], axis=1)\n",
        "\n",
        "\n",
        "df_dominant_topics.columns = ['Dominant_Topic', 'Topic_Keywords', 'Num_Documents', 'Perc_Documents']\n",
        "\n",
        "\n",
        "df_dominant_topics"
      ],
      "execution_count": null,
      "outputs": [
        {
          "output_type": "execute_result",
          "data": {
            "text/html": [
              "<div>\n",
              "<style scoped>\n",
              "    .dataframe tbody tr th:only-of-type {\n",
              "        vertical-align: middle;\n",
              "    }\n",
              "\n",
              "    .dataframe tbody tr th {\n",
              "        vertical-align: top;\n",
              "    }\n",
              "\n",
              "    .dataframe thead th {\n",
              "        text-align: right;\n",
              "    }\n",
              "</style>\n",
              "<table border=\"1\" class=\"dataframe\">\n",
              "  <thead>\n",
              "    <tr style=\"text-align: right;\">\n",
              "      <th></th>\n",
              "      <th>Dominant_Topic</th>\n",
              "      <th>Topic_Keywords</th>\n",
              "      <th>Num_Documents</th>\n",
              "      <th>Perc_Documents</th>\n",
              "    </tr>\n",
              "  </thead>\n",
              "  <tbody>\n",
              "    <tr>\n",
              "      <th>0.0</th>\n",
              "      <td>5.0</td>\n",
              "      <td>completely, forget, movie, casting, good, stor...</td>\n",
              "      <td>20.0</td>\n",
              "      <td>0.1429</td>\n",
              "    </tr>\n",
              "    <tr>\n",
              "      <th>1.0</th>\n",
              "      <td>7.0</td>\n",
              "      <td>half, average, misfired, end, emotion, good, s...</td>\n",
              "      <td>6.0</td>\n",
              "      <td>0.0429</td>\n",
              "    </tr>\n",
              "    <tr>\n",
              "      <th>2.0</th>\n",
              "      <td>17.0</td>\n",
              "      <td>boring, half, good, story, end, movie, bad, em...</td>\n",
              "      <td>5.0</td>\n",
              "      <td>0.0357</td>\n",
              "    </tr>\n",
              "    <tr>\n",
              "      <th>3.0</th>\n",
              "      <td>8.0</td>\n",
              "      <td>watch, mahasamudram, end, emotion, good, story...</td>\n",
              "      <td>1.0</td>\n",
              "      <td>0.0071</td>\n",
              "    </tr>\n",
              "    <tr>\n",
              "      <th>4.0</th>\n",
              "      <td>10.0</td>\n",
              "      <td>notion, bad, casting, good, story, end, averag...</td>\n",
              "      <td>2.0</td>\n",
              "      <td>0.0143</td>\n",
              "    </tr>\n",
              "    <tr>\n",
              "      <th>...</th>\n",
              "      <td>...</td>\n",
              "      <td>...</td>\n",
              "      <td>...</td>\n",
              "      <td>...</td>\n",
              "    </tr>\n",
              "    <tr>\n",
              "      <th>135.0</th>\n",
              "      <td>0.0</td>\n",
              "      <td>end, society, emotion, casting, good, story, a...</td>\n",
              "      <td>NaN</td>\n",
              "      <td>NaN</td>\n",
              "    </tr>\n",
              "    <tr>\n",
              "      <th>136.0</th>\n",
              "      <td>16.0</td>\n",
              "      <td>movie, society, emotion, casting, good, story,...</td>\n",
              "      <td>NaN</td>\n",
              "      <td>NaN</td>\n",
              "    </tr>\n",
              "    <tr>\n",
              "      <th>137.0</th>\n",
              "      <td>16.0</td>\n",
              "      <td>movie, society, emotion, casting, good, story,...</td>\n",
              "      <td>NaN</td>\n",
              "      <td>NaN</td>\n",
              "    </tr>\n",
              "    <tr>\n",
              "      <th>138.0</th>\n",
              "      <td>6.0</td>\n",
              "      <td>love, forget, movie, good, story, end, bad, em...</td>\n",
              "      <td>NaN</td>\n",
              "      <td>NaN</td>\n",
              "    </tr>\n",
              "    <tr>\n",
              "      <th>139.0</th>\n",
              "      <td>12.0</td>\n",
              "      <td>show, society, end, emotion, casting, good, st...</td>\n",
              "      <td>NaN</td>\n",
              "      <td>NaN</td>\n",
              "    </tr>\n",
              "  </tbody>\n",
              "</table>\n",
              "<p>140 rows × 4 columns</p>\n",
              "</div>"
            ],
            "text/plain": [
              "       Dominant_Topic  ... Perc_Documents\n",
              "0.0               5.0  ...         0.1429\n",
              "1.0               7.0  ...         0.0429\n",
              "2.0              17.0  ...         0.0357\n",
              "3.0               8.0  ...         0.0071\n",
              "4.0              10.0  ...         0.0143\n",
              "...               ...  ...            ...\n",
              "135.0             0.0  ...            NaN\n",
              "136.0            16.0  ...            NaN\n",
              "137.0            16.0  ...            NaN\n",
              "138.0             6.0  ...            NaN\n",
              "139.0            12.0  ...            NaN\n",
              "\n",
              "[140 rows x 4 columns]"
            ]
          },
          "metadata": {},
          "execution_count": 22
        }
      ]
    },
    {
      "cell_type": "markdown",
      "metadata": {
        "id": "5-2xOHctBdPJ"
      },
      "source": [
        "## **(2) (15 points) Generate K topics by using LSA, the number of topics K should be decided by the coherence score, then summarize what are the topics. You may refer the code here:**\n",
        "\n",
        "https://www.datacamp.com/community/tutorials/discovering-hidden-topics-python"
      ]
    },
    {
      "cell_type": "code",
      "metadata": {
        "id": "OyaeKBAt-GIf"
      },
      "source": [
        "# Write your code here\n",
        "\n",
        "import os.path\n",
        "from gensim import corpora\n",
        "from gensim.models import LsiModel\n",
        "from nltk.tokenize import RegexpTokenizer\n",
        "from nltk.corpus import stopwords\n",
        "from nltk.stem.porter import PorterStemmer\n",
        "from gensim.models.coherencemodel import CoherenceModel\n",
        "import matplotlib.pyplot as plt\n"
      ],
      "execution_count": null,
      "outputs": []
    },
    {
      "cell_type": "code",
      "metadata": {
        "colab": {
          "base_uri": "https://localhost:8080/"
        },
        "id": "9jxWyrAM-SGP",
        "outputId": "891708b0-1374-48aa-d455-c9a9f0caf392"
      },
      "source": [
        "def preprocess_data(doc_set):\n",
        "    \n",
        "    tokenizer = RegexpTokenizer(r'\\w+')\n",
        "    \n",
        "    en_stop = set(stopwords.words('english'))\n",
        "    \n",
        "    p_stemmer = PorterStemmer()\n",
        "    \n",
        "    texts = []\n",
        "    \n",
        "    for i in doc_set:\n",
        "        \n",
        "        raw = i.lower()\n",
        "        tokens = tokenizer.tokenize(raw)\n",
        "        \n",
        "        stopped_tokens = [i for i in tokens if not i in en_stop]\n",
        "        \n",
        "        stemmed_tokens = [p_stemmer.stem(i) for i in stopped_tokens]\n",
        "        \n",
        "        texts.append(stemmed_tokens)\n",
        "    return texts\n",
        "preprocess_data(data)"
      ],
      "execution_count": null,
      "outputs": [
        {
          "output_type": "execute_result",
          "data": {
            "text/plain": [
              "[['sharwanand', 'complet', 'forgot', 'choos', 'script'],\n",
              " ['second', 'half', 'could', 'better'],\n",
              " ['bore'],\n",
              " ['mahasamudram', 'must', 'watch'],\n",
              " ['misfir', 'notion'],\n",
              " ['averag'],\n",
              " ['good', 'stori', 'bad', 'cast'],\n",
              " ['bad'],\n",
              " ['till', 'end'],\n",
              " ['maha', 'soonyam'],\n",
              " ['averag', 'movi'],\n",
              " ['super', 'movi'],\n",
              " ['love', 'emot', 'movi'],\n",
              " ['show', 'someth', 'that', 'happen', 'societi'],\n",
              " ['sharwanand', 'complet', 'forgot', 'choos', 'script'],\n",
              " ['second', 'half', 'could', 'better'],\n",
              " ['bore'],\n",
              " ['mahasamudram', 'must', 'watch'],\n",
              " ['misfir', 'notion'],\n",
              " ['averag'],\n",
              " ['good', 'stori', 'bad', 'cast'],\n",
              " ['bad'],\n",
              " ['till', 'end'],\n",
              " ['maha', 'soonyam'],\n",
              " ['averag', 'movi'],\n",
              " ['super', 'movi'],\n",
              " ['love', 'emot', 'movi'],\n",
              " ['show', 'someth', 'that', 'happen', 'societi'],\n",
              " ['sharwanand', 'complet', 'forgot', 'choos', 'script'],\n",
              " ['second', 'half', 'could', 'better'],\n",
              " ['bore'],\n",
              " ['mahasamudram', 'must', 'watch'],\n",
              " ['misfir', 'notion'],\n",
              " ['averag'],\n",
              " ['good', 'stori', 'bad', 'cast'],\n",
              " ['bad'],\n",
              " ['till', 'end'],\n",
              " ['maha', 'soonyam'],\n",
              " ['averag', 'movi'],\n",
              " ['super', 'movi'],\n",
              " ['love', 'emot', 'movi'],\n",
              " ['show', 'someth', 'that', 'happen', 'societi'],\n",
              " ['sharwanand', 'complet', 'forgot', 'choos', 'script'],\n",
              " ['second', 'half', 'could', 'better'],\n",
              " ['bore'],\n",
              " ['mahasamudram', 'must', 'watch'],\n",
              " ['misfir', 'notion'],\n",
              " ['averag'],\n",
              " ['good', 'stori', 'bad', 'cast'],\n",
              " ['bad'],\n",
              " ['till', 'end'],\n",
              " ['maha', 'soonyam'],\n",
              " ['averag', 'movi'],\n",
              " ['super', 'movi'],\n",
              " ['love', 'emot', 'movi'],\n",
              " ['show', 'someth', 'that', 'happen', 'societi'],\n",
              " ['sharwanand', 'complet', 'forgot', 'choos', 'script'],\n",
              " ['second', 'half', 'could', 'better'],\n",
              " ['bore'],\n",
              " ['mahasamudram', 'must', 'watch'],\n",
              " ['misfir', 'notion'],\n",
              " ['averag'],\n",
              " ['good', 'stori', 'bad', 'cast'],\n",
              " ['bad'],\n",
              " ['till', 'end'],\n",
              " ['maha', 'soonyam'],\n",
              " ['averag', 'movi'],\n",
              " ['super', 'movi'],\n",
              " ['love', 'emot', 'movi'],\n",
              " ['show', 'someth', 'that', 'happen', 'societi'],\n",
              " ['sharwanand', 'complet', 'forgot', 'choos', 'script'],\n",
              " ['second', 'half', 'could', 'better'],\n",
              " ['bore'],\n",
              " ['mahasamudram', 'must', 'watch'],\n",
              " ['misfir', 'notion'],\n",
              " ['averag'],\n",
              " ['good', 'stori', 'bad', 'cast'],\n",
              " ['bad'],\n",
              " ['till', 'end'],\n",
              " ['maha', 'soonyam'],\n",
              " ['averag', 'movi'],\n",
              " ['super', 'movi'],\n",
              " ['love', 'emot', 'movi'],\n",
              " ['show', 'someth', 'that', 'happen', 'societi'],\n",
              " ['sharwanand', 'complet', 'forgot', 'choos', 'script'],\n",
              " ['second', 'half', 'could', 'better'],\n",
              " ['bore'],\n",
              " ['mahasamudram', 'must', 'watch'],\n",
              " ['misfir', 'notion'],\n",
              " ['averag'],\n",
              " ['good', 'stori', 'bad', 'cast'],\n",
              " ['bad'],\n",
              " ['till', 'end'],\n",
              " ['maha', 'soonyam'],\n",
              " ['averag', 'movi'],\n",
              " ['super', 'movi'],\n",
              " ['love', 'emot', 'movi'],\n",
              " ['show', 'someth', 'that', 'happen', 'societi'],\n",
              " ['sharwanand', 'complet', 'forgot', 'choos', 'script'],\n",
              " ['second', 'half', 'could', 'better'],\n",
              " ['bore'],\n",
              " ['mahasamudram', 'must', 'watch'],\n",
              " ['misfir', 'notion'],\n",
              " ['averag'],\n",
              " ['good', 'stori', 'bad', 'cast'],\n",
              " ['bad'],\n",
              " ['till', 'end'],\n",
              " ['maha', 'soonyam'],\n",
              " ['averag', 'movi'],\n",
              " ['super', 'movi'],\n",
              " ['love', 'emot', 'movi'],\n",
              " ['show', 'someth', 'that', 'happen', 'societi'],\n",
              " ['sharwanand', 'complet', 'forgot', 'choos', 'script'],\n",
              " ['second', 'half', 'could', 'better'],\n",
              " ['bore'],\n",
              " ['mahasamudram', 'must', 'watch'],\n",
              " ['misfir', 'notion'],\n",
              " ['averag'],\n",
              " ['good', 'stori', 'bad', 'cast'],\n",
              " ['bad'],\n",
              " ['till', 'end'],\n",
              " ['maha', 'soonyam'],\n",
              " ['averag', 'movi'],\n",
              " ['super', 'movi'],\n",
              " ['love', 'emot', 'movi'],\n",
              " ['show', 'someth', 'that', 'happen', 'societi'],\n",
              " ['sharwanand', 'complet', 'forgot', 'choos', 'script'],\n",
              " ['second', 'half', 'could', 'better'],\n",
              " ['bore'],\n",
              " ['mahasamudram', 'must', 'watch'],\n",
              " ['misfir', 'notion'],\n",
              " ['averag'],\n",
              " ['good', 'stori', 'bad', 'cast'],\n",
              " ['bad'],\n",
              " ['till', 'end'],\n",
              " ['maha', 'soonyam'],\n",
              " ['averag', 'movi'],\n",
              " ['super', 'movi'],\n",
              " ['love', 'emot', 'movi'],\n",
              " ['show', 'someth', 'that', 'happen', 'societi']]"
            ]
          },
          "metadata": {},
          "execution_count": 24
        }
      ]
    },
    {
      "cell_type": "code",
      "metadata": {
        "id": "ibXOVndt-UoH"
      },
      "source": [
        "def prepare_corpus(doc_clean):\n",
        "    \n",
        "    dictionary = corpora.Dictionary(doc_clean)\n",
        "    doc_term_matrix = [dictionary.doc2bow(doc) for doc in doc_clean]\n",
        "    return dictionary,doc_term_matrix"
      ],
      "execution_count": null,
      "outputs": []
    },
    {
      "cell_type": "code",
      "metadata": {
        "id": "G56GtBhG-XVy"
      },
      "source": [
        "number_of_topics=7\n",
        "words=10"
      ],
      "execution_count": null,
      "outputs": []
    },
    {
      "cell_type": "code",
      "metadata": {
        "id": "yzK4IGEA-Zqz"
      },
      "source": [
        "def create_gensim_lsa_model(doc_clean,number_of_topics,words):\n",
        "    dictionary,doc_term_matrix=prepare_corpus(doc_clean)\n",
        "    lsamodel = LsiModel(doc_term_matrix, num_topics=number_of_topics, id2word = dictionary)  # train model\n",
        "    print(lsamodel.print_topics(num_topics=number_of_topics, num_words=words))\n",
        "    return lsamodel"
      ],
      "execution_count": null,
      "outputs": []
    },
    {
      "cell_type": "code",
      "metadata": {
        "id": "mWq0ucWy-bfF"
      },
      "source": [
        "def compute_coherence_values(dictionary, doc_term_matrix, doc_clean, stop, start=2, step=3):\n",
        "    coherence_values = []\n",
        "    model_list = []\n",
        "    for num_topics in range(start, stop, step):\n",
        "        model = LsiModel(doc_term_matrix, num_topics=number_of_topics, id2word = dictionary)  # train model\n",
        "        model_list.append(model)\n",
        "        coherencemodel = CoherenceModel(model=model, texts=doc_clean, dictionary=dictionary, coherence='c_v')\n",
        "        coherence_values.append(coherencemodel.get_coherence())\n",
        "    return model_list, coherence_values"
      ],
      "execution_count": null,
      "outputs": []
    },
    {
      "cell_type": "code",
      "metadata": {
        "id": "1D-N9t-Y-eZL"
      },
      "source": [
        "def plot_graph(doc_clean,start, stop, step):\n",
        "    dictionary,doc_term_matrix=prepare_corpus(doc_clean)\n",
        "    model_list, coherence_values = compute_coherence_values(dictionary, doc_term_matrix,doc_clean,\n",
        "                                                            stop, start, step)\n",
        "    # Show graph\n",
        "    x = range(start, stop, step)\n",
        "    plt.plot(x, coherence_values)\n",
        "    plt.xlabel(\"Number of Topics\")\n",
        "    plt.ylabel(\"Coherence score\")\n",
        "    plt.legend((\"coherence_values\"), loc='best')\n",
        "    plt.show()"
      ],
      "execution_count": null,
      "outputs": []
    },
    {
      "cell_type": "code",
      "metadata": {
        "colab": {
          "base_uri": "https://localhost:8080/",
          "height": 279
        },
        "id": "WdFoHyTm-goe",
        "outputId": "9b2f7170-66c7-45ae-ba81-532232b8d936"
      },
      "source": [
        "start,stop,step=2,12,1\n",
        "plot_graph(preprocess_data(data),start,stop,step)"
      ],
      "execution_count": null,
      "outputs": [
        {
          "output_type": "display_data",
          "data": {
            "image/png": "[encoded data removed]",
            "text/plain": [
              "<Figure size 432x288 with 1 Axes>"
            ]
          },
          "metadata": {
            "needs_background": "light"
          }
        }
      ]
    },
    {
      "cell_type": "code",
      "metadata": {
        "colab": {
          "base_uri": "https://localhost:8080/"
        },
        "id": "QbbmHMsW-ibH",
        "outputId": "9e4a5aaf-4a3b-4e4f-9aa6-5b3c039e082f"
      },
      "source": [
        "model=create_gensim_lsa_model(preprocess_data(data),number_of_topics,words)"
      ],
      "execution_count": null,
      "outputs": [
        {
          "output_type": "stream",
          "name": "stdout",
          "text": [
            "[(0, '0.425*\"happen\" + 0.425*\"that\" + 0.425*\"someth\" + 0.425*\"societi\" + 0.425*\"show\" + 0.139*\"script\" + 0.139*\"choos\" + 0.139*\"forgot\" + 0.139*\"complet\" + 0.139*\"sharwanand\"'), (1, '0.425*\"forgot\" + 0.425*\"complet\" + 0.425*\"choos\" + 0.425*\"sharwanand\" + 0.425*\"script\" + -0.139*\"societi\" + -0.139*\"that\" + -0.139*\"someth\" + -0.139*\"happen\" + -0.139*\"show\"'), (2, '0.799*\"movi\" + 0.321*\"averag\" + 0.321*\"love\" + 0.321*\"emot\" + 0.229*\"super\" + -0.000*\"happen\" + -0.000*\"someth\" + -0.000*\"societi\" + -0.000*\"show\" + -0.000*\"that\"'), (3, '0.601*\"bad\" + 0.461*\"good\" + 0.461*\"stori\" + 0.461*\"cast\" + -0.000*\"movi\" + -0.000*\"averag\" + 0.000*\"forgot\" + -0.000*\"love\" + -0.000*\"emot\" + 0.000*\"script\"'), (4, '0.500*\"half\" + 0.500*\"second\" + 0.500*\"could\" + 0.500*\"better\" + -0.000*\"bad\" + -0.000*\"cast\" + -0.000*\"stori\" + -0.000*\"good\" + 0.000*\"mahasamudram\" + 0.000*\"watch\"'), (5, '-0.577*\"watch\" + -0.577*\"must\" + -0.577*\"mahasamudram\" + -0.000*\"movi\" + 0.000*\"half\" + -0.000*\"love\" + -0.000*\"emot\" + 0.000*\"could\" + 0.000*\"better\" + 0.000*\"soonyam\"'), (6, '0.585*\"till\" + 0.585*\"end\" + -0.317*\"soonyam\" + -0.317*\"maha\" + -0.277*\"averag\" + 0.138*\"love\" + 0.138*\"emot\" + 0.010*\"notion\" + 0.010*\"misfir\" + -0.000*\"must\"')]\n"
          ]
        }
      ]
    },
    {
      "cell_type": "markdown",
      "metadata": {
        "id": "KxKNvCGa-zZu"
      },
      "source": [
        "**(3) (10 points) Compare the results generated by the two topic modeling algorithms, which one is better? You should explain the reasons in details.**"
      ]
    },
    {
      "cell_type": "markdown",
      "metadata": {
        "id": "FEg3bj4A-2gE"
      },
      "source": [
        "Topic Modeling may be tested using the notion of Topic Coherence. A variety of methods are used to obtain topic models. The two methodologies are Latent Semantic Analysis (LSA) and Latent Dirichlet Allocation (LDA). The LDA (Leadership Development Agency) is a non-profit organization that promotes leadership development.\n",
        "\n",
        "The LDA subject model relies on two major inputs: a dictionary and a corpus. Gensim assigns a unique id to each word in the document. In addition to the corpus and dictionary, we must also consider the amount of subjects.\n",
        "\n",
        "\n",
        "\n",
        "We may use the LDA visualization tool pyLDAvis to experiment with a small number of themes and compare the results.\n",
        "\n",
        "\n",
        "\n",
        "Topic coherence is one of the most widely used methods for estimating the number of topics."
      ]
    }
  ]
}