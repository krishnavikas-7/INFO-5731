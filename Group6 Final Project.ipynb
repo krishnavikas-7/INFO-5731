{
 "cells": [
  {
   "cell_type": "code",
   "execution_count": 1,
   "id": "49fbf785",
   "metadata": {},
   "outputs": [],
   "source": [
    "import pandas as pd\n",
    "import numpy as np\n",
    "import seaborn as sns"
   ]
  },
  {
   "cell_type": "code",
   "execution_count": 2,
   "id": "ba31979b",
   "metadata": {},
   "outputs": [
    {
     "data": {
      "text/html": [
       "<div>\n",
       "<style scoped>\n",
       "    .dataframe tbody tr th:only-of-type {\n",
       "        vertical-align: middle;\n",
       "    }\n",
       "\n",
       "    .dataframe tbody tr th {\n",
       "        vertical-align: top;\n",
       "    }\n",
       "\n",
       "    .dataframe thead th {\n",
       "        text-align: right;\n",
       "    }\n",
       "</style>\n",
       "<table border=\"1\" class=\"dataframe\">\n",
       "  <thead>\n",
       "    <tr style=\"text-align: right;\">\n",
       "      <th></th>\n",
       "      <th>Concepts</th>\n",
       "      <th>Definition</th>\n",
       "      <th>CleanedTweet</th>\n",
       "      <th>Label</th>\n",
       "    </tr>\n",
       "  </thead>\n",
       "  <tbody>\n",
       "    <tr>\n",
       "      <th>0</th>\n",
       "      <td>Acute myocardial infarction</td>\n",
       "      <td>Necrosis of the myocardium, as a result of int...</td>\n",
       "      <td>acute myocardial infarction is a blockage of b...</td>\n",
       "      <td>1</td>\n",
       "    </tr>\n",
       "    <tr>\n",
       "      <th>1</th>\n",
       "      <td>Acute myocardial infarction</td>\n",
       "      <td>Necrosis of the myocardium, as a result of int...</td>\n",
       "      <td>acutemyocardialinfarction is a pathology chara...</td>\n",
       "      <td>1</td>\n",
       "    </tr>\n",
       "    <tr>\n",
       "      <th>2</th>\n",
       "      <td>Acute myocardial infarction</td>\n",
       "      <td>Necrosis of the myocardium, as a result of int...</td>\n",
       "      <td>physical activity and anger or emotional upset...</td>\n",
       "      <td>1</td>\n",
       "    </tr>\n",
       "    <tr>\n",
       "      <th>3</th>\n",
       "      <td>Acute myocardial infarction</td>\n",
       "      <td>Necrosis of the myocardium, as a result of int...</td>\n",
       "      <td>thrombus composition in sudden cardiacdeath fr...</td>\n",
       "      <td>1</td>\n",
       "    </tr>\n",
       "    <tr>\n",
       "      <th>4</th>\n",
       "      <td>Acute myocardial infarction</td>\n",
       "      <td>Necrosis of the myocardium, as a result of int...</td>\n",
       "      <td>respiratoryinfection associated with increased...</td>\n",
       "      <td>1</td>\n",
       "    </tr>\n",
       "    <tr>\n",
       "      <th>...</th>\n",
       "      <td>...</td>\n",
       "      <td>...</td>\n",
       "      <td>...</td>\n",
       "      <td>...</td>\n",
       "    </tr>\n",
       "    <tr>\n",
       "      <th>3428</th>\n",
       "      <td>Pleurisy</td>\n",
       "      <td>\\ninflammation of the pleura, with exudation i...</td>\n",
       "      <td>lupusfact lupus can attack your lungs potenti...</td>\n",
       "      <td>1</td>\n",
       "    </tr>\n",
       "    <tr>\n",
       "      <th>3429</th>\n",
       "      <td>Pleurisy</td>\n",
       "      <td>\\ninflammation of the pleura, with exudation i...</td>\n",
       "      <td>lupusfact lupus can attack your lungs potenti...</td>\n",
       "      <td>1</td>\n",
       "    </tr>\n",
       "    <tr>\n",
       "      <th>3430</th>\n",
       "      <td>Pleurisy</td>\n",
       "      <td>\\ninflammation of the pleura, with exudation i...</td>\n",
       "      <td>lupusfact lupus can attack your lungs potenti...</td>\n",
       "      <td>1</td>\n",
       "    </tr>\n",
       "    <tr>\n",
       "      <th>3431</th>\n",
       "      <td>Pleurisy</td>\n",
       "      <td>\\ninflammation of the pleura, with exudation i...</td>\n",
       "      <td>lupusfact lupus can attack your lungs potenti...</td>\n",
       "      <td>0</td>\n",
       "    </tr>\n",
       "    <tr>\n",
       "      <th>3432</th>\n",
       "      <td>Pleurisy</td>\n",
       "      <td>\\ninflammation of the pleura, with exudation i...</td>\n",
       "      <td>lupusfact lupus can attack your lungs potenti...</td>\n",
       "      <td>0</td>\n",
       "    </tr>\n",
       "  </tbody>\n",
       "</table>\n",
       "<p>3433 rows × 4 columns</p>\n",
       "</div>"
      ],
      "text/plain": [
       "                         Concepts  \\\n",
       "0     Acute myocardial infarction   \n",
       "1     Acute myocardial infarction   \n",
       "2     Acute myocardial infarction   \n",
       "3     Acute myocardial infarction   \n",
       "4     Acute myocardial infarction   \n",
       "...                           ...   \n",
       "3428                     Pleurisy   \n",
       "3429                     Pleurisy   \n",
       "3430                     Pleurisy   \n",
       "3431                     Pleurisy   \n",
       "3432                     Pleurisy   \n",
       "\n",
       "                                             Definition  \\\n",
       "0     Necrosis of the myocardium, as a result of int...   \n",
       "1     Necrosis of the myocardium, as a result of int...   \n",
       "2     Necrosis of the myocardium, as a result of int...   \n",
       "3     Necrosis of the myocardium, as a result of int...   \n",
       "4     Necrosis of the myocardium, as a result of int...   \n",
       "...                                                 ...   \n",
       "3428  \\ninflammation of the pleura, with exudation i...   \n",
       "3429  \\ninflammation of the pleura, with exudation i...   \n",
       "3430  \\ninflammation of the pleura, with exudation i...   \n",
       "3431  \\ninflammation of the pleura, with exudation i...   \n",
       "3432  \\ninflammation of the pleura, with exudation i...   \n",
       "\n",
       "                                           CleanedTweet  Label  \n",
       "0     acute myocardial infarction is a blockage of b...      1  \n",
       "1     acutemyocardialinfarction is a pathology chara...      1  \n",
       "2     physical activity and anger or emotional upset...      1  \n",
       "3     thrombus composition in sudden cardiacdeath fr...      1  \n",
       "4     respiratoryinfection associated with increased...      1  \n",
       "...                                                 ...    ...  \n",
       "3428   lupusfact lupus can attack your lungs potenti...      1  \n",
       "3429   lupusfact lupus can attack your lungs potenti...      1  \n",
       "3430   lupusfact lupus can attack your lungs potenti...      1  \n",
       "3431   lupusfact lupus can attack your lungs potenti...      0  \n",
       "3432   lupusfact lupus can attack your lungs potenti...      0  \n",
       "\n",
       "[3433 rows x 4 columns]"
      ]
     },
     "execution_count": 2,
     "metadata": {},
     "output_type": "execute_result"
    }
   ],
   "source": [
    "df = pd.read_csv('PPTL.csv')\n",
    "df"
   ]
  },
  {
   "cell_type": "code",
   "execution_count": 3,
   "id": "8bf0e9bf",
   "metadata": {},
   "outputs": [
    {
     "data": {
      "text/plain": [
       "Index(['Concepts', 'Definition', 'CleanedTweet', 'Label'], dtype='object')"
      ]
     },
     "execution_count": 3,
     "metadata": {},
     "output_type": "execute_result"
    }
   ],
   "source": [
    "df.columns"
   ]
  },
  {
   "cell_type": "code",
   "execution_count": 4,
   "id": "89538797",
   "metadata": {},
   "outputs": [
    {
     "data": {
      "text/html": [
       "<div>\n",
       "<style scoped>\n",
       "    .dataframe tbody tr th:only-of-type {\n",
       "        vertical-align: middle;\n",
       "    }\n",
       "\n",
       "    .dataframe tbody tr th {\n",
       "        vertical-align: top;\n",
       "    }\n",
       "\n",
       "    .dataframe thead th {\n",
       "        text-align: right;\n",
       "    }\n",
       "</style>\n",
       "<table border=\"1\" class=\"dataframe\">\n",
       "  <thead>\n",
       "    <tr style=\"text-align: right;\">\n",
       "      <th></th>\n",
       "      <th>Concepts</th>\n",
       "      <th>Definition</th>\n",
       "      <th>CleanedTweet</th>\n",
       "      <th>Label</th>\n",
       "    </tr>\n",
       "  </thead>\n",
       "  <tbody>\n",
       "    <tr>\n",
       "      <th>0</th>\n",
       "      <td>Acute myocardial infarction</td>\n",
       "      <td>Necrosis of the myocardium, as a result of int...</td>\n",
       "      <td>acute myocardial infarction is a blockage of b...</td>\n",
       "      <td>1</td>\n",
       "    </tr>\n",
       "    <tr>\n",
       "      <th>1</th>\n",
       "      <td>Acute myocardial infarction</td>\n",
       "      <td>Necrosis of the myocardium, as a result of int...</td>\n",
       "      <td>acutemyocardialinfarction is a pathology chara...</td>\n",
       "      <td>1</td>\n",
       "    </tr>\n",
       "    <tr>\n",
       "      <th>2</th>\n",
       "      <td>Acute myocardial infarction</td>\n",
       "      <td>Necrosis of the myocardium, as a result of int...</td>\n",
       "      <td>physical activity and anger or emotional upset...</td>\n",
       "      <td>1</td>\n",
       "    </tr>\n",
       "    <tr>\n",
       "      <th>3</th>\n",
       "      <td>Acute myocardial infarction</td>\n",
       "      <td>Necrosis of the myocardium, as a result of int...</td>\n",
       "      <td>thrombus composition in sudden cardiacdeath fr...</td>\n",
       "      <td>1</td>\n",
       "    </tr>\n",
       "    <tr>\n",
       "      <th>4</th>\n",
       "      <td>Acute myocardial infarction</td>\n",
       "      <td>Necrosis of the myocardium, as a result of int...</td>\n",
       "      <td>respiratoryinfection associated with increased...</td>\n",
       "      <td>1</td>\n",
       "    </tr>\n",
       "  </tbody>\n",
       "</table>\n",
       "</div>"
      ],
      "text/plain": [
       "                      Concepts  \\\n",
       "0  Acute myocardial infarction   \n",
       "1  Acute myocardial infarction   \n",
       "2  Acute myocardial infarction   \n",
       "3  Acute myocardial infarction   \n",
       "4  Acute myocardial infarction   \n",
       "\n",
       "                                          Definition  \\\n",
       "0  Necrosis of the myocardium, as a result of int...   \n",
       "1  Necrosis of the myocardium, as a result of int...   \n",
       "2  Necrosis of the myocardium, as a result of int...   \n",
       "3  Necrosis of the myocardium, as a result of int...   \n",
       "4  Necrosis of the myocardium, as a result of int...   \n",
       "\n",
       "                                        CleanedTweet  Label  \n",
       "0  acute myocardial infarction is a blockage of b...      1  \n",
       "1  acutemyocardialinfarction is a pathology chara...      1  \n",
       "2  physical activity and anger or emotional upset...      1  \n",
       "3  thrombus composition in sudden cardiacdeath fr...      1  \n",
       "4  respiratoryinfection associated with increased...      1  "
      ]
     },
     "execution_count": 4,
     "metadata": {},
     "output_type": "execute_result"
    }
   ],
   "source": [
    "df.head(5)"
   ]
  },
  {
   "cell_type": "code",
   "execution_count": 5,
   "id": "572e63df",
   "metadata": {},
   "outputs": [
    {
     "data": {
      "text/html": [
       "<div>\n",
       "<style scoped>\n",
       "    .dataframe tbody tr th:only-of-type {\n",
       "        vertical-align: middle;\n",
       "    }\n",
       "\n",
       "    .dataframe tbody tr th {\n",
       "        vertical-align: top;\n",
       "    }\n",
       "\n",
       "    .dataframe thead th {\n",
       "        text-align: right;\n",
       "    }\n",
       "</style>\n",
       "<table border=\"1\" class=\"dataframe\">\n",
       "  <thead>\n",
       "    <tr style=\"text-align: right;\">\n",
       "      <th></th>\n",
       "      <th>Concepts</th>\n",
       "      <th>Definition</th>\n",
       "      <th>CleanedTweet</th>\n",
       "      <th>Label</th>\n",
       "    </tr>\n",
       "  </thead>\n",
       "  <tbody>\n",
       "    <tr>\n",
       "      <th>3428</th>\n",
       "      <td>Pleurisy</td>\n",
       "      <td>\\ninflammation of the pleura, with exudation i...</td>\n",
       "      <td>lupusfact lupus can attack your lungs potenti...</td>\n",
       "      <td>1</td>\n",
       "    </tr>\n",
       "    <tr>\n",
       "      <th>3429</th>\n",
       "      <td>Pleurisy</td>\n",
       "      <td>\\ninflammation of the pleura, with exudation i...</td>\n",
       "      <td>lupusfact lupus can attack your lungs potenti...</td>\n",
       "      <td>1</td>\n",
       "    </tr>\n",
       "    <tr>\n",
       "      <th>3430</th>\n",
       "      <td>Pleurisy</td>\n",
       "      <td>\\ninflammation of the pleura, with exudation i...</td>\n",
       "      <td>lupusfact lupus can attack your lungs potenti...</td>\n",
       "      <td>1</td>\n",
       "    </tr>\n",
       "    <tr>\n",
       "      <th>3431</th>\n",
       "      <td>Pleurisy</td>\n",
       "      <td>\\ninflammation of the pleura, with exudation i...</td>\n",
       "      <td>lupusfact lupus can attack your lungs potenti...</td>\n",
       "      <td>0</td>\n",
       "    </tr>\n",
       "    <tr>\n",
       "      <th>3432</th>\n",
       "      <td>Pleurisy</td>\n",
       "      <td>\\ninflammation of the pleura, with exudation i...</td>\n",
       "      <td>lupusfact lupus can attack your lungs potenti...</td>\n",
       "      <td>0</td>\n",
       "    </tr>\n",
       "  </tbody>\n",
       "</table>\n",
       "</div>"
      ],
      "text/plain": [
       "      Concepts                                         Definition  \\\n",
       "3428  Pleurisy  \\ninflammation of the pleura, with exudation i...   \n",
       "3429  Pleurisy  \\ninflammation of the pleura, with exudation i...   \n",
       "3430  Pleurisy  \\ninflammation of the pleura, with exudation i...   \n",
       "3431  Pleurisy  \\ninflammation of the pleura, with exudation i...   \n",
       "3432  Pleurisy  \\ninflammation of the pleura, with exudation i...   \n",
       "\n",
       "                                           CleanedTweet  Label  \n",
       "3428   lupusfact lupus can attack your lungs potenti...      1  \n",
       "3429   lupusfact lupus can attack your lungs potenti...      1  \n",
       "3430   lupusfact lupus can attack your lungs potenti...      1  \n",
       "3431   lupusfact lupus can attack your lungs potenti...      0  \n",
       "3432   lupusfact lupus can attack your lungs potenti...      0  "
      ]
     },
     "execution_count": 5,
     "metadata": {},
     "output_type": "execute_result"
    }
   ],
   "source": [
    "df.tail(5)"
   ]
  },
  {
   "cell_type": "code",
   "execution_count": 6,
   "id": "8468d66b",
   "metadata": {},
   "outputs": [
    {
     "data": {
      "text/html": [
       "<div>\n",
       "<style scoped>\n",
       "    .dataframe tbody tr th:only-of-type {\n",
       "        vertical-align: middle;\n",
       "    }\n",
       "\n",
       "    .dataframe tbody tr th {\n",
       "        vertical-align: top;\n",
       "    }\n",
       "\n",
       "    .dataframe thead th {\n",
       "        text-align: right;\n",
       "    }\n",
       "</style>\n",
       "<table border=\"1\" class=\"dataframe\">\n",
       "  <thead>\n",
       "    <tr style=\"text-align: right;\">\n",
       "      <th></th>\n",
       "      <th>Label</th>\n",
       "    </tr>\n",
       "  </thead>\n",
       "  <tbody>\n",
       "    <tr>\n",
       "      <th>count</th>\n",
       "      <td>3433.00000</td>\n",
       "    </tr>\n",
       "    <tr>\n",
       "      <th>mean</th>\n",
       "      <td>0.60501</td>\n",
       "    </tr>\n",
       "    <tr>\n",
       "      <th>std</th>\n",
       "      <td>0.48892</td>\n",
       "    </tr>\n",
       "    <tr>\n",
       "      <th>min</th>\n",
       "      <td>0.00000</td>\n",
       "    </tr>\n",
       "    <tr>\n",
       "      <th>25%</th>\n",
       "      <td>0.00000</td>\n",
       "    </tr>\n",
       "    <tr>\n",
       "      <th>50%</th>\n",
       "      <td>1.00000</td>\n",
       "    </tr>\n",
       "    <tr>\n",
       "      <th>75%</th>\n",
       "      <td>1.00000</td>\n",
       "    </tr>\n",
       "    <tr>\n",
       "      <th>max</th>\n",
       "      <td>1.00000</td>\n",
       "    </tr>\n",
       "  </tbody>\n",
       "</table>\n",
       "</div>"
      ],
      "text/plain": [
       "            Label\n",
       "count  3433.00000\n",
       "mean      0.60501\n",
       "std       0.48892\n",
       "min       0.00000\n",
       "25%       0.00000\n",
       "50%       1.00000\n",
       "75%       1.00000\n",
       "max       1.00000"
      ]
     },
     "execution_count": 6,
     "metadata": {},
     "output_type": "execute_result"
    }
   ],
   "source": [
    "df.describe()"
   ]
  },
  {
   "cell_type": "code",
   "execution_count": 7,
   "id": "0d0c05fc",
   "metadata": {},
   "outputs": [
    {
     "data": {
      "text/plain": [
       "(3433, 4)"
      ]
     },
     "execution_count": 7,
     "metadata": {},
     "output_type": "execute_result"
    }
   ],
   "source": [
    "df.shape"
   ]
  },
  {
   "cell_type": "code",
   "execution_count": 8,
   "id": "e853826a",
   "metadata": {},
   "outputs": [
    {
     "data": {
      "text/plain": [
       "array([1, 0], dtype=int64)"
      ]
     },
     "execution_count": 8,
     "metadata": {},
     "output_type": "execute_result"
    }
   ],
   "source": [
    "df.Label.unique()"
   ]
  },
  {
   "cell_type": "code",
   "execution_count": 9,
   "id": "32b3d32b",
   "metadata": {},
   "outputs": [
    {
     "data": {
      "text/plain": [
       "Concepts        0\n",
       "Definition      0\n",
       "CleanedTweet    0\n",
       "Label           0\n",
       "dtype: int64"
      ]
     },
     "execution_count": 9,
     "metadata": {},
     "output_type": "execute_result"
    }
   ],
   "source": [
    "df.isnull().sum()"
   ]
  },
  {
   "cell_type": "code",
   "execution_count": 10,
   "id": "15b6591a",
   "metadata": {},
   "outputs": [
    {
     "data": {
      "text/plain": [
       "<AxesSubplot:>"
      ]
     },
     "execution_count": 10,
     "metadata": {},
     "output_type": "execute_result"
    },
    {
     "data": {
      "image/png": "[encoded data removed]",
      "text/plain": [
       "<Figure size 432x288 with 2 Axes>"
      ]
     },
     "metadata": {
      "needs_background": "light"
     },
     "output_type": "display_data"
    }
   ],
   "source": [
    "sns.heatmap(df.isnull())"
   ]
  },
  {
   "cell_type": "code",
   "execution_count": 11,
   "id": "c0b047b8",
   "metadata": {},
   "outputs": [],
   "source": [
    "from sklearn import preprocessing\n",
    "le = preprocessing.LabelEncoder()"
   ]
  },
  {
   "cell_type": "code",
   "execution_count": 12,
   "id": "062d0b6d",
   "metadata": {},
   "outputs": [
    {
     "data": {
      "text/plain": [
       "array([0, 1], dtype=int64)"
      ]
     },
     "execution_count": 12,
     "metadata": {},
     "output_type": "execute_result"
    }
   ],
   "source": [
    "df[\"Label\"] = le.fit_transform(df[\"Label\"])\n",
    "le.classes_"
   ]
  },
  {
   "cell_type": "code",
   "execution_count": 13,
   "id": "81182ac6",
   "metadata": {},
   "outputs": [
    {
     "data": {
      "text/plain": [
       "ModeResult(mode=array([1], dtype=int64), count=array([2077]))"
      ]
     },
     "execution_count": 13,
     "metadata": {},
     "output_type": "execute_result"
    }
   ],
   "source": [
    "from scipy import stats\n",
    "stats.mode(df.Label)"
   ]
  },
  {
   "cell_type": "code",
   "execution_count": 14,
   "id": "0b4b3741",
   "metadata": {},
   "outputs": [
    {
     "data": {
      "text/html": [
       "<div>\n",
       "<style scoped>\n",
       "    .dataframe tbody tr th:only-of-type {\n",
       "        vertical-align: middle;\n",
       "    }\n",
       "\n",
       "    .dataframe tbody tr th {\n",
       "        vertical-align: top;\n",
       "    }\n",
       "\n",
       "    .dataframe thead th {\n",
       "        text-align: right;\n",
       "    }\n",
       "</style>\n",
       "<table border=\"1\" class=\"dataframe\">\n",
       "  <thead>\n",
       "    <tr style=\"text-align: right;\">\n",
       "      <th></th>\n",
       "      <th>Label</th>\n",
       "    </tr>\n",
       "  </thead>\n",
       "  <tbody>\n",
       "    <tr>\n",
       "      <th>count</th>\n",
       "      <td>3433.00000</td>\n",
       "    </tr>\n",
       "    <tr>\n",
       "      <th>mean</th>\n",
       "      <td>0.60501</td>\n",
       "    </tr>\n",
       "    <tr>\n",
       "      <th>std</th>\n",
       "      <td>0.48892</td>\n",
       "    </tr>\n",
       "    <tr>\n",
       "      <th>min</th>\n",
       "      <td>0.00000</td>\n",
       "    </tr>\n",
       "    <tr>\n",
       "      <th>25%</th>\n",
       "      <td>0.00000</td>\n",
       "    </tr>\n",
       "    <tr>\n",
       "      <th>50%</th>\n",
       "      <td>1.00000</td>\n",
       "    </tr>\n",
       "    <tr>\n",
       "      <th>75%</th>\n",
       "      <td>1.00000</td>\n",
       "    </tr>\n",
       "    <tr>\n",
       "      <th>max</th>\n",
       "      <td>1.00000</td>\n",
       "    </tr>\n",
       "  </tbody>\n",
       "</table>\n",
       "</div>"
      ],
      "text/plain": [
       "            Label\n",
       "count  3433.00000\n",
       "mean      0.60501\n",
       "std       0.48892\n",
       "min       0.00000\n",
       "25%       0.00000\n",
       "50%       1.00000\n",
       "75%       1.00000\n",
       "max       1.00000"
      ]
     },
     "execution_count": 14,
     "metadata": {},
     "output_type": "execute_result"
    }
   ],
   "source": [
    "df.describe()"
   ]
  },
  {
   "cell_type": "code",
   "execution_count": 15,
   "id": "eea31c5a",
   "metadata": {},
   "outputs": [
    {
     "data": {
      "text/plain": [
       "1    2077\n",
       "0    1356\n",
       "Name: Label, dtype: int64"
      ]
     },
     "execution_count": 15,
     "metadata": {},
     "output_type": "execute_result"
    },
    {
     "data": {
      "image/png": "[encoded data removed]",
      "text/plain": [
       "<Figure size 360x360 with 1 Axes>"
      ]
     },
     "metadata": {
      "needs_background": "light"
     },
     "output_type": "display_data"
    }
   ],
   "source": [
    "sns.catplot(x='Label',data=df,kind='count')\n",
    "df.Label.value_counts()"
   ]
  },
  {
   "cell_type": "code",
   "execution_count": 16,
   "id": "f5e0d25a",
   "metadata": {},
   "outputs": [],
   "source": [
    "from nltk.corpus import stopwords\n",
    "stop_words = stopwords.words('english')\n",
    "stop_words.extend(['from', 'subject', 're', 'edu', 'use'])"
   ]
  },
  {
   "cell_type": "code",
   "execution_count": 17,
   "id": "c2a2a005",
   "metadata": {},
   "outputs": [
    {
     "name": "stderr",
     "output_type": "stream",
     "text": [
      "<ipython-input-17-cc3004f231d8>:2: FutureWarning: The default value of regex will change from True to False in a future version.\n",
      "  df['CleanedTweet'] = df['CleanedTweet'].str.replace('[^\\w\\s]','')  #removal of punctuation\n",
      "[nltk_data] Downloading package stopwords to\n",
      "[nltk_data]     C:\\Users\\luffy\\AppData\\Roaming\\nltk_data...\n",
      "[nltk_data]   Package stopwords is already up-to-date!\n"
     ]
    }
   ],
   "source": [
    "import nltk   #cleaning\n",
    "df['CleanedTweet'] = df['CleanedTweet'].str.replace('[^\\w\\s]','')  #removal of punctuation\n",
    "df['CleanedTweet'] = df['CleanedTweet'].apply(lambda x: \" \".join(x.lower() for x in x.split()))#lower case\n",
    "from nltk.corpus import stopwords #removal of stopwords\n",
    "nltk.download('stopwords')\n",
    "stop = stopwords.words('english')\n",
    "df['CleanedTweet'] = df['CleanedTweet'].apply(lambda x: \" \".join(x for x in x.split() if x not in stop))"
   ]
  },
  {
   "cell_type": "code",
   "execution_count": 32,
   "id": "1f8ebc03",
   "metadata": {},
   "outputs": [],
   "source": [
    "words = []   #building document-term matrix\n",
    "from nltk.tokenize import RegexpTokenizer\n",
    "from gensim import corpora,models\n",
    "tokenizer = RegexpTokenizer(r'\\w+')\n",
    "for x in pd.Series(df['CleanedTweet']):\n",
    "  a = tokenizer.tokenize(x)\n",
    "  words.append(a)\n",
    "dictionary = corpora.Dictionary(words)\n",
    "corpus = [dictionary.doc2bow(word) for word in words]"
   ]
  },
  {
   "cell_type": "code",
   "execution_count": 33,
   "id": "8e9ab3f7",
   "metadata": {},
   "outputs": [],
   "source": [
    "import gensim  #LDA model\n",
    "model = gensim.models.ldamodel.LdaModel(corpus, num_topics = 10, id2word = dictionary,passes = 20)"
   ]
  },
  {
   "cell_type": "code",
   "execution_count": 20,
   "id": "1f80c2ab",
   "metadata": {},
   "outputs": [
    {
     "name": "stdout",
     "output_type": "stream",
     "text": [
      "[(0, '0.023*\"paininlimb\" + 0.020*\"scalp\" + 0.016*\"dry\" + 0.015*\"dryscalp\" + 0.014*\"pain\"'), (1, '0.019*\"stress\" + 0.017*\"skin\" + 0.014*\"family\" + 0.013*\"news\" + 0.013*\"sick\"'), (2, '0.015*\"sinusheadache\" + 0.015*\"headache\" + 0.014*\"sinus\" + 0.010*\"pain\" + 0.010*\"e\"'), (3, '0.020*\"getting\" + 0.018*\"lungs\" + 0.017*\"feet\" + 0.017*\"respiratoryfailure\" + 0.016*\"night\"'), (4, '0.022*\"odynophagia\" + 0.020*\"painful\" + 0.018*\"peritonitis\" + 0.017*\"swallowing\" + 0.015*\"causes\"'), (5, '0.034*\"obesity\" + 0.013*\"petechiae\" + 0.009*\"risk\" + 0.005*\"fat\" + 0.005*\"people\"'), (6, '0.028*\"phlebitis\" + 0.014*\"oligomenorrhea\" + 0.014*\"paresis\" + 0.013*\"veins\" + 0.009*\"blood\"'), (7, '0.018*\"pericarditis\" + 0.015*\"otitismedia\" + 0.015*\"ear\" + 0.014*\"health\" + 0.010*\"pain\"'), (8, '0.024*\"infection\" + 0.022*\"bacterial\" + 0.020*\"secondary\" + 0.020*\"leads\" + 0.019*\"thought\"'), (9, '0.028*\"pleurisy\" + 0.021*\"oppositional\" + 0.020*\"lupus\" + 0.017*\"causing\" + 0.017*\"pneumonia\"')]\n"
     ]
    }
   ],
   "source": [
    "print(model.print_topics(num_topics = 10, num_words = 5))"
   ]
  },
  {
   "cell_type": "code",
   "execution_count": 21,
   "id": "75715e06",
   "metadata": {},
   "outputs": [
    {
     "name": "stdout",
     "output_type": "stream",
     "text": [
      "<class 'pandas.core.frame.DataFrame'>\n",
      "RangeIndex: 3433 entries, 0 to 3432\n",
      "Data columns (total 4 columns):\n",
      " #   Column        Non-Null Count  Dtype \n",
      "---  ------        --------------  ----- \n",
      " 0   Concepts      3433 non-null   object\n",
      " 1   Definition    3433 non-null   object\n",
      " 2   CleanedTweet  3433 non-null   object\n",
      " 3   Label         3433 non-null   int64 \n",
      "dtypes: int64(1), object(3)\n",
      "memory usage: 107.4+ KB\n"
     ]
    }
   ],
   "source": [
    "df.info()"
   ]
  },
  {
   "cell_type": "code",
   "execution_count": 22,
   "id": "77d2f623",
   "metadata": {},
   "outputs": [],
   "source": [
    "from sklearn.feature_extraction.text import TfidfVectorizer\n",
    "\n",
    "tf_idf= TfidfVectorizer(ngram_range=(1,2), max_features=1000)\n",
    "tf_idf.fit(df['CleanedTweet'])\n",
    "x_values =  tf_idf.transform(df['CleanedTweet'])\n",
    "y_values = df['Label']\n"
   ]
  },
  {
   "cell_type": "code",
   "execution_count": 23,
   "id": "f0692671",
   "metadata": {},
   "outputs": [],
   "source": [
    "from sklearn.model_selection import train_test_split\n",
    "x_train, x_valid, y_train, y_valid = train_test_split(x_values, y_values, test_size = 0.2)"
   ]
  },
  {
   "cell_type": "code",
   "execution_count": 24,
   "id": "6d1eba59",
   "metadata": {},
   "outputs": [
    {
     "name": "stderr",
     "output_type": "stream",
     "text": [
      "D:\\New folder\\lib\\site-packages\\seaborn\\_decorators.py:36: FutureWarning: Pass the following variables as keyword args: x, y. From version 0.12, the only valid positional argument will be `data`, and passing other arguments without an explicit keyword will result in an error or misinterpretation.\n",
      "  warnings.warn(\n"
     ]
    },
    {
     "data": {
      "text/plain": [
       "<AxesSubplot:xlabel='Concepts', ylabel='Label'>"
      ]
     },
     "execution_count": 24,
     "metadata": {},
     "output_type": "execute_result"
    },
    {
     "data": {
      "image/png": "[encoded data removed]",
      "text/plain": [
       "<Figure size 432x288 with 1 Axes>"
      ]
     },
     "metadata": {
      "needs_background": "light"
     },
     "output_type": "display_data"
    }
   ],
   "source": [
    "sns.barplot(df['Concepts'],df['Label'])"
   ]
  },
  {
   "cell_type": "code",
   "execution_count": 25,
   "id": "5721c650",
   "metadata": {},
   "outputs": [
    {
     "name": "stderr",
     "output_type": "stream",
     "text": [
      "D:\\New folder\\lib\\site-packages\\seaborn\\distributions.py:2557: FutureWarning: `distplot` is a deprecated function and will be removed in a future version. Please adapt your code to use either `displot` (a figure-level function with similar flexibility) or `histplot` (an axes-level function for histograms).\n",
      "  warnings.warn(msg, FutureWarning)\n"
     ]
    },
    {
     "data": {
      "text/plain": [
       "<AxesSubplot:xlabel='Label', ylabel='Density'>"
      ]
     },
     "execution_count": 25,
     "metadata": {},
     "output_type": "execute_result"
    },
    {
     "data": {
      "image/png": "[encoded data removed]",
      "text/plain": [
       "<Figure size 432x288 with 1 Axes>"
      ]
     },
     "metadata": {
      "needs_background": "light"
     },
     "output_type": "display_data"
    }
   ],
   "source": [
    "sns.distplot(df['Label'])"
   ]
  },
  {
   "cell_type": "code",
   "execution_count": 26,
   "id": "909d7e65",
   "metadata": {},
   "outputs": [
    {
     "name": "stderr",
     "output_type": "stream",
     "text": [
      "D:\\New folder\\lib\\site-packages\\seaborn\\_decorators.py:36: FutureWarning: Pass the following variables as keyword args: x, y. From version 0.12, the only valid positional argument will be `data`, and passing other arguments without an explicit keyword will result in an error or misinterpretation.\n",
      "  warnings.warn(\n"
     ]
    },
    {
     "data": {
      "text/plain": [
       "<AxesSubplot:xlabel='Concepts', ylabel='Label'>"
      ]
     },
     "execution_count": 26,
     "metadata": {},
     "output_type": "execute_result"
    },
    {
     "data": {
      "image/png": "[encoded data removed]",
      "text/plain": [
       "<Figure size 432x288 with 1 Axes>"
      ]
     },
     "metadata": {
      "needs_background": "light"
     },
     "output_type": "display_data"
    }
   ],
   "source": [
    "sns.stripplot(df['Concepts'],df['Label'])"
   ]
  },
  {
   "cell_type": "code",
   "execution_count": 27,
   "id": "28ede915",
   "metadata": {},
   "outputs": [
    {
     "name": "stderr",
     "output_type": "stream",
     "text": [
      "D:\\New folder\\lib\\site-packages\\seaborn\\_decorators.py:36: FutureWarning: Pass the following variables as keyword args: x, y. From version 0.12, the only valid positional argument will be `data`, and passing other arguments without an explicit keyword will result in an error or misinterpretation.\n",
      "  warnings.warn(\n"
     ]
    },
    {
     "data": {
      "text/plain": [
       "<AxesSubplot:xlabel='Concepts', ylabel='Label'>"
      ]
     },
     "execution_count": 27,
     "metadata": {},
     "output_type": "execute_result"
    },
    {
     "data": {
      "image/png": "[encoded data removed]",
      "text/plain": [
       "<Figure size 432x288 with 1 Axes>"
      ]
     },
     "metadata": {
      "needs_background": "light"
     },
     "output_type": "display_data"
    }
   ],
   "source": [
    "sns.boxplot(df['Concepts'],df['Label'])"
   ]
  },
  {
   "cell_type": "code",
   "execution_count": 41,
   "id": "8c26f389",
   "metadata": {},
   "outputs": [],
   "source": [
    "from sklearn import metrics\n",
    "\n",
    "def evaluation(y_pred, y_test):\n",
    "    Accuracy = metrics.accuracy_score(y_pred, y_test)\n",
    "    Recall = metrics.recall_score(y_pred = y_pred, y_true = y_test, pos_label='positive', average='micro') # micro calculates total true positives, false negatives and false positives\n",
    "    Precision = metrics.precision_score(y_pred = y_pred, y_true = y_test, pos_label='positive', average='micro') # micro calculates total true positives, false negatives and false positives\n",
    "    F1 = 2 * (Precision * Recall) / (Precision + Recall) # Formula for F1 Score\n",
    "    print(\"Accuracy: \", Accuracy.round(4))\n",
    "    print(\"Recall:\", Recall.round(4))\n",
    "    print(\"Precision:\", Precision.round(4))\n",
    "    print(\"F-1 score:\", F1.round(4))"
   ]
  },
  {
   "cell_type": "code",
   "execution_count": 35,
   "id": "c8effde0",
   "metadata": {},
   "outputs": [],
   "source": [
    "from sklearn.preprocessing import LabelEncoder\n",
    "from sklearn.feature_extraction.text import TfidfVectorizer\n",
    "Tfidfvector = TfidfVectorizer(ngram_range=(1,2), max_features=1000)\n",
    "Tfidfvector.fit(df['CleanedTweet'])\n",
    "x_values = Tfidfvector.transform(df['CleanedTweet'])\n",
    "encoder = LabelEncoder()\n",
    "y_values = encoder.fit_transform(df['Label'])"
   ]
  },
  {
   "cell_type": "code",
   "execution_count": 42,
   "id": "e6fb8ca0",
   "metadata": {},
   "outputs": [],
   "source": [
    "X=df.drop('Label',axis=1) ##input\n",
    "y=df.abel               ##output"
   ]
  },
  {
   "cell_type": "code",
   "execution_count": 50,
   "id": "43522914",
   "metadata": {},
   "outputs": [],
   "source": [
    "from sklearn.model_selection import train_test_split\n",
    "X_train,X_test,y_train,y_test= train_test_split(X,y, test_size=0.2,random_state=1)"
   ]
  },
  {
   "cell_type": "code",
   "execution_count": 51,
   "id": "21c6b137",
   "metadata": {},
   "outputs": [
    {
     "name": "stdout",
     "output_type": "stream",
     "text": [
      "(2746, 3)\n",
      "(687, 3)\n",
      "(2746,)\n",
      "(687,)\n"
     ]
    }
   ],
   "source": [
    "print(X_train.shape)\n",
    "print(X_test.shape)\n",
    "print(y_train.shape)\n",
    "print(y_test.shape)"
   ]
  },
  {
   "cell_type": "code",
   "execution_count": 46,
   "id": "f878aca8",
   "metadata": {},
   "outputs": [],
   "source": [
    "from sklearn import model_selection\n",
    "X_train, x_test, y_train, y_test = model_selection.train_test_split(x_values, y_values, test_size=0.2)\n"
   ]
  },
  {
   "cell_type": "code",
   "execution_count": 48,
   "id": "255eed04",
   "metadata": {},
   "outputs": [
    {
     "name": "stdout",
     "output_type": "stream",
     "text": [
      "Accuracy:  0.5459\n",
      "Recall: 0.5459\n",
      "Precision: 0.5459\n",
      "F-1 score: 0.5459\n",
      "Cross Validation Score: 0.6493\n"
     ]
    },
    {
     "name": "stderr",
     "output_type": "stream",
     "text": [
      "D:\\New folder\\lib\\site-packages\\sklearn\\metrics\\_classification.py:1295: UserWarning: Note that pos_label (set to 'positive') is ignored when average != 'binary' (got 'micro'). You may use labels=[pos_label] to specify a single positive class.\n",
      "  warnings.warn(\"Note that pos_label (set to %r) is ignored when \"\n",
      "D:\\New folder\\lib\\site-packages\\sklearn\\metrics\\_classification.py:1295: UserWarning: Note that pos_label (set to 'positive') is ignored when average != 'binary' (got 'micro'). You may use labels=[pos_label] to specify a single positive class.\n",
      "  warnings.warn(\"Note that pos_label (set to %r) is ignored when \"\n"
     ]
    }
   ],
   "source": [
    "from sklearn import naive_bayes\n",
    "from sklearn.model_selection import cross_val_score, KFold\n",
    "\n",
    "naive_bayes_implement = naive_bayes.MultinomialNB()\n",
    "\n",
    "naive_bayes_implement.fit(x_train,y_train)\n",
    "\n",
    "y_pred_valid = naive_bayes_implement.predict(x_valid)\n",
    "evaluation(y_pred_valid, y_valid)\n",
    "print(\"Cross Validation Score:\", cross_val_score(naive_bayes_implement, x_valid, y_valid, cv= KFold(10, shuffle=True, random_state = 22)).mean().round(4))"
   ]
  },
  {
   "cell_type": "code",
   "execution_count": 49,
   "id": "cf1a7f9a",
   "metadata": {},
   "outputs": [
    {
     "name": "stderr",
     "output_type": "stream",
     "text": [
      "D:\\New folder\\lib\\site-packages\\sklearn\\metrics\\_classification.py:1295: UserWarning: Note that pos_label (set to 'positive') is ignored when average != 'binary' (got 'micro'). You may use labels=[pos_label] to specify a single positive class.\n",
      "  warnings.warn(\"Note that pos_label (set to %r) is ignored when \"\n",
      "D:\\New folder\\lib\\site-packages\\sklearn\\metrics\\_classification.py:1295: UserWarning: Note that pos_label (set to 'positive') is ignored when average != 'binary' (got 'micro'). You may use labels=[pos_label] to specify a single positive class.\n",
      "  warnings.warn(\"Note that pos_label (set to %r) is ignored when \"\n"
     ]
    },
    {
     "name": "stdout",
     "output_type": "stream",
     "text": [
      "Accuracy:  0.5633\n",
      "Recall: 0.5633\n",
      "Precision: 0.5633\n",
      "F-1 score: 0.5633\n",
      "Cross Validation Score: 0.6202\n"
     ]
    }
   ],
   "source": [
    "from sklearn import svm\n",
    "\n",
    "svm_implement = svm.SVC()\n",
    "\n",
    "svm_implement.fit(x_train,y_train)\n",
    "\n",
    "y_pred_valid = svm_implement.predict(x_valid)\n",
    "evaluation(y_pred_valid, y_valid)\n",
    "print(\"Cross Validation Score:\", cross_val_score(svm_implement, x_valid, y_valid, cv= KFold(10, shuffle=True, random_state = 22)).mean().round(4))\n"
   ]
  },
  {
   "cell_type": "code",
   "execution_count": 40,
   "id": "206c7c32",
   "metadata": {},
   "outputs": [
    {
     "data": {
      "text/plain": [
       "<AxesSubplot:>"
      ]
     },
     "execution_count": 40,
     "metadata": {},
     "output_type": "execute_result"
    },
    {
     "data": {
      "image/png": "[encoded data removed]",
      "text/plain": [
       "<Figure size 432x288 with 2 Axes>"
      ]
     },
     "metadata": {
      "needs_background": "light"
     },
     "output_type": "display_data"
    }
   ],
   "source": [
    "from sklearn.metrics import confusion_matrix,classification_report\n",
    "sns.heatmap(confusion_matrix(y_pred_valid, y_valid),annot=True,fmt='d')"
   ]
  }
 ],
 "metadata": {
  "kernelspec": {
   "display_name": "Python 3",
   "language": "python",
   "name": "python3"
  },
  "language_info": {
   "codemirror_mode": {
    "name": "ipython",
    "version": 3
   },
   "file_extension": ".py",
   "mimetype": "text/x-python",
   "name": "python",
   "nbconvert_exporter": "python",
   "pygments_lexer": "ipython3",
   "version": "3.8.8"
  }
 },
 "nbformat": 4,
 "nbformat_minor": 5
}
