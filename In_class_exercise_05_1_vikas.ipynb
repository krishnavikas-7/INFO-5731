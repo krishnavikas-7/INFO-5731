{
  "nbformat": 4,
  "nbformat_minor": 0,
  "metadata": {
    "colab": {
      "name": "In_class_exercise_05-1 vikas.ipynb",
      "provenance": [],
      "collapsed_sections": [],
      "include_colab_link": true
    },
    "kernelspec": {
      "display_name": "Python 3",
      "language": "python",
      "name": "python3"
    },
    "language_info": {
      "codemirror_mode": {
        "name": "ipython",
        "version": 3
      },
      "file_extension": ".py",
      "mimetype": "text/x-python",
      "name": "python",
      "nbconvert_exporter": "python",
      "pygments_lexer": "ipython3",
      "version": "3.8.8"
    }
  },
  "cells": [
    {
      "cell_type": "markdown",
      "metadata": {
        "id": "view-in-github",
        "colab_type": "text"
      },
      "source": [
        "<a href=\"https://colab.research.google.com/github/krishnavikas-7/INFO-5731/blob/main/In_class_exercise_05_1_vikas.ipynb\" target=\"_parent\"><img src=\"https://colab.research.google.com/assets/colab-badge.svg\" alt=\"Open In Colab\"/></a>"
      ]
    },
    {
      "cell_type": "markdown",
      "metadata": {
        "id": "Mg1obqNCfNEc"
      },
      "source": [
        "# **The fifth in-class-exercise (40 points in total, 11/11/2021)**"
      ]
    },
    {
      "cell_type": "markdown",
      "metadata": {
        "id": "UFJ-rEXHfNEf"
      },
      "source": [
        "(20 points) The purpose of the question is to practice different machine learning algorithms for text classification as well as the performance evaluation. In addition, you are requried to conduct *10 fold cross validation (https://scikit-learn.org/stable/modules/cross_validation.html)* in the training. \n",
        "\n",
        "The dataset can be download from here: https://github.com/unt-iialab/info5731_spring2021/blob/main/class_exercises/exercise09_datacollection.zip. The dataset contains two files train data and test data for sentiment analysis in IMDB review, it has two categories: 1 represents positive and 0 represents negative. You need to split the training data into training and validate data (80% for training and 20% for validation, https://towardsdatascience.com/train-test-split-and-cross-validation-in-python-80b61beca4b6) and perform 10 fold cross validation while training the classifier. The final trained model was final evaluated on the test data. \n",
        "\n",
        "Algorithms:\n",
        "\n",
        "(1) MultinominalNB\n",
        "\n",
        "(2) SVM \n",
        "\n",
        "(3) KNN \n",
        "\n",
        "(4) Decision tree\n",
        "\n",
        "(5) Random Forest\n",
        "\n",
        "(6) XGBoost\n",
        "\n",
        "Evaluation measurement:\n",
        "\n",
        "(1) Accuracy\n",
        "\n",
        "(2) Recall\n",
        "\n",
        "(3) Precison \n",
        "\n",
        "(4) F-1 score"
      ]
    },
    {
      "cell_type": "code",
      "metadata": {
        "colab": {
          "base_uri": "https://localhost:8080/"
        },
        "id": "OMbj5YcafNEg",
        "outputId": "20b3f123-446b-447d-ab14-badf4057ee1d"
      },
      "source": [
        "!pip install xgboost"
      ],
      "execution_count": null,
      "outputs": [
        {
          "name": "stdout",
          "output_type": "stream",
          "text": [
            "Requirement already satisfied: xgboost in /usr/local/lib/python3.7/dist-packages (0.90)\n",
            "Requirement already satisfied: scipy in /usr/local/lib/python3.7/dist-packages (from xgboost) (1.4.1)\n",
            "Requirement already satisfied: numpy in /usr/local/lib/python3.7/dist-packages (from xgboost) (1.19.5)\n"
          ]
        }
      ]
    },
    {
      "cell_type": "code",
      "metadata": {
        "id": "-lhdtowLfNEj"
      },
      "source": [
        "# Write your code here\n",
        "import numpy as np\n",
        "import pandas as pd\n",
        "from sklearn.metrics import accuracy_score, recall_score, precision_score, f1_score\n",
        "from sklearn.naive_bayes import MultinomialNB\n",
        "from sklearn.neighbors import KNeighborsClassifier\n",
        "from sklearn.svm import LinearSVC\n",
        "from sklearn.tree import DecisionTreeClassifier\n",
        "from sklearn.ensemble import RandomForestClassifier\n",
        "from sklearn.model_selection import train_test_split, cross_validate, StratifiedKFold\n",
        "from xgboost import XGBClassifier\n",
        "\n",
        "\n"
      ],
      "execution_count": null,
      "outputs": []
    },
    {
      "cell_type": "code",
      "metadata": {
        "colab": {
          "base_uri": "https://localhost:8080/",
          "height": 37
        },
        "id": "8cwP4D8wfNEk",
        "outputId": "cfcba8a3-2cd5-4f93-aa65-5f73e7c8f28a"
      },
      "source": [
        "pwd"
      ],
      "execution_count": null,
      "outputs": [
        {
          "data": {
            "application/vnd.google.colaboratory.intrinsic+json": {
              "type": "string"
            },
            "text/plain": [
              "'/content'"
            ]
          },
          "execution_count": 3,
          "metadata": {},
          "output_type": "execute_result"
        }
      ]
    },
    {
      "cell_type": "code",
      "metadata": {
        "colab": {
          "base_uri": "https://localhost:8080/",
          "height": 292
        },
        "id": "5wvwIuOGfNEk",
        "outputId": "118badf4-4140-4575-b806-3cb1c58f841f"
      },
      "source": [
        "train = pd.read_csv(r'/stsa-train.txt',sep = 'delimiter=',header= None,names=['Text'])\n",
        "train[['Sentiment','Text']] = train[\"Text\"].str.split(\" \", 1, expand=True)\n",
        "test = pd.read_csv(r'/stsa-test.txt',sep = 'delimiter=',header= None,names=['Text'])\n",
        "test[['Sentiment','Text']] = test[\"Text\"].str.split(\" \", 1, expand=True)\n",
        "train.head()"
      ],
      "execution_count": null,
      "outputs": [
        {
          "name": "stderr",
          "output_type": "stream",
          "text": [
            "/usr/local/lib/python3.7/dist-packages/ipykernel_launcher.py:1: ParserWarning: Falling back to the 'python' engine because the 'c' engine does not support regex separators (separators > 1 char and different from '\\s+' are interpreted as regex); you can avoid this warning by specifying engine='python'.\n",
            "  \"\"\"Entry point for launching an IPython kernel.\n",
            "/usr/local/lib/python3.7/dist-packages/ipykernel_launcher.py:3: ParserWarning: Falling back to the 'python' engine because the 'c' engine does not support regex separators (separators > 1 char and different from '\\s+' are interpreted as regex); you can avoid this warning by specifying engine='python'.\n",
            "  This is separate from the ipykernel package so we can avoid doing imports until\n"
          ]
        },
        {
          "data": {
            "text/html": [
              "<div>\n",
              "<style scoped>\n",
              "    .dataframe tbody tr th:only-of-type {\n",
              "        vertical-align: middle;\n",
              "    }\n",
              "\n",
              "    .dataframe tbody tr th {\n",
              "        vertical-align: top;\n",
              "    }\n",
              "\n",
              "    .dataframe thead th {\n",
              "        text-align: right;\n",
              "    }\n",
              "</style>\n",
              "<table border=\"1\" class=\"dataframe\">\n",
              "  <thead>\n",
              "    <tr style=\"text-align: right;\">\n",
              "      <th></th>\n",
              "      <th>Text</th>\n",
              "      <th>Sentiment</th>\n",
              "    </tr>\n",
              "  </thead>\n",
              "  <tbody>\n",
              "    <tr>\n",
              "      <th>0</th>\n",
              "      <td>a stirring , funny and finally transporting re...</td>\n",
              "      <td>1</td>\n",
              "    </tr>\n",
              "    <tr>\n",
              "      <th>1</th>\n",
              "      <td>apparently reassembled from the cutting-room f...</td>\n",
              "      <td>0</td>\n",
              "    </tr>\n",
              "    <tr>\n",
              "      <th>2</th>\n",
              "      <td>they presume their audience wo n't sit still f...</td>\n",
              "      <td>0</td>\n",
              "    </tr>\n",
              "    <tr>\n",
              "      <th>3</th>\n",
              "      <td>this is a visually stunning rumination on love...</td>\n",
              "      <td>1</td>\n",
              "    </tr>\n",
              "    <tr>\n",
              "      <th>4</th>\n",
              "      <td>jonathan parker 's bartleby should have been t...</td>\n",
              "      <td>1</td>\n",
              "    </tr>\n",
              "  </tbody>\n",
              "</table>\n",
              "</div>"
            ],
            "text/plain": [
              "                                                Text Sentiment\n",
              "0  a stirring , funny and finally transporting re...         1\n",
              "1  apparently reassembled from the cutting-room f...         0\n",
              "2  they presume their audience wo n't sit still f...         0\n",
              "3  this is a visually stunning rumination on love...         1\n",
              "4  jonathan parker 's bartleby should have been t...         1"
            ]
          },
          "execution_count": 4,
          "metadata": {},
          "output_type": "execute_result"
        }
      ]
    },
    {
      "cell_type": "code",
      "metadata": {
        "colab": {
          "base_uri": "https://localhost:8080/",
          "height": 204
        },
        "id": "Cl3uhv8midts",
        "outputId": "dd9a608d-5944-4248-e591-ab33d7cc9b22"
      },
      "source": [
        "test.head()"
      ],
      "execution_count": null,
      "outputs": [
        {
          "data": {
            "text/html": [
              "<div>\n",
              "<style scoped>\n",
              "    .dataframe tbody tr th:only-of-type {\n",
              "        vertical-align: middle;\n",
              "    }\n",
              "\n",
              "    .dataframe tbody tr th {\n",
              "        vertical-align: top;\n",
              "    }\n",
              "\n",
              "    .dataframe thead th {\n",
              "        text-align: right;\n",
              "    }\n",
              "</style>\n",
              "<table border=\"1\" class=\"dataframe\">\n",
              "  <thead>\n",
              "    <tr style=\"text-align: right;\">\n",
              "      <th></th>\n",
              "      <th>Text</th>\n",
              "      <th>Sentiment</th>\n",
              "    </tr>\n",
              "  </thead>\n",
              "  <tbody>\n",
              "    <tr>\n",
              "      <th>0</th>\n",
              "      <td>no movement , no yuks , not much of anything .</td>\n",
              "      <td>0</td>\n",
              "    </tr>\n",
              "    <tr>\n",
              "      <th>1</th>\n",
              "      <td>a gob of drivel so sickly sweet , even the eag...</td>\n",
              "      <td>0</td>\n",
              "    </tr>\n",
              "    <tr>\n",
              "      <th>2</th>\n",
              "      <td>gangs of new york is an unapologetic mess , wh...</td>\n",
              "      <td>0</td>\n",
              "    </tr>\n",
              "    <tr>\n",
              "      <th>3</th>\n",
              "      <td>we never really feel involved with the story ,...</td>\n",
              "      <td>0</td>\n",
              "    </tr>\n",
              "    <tr>\n",
              "      <th>4</th>\n",
              "      <td>this is one of polanski 's best films .</td>\n",
              "      <td>1</td>\n",
              "    </tr>\n",
              "  </tbody>\n",
              "</table>\n",
              "</div>"
            ],
            "text/plain": [
              "                                                Text Sentiment\n",
              "0     no movement , no yuks , not much of anything .         0\n",
              "1  a gob of drivel so sickly sweet , even the eag...         0\n",
              "2  gangs of new york is an unapologetic mess , wh...         0\n",
              "3  we never really feel involved with the story ,...         0\n",
              "4            this is one of polanski 's best films .         1"
            ]
          },
          "execution_count": 5,
          "metadata": {},
          "output_type": "execute_result"
        }
      ]
    },
    {
      "cell_type": "code",
      "metadata": {
        "colab": {
          "base_uri": "https://localhost:8080/"
        },
        "id": "mXQNhkLifNEn",
        "outputId": "ced14e91-80bb-460d-dedd-e1ecd55b4077"
      },
      "source": [
        "import nltk\n",
        "import re\n",
        "import string\n",
        "nltk.download('stopwords')\n",
        "nltk.download('wordnet')\n",
        "stopword=nltk.corpus.stopwords.words('english')\n",
        "from nltk.stem import WordNetLemmatizer\n",
        "wl= WordNetLemmatizer()\n",
        "def clean_text(data):\n",
        "  data=\"\".join([word.lower() for word in data if word not in string.punctuation])\n",
        "  data = re.sub(\"^\\d+\\s|\\s\\d+\\s|\\s\\d+$\", \" \", data)\n",
        "  tokens = re.split('\\W+',data)\n",
        "  data = [wl.lemmatize(word) for word in tokens if word not in stopword]\n",
        "  return data"
      ],
      "execution_count": null,
      "outputs": [
        {
          "name": "stdout",
          "output_type": "stream",
          "text": [
            "[nltk_data] Downloading package stopwords to /root/nltk_data...\n",
            "[nltk_data]   Unzipping corpora/stopwords.zip.\n",
            "[nltk_data] Downloading package wordnet to /root/nltk_data...\n",
            "[nltk_data]   Unzipping corpora/wordnet.zip.\n"
          ]
        }
      ]
    },
    {
      "cell_type": "code",
      "metadata": {
        "colab": {
          "base_uri": "https://localhost:8080/"
        },
        "id": "ck-JdoXhfNEn",
        "outputId": "cc89f560-a0e7-456e-9868-2082c2e961b8"
      },
      "source": [
        "# Convert text and train data into numerical\n",
        "from sklearn.feature_extraction.text import TfidfVectorizer\n",
        "tfidf_vect = TfidfVectorizer(analyzer = clean_text)\n",
        "X_tfidf = tfidf_vect.fit_transform(train['Text'])\n",
        "print(X_tfidf.shape)\n",
        "X_tfidf_df=pd.DataFrame(X_tfidf.toarray())\n",
        "X_tfidf_df.columns=tfidf_vect.get_feature_names()\n",
        "X_test_tfidf = tfidf_vect.transform(test['Text'])\n",
        "print(X_test_tfidf.shape)"
      ],
      "execution_count": null,
      "outputs": [
        {
          "name": "stdout",
          "output_type": "stream",
          "text": [
            "(6920, 13343)\n",
            "(1821, 13343)\n"
          ]
        }
      ]
    },
    {
      "cell_type": "code",
      "metadata": {
        "id": "oqoDUY-dfNEo"
      },
      "source": [
        "## train-test split\n",
        "x_train, x_test, y_train, y_test = train_test_split(X_tfidf_df, train['Sentiment'].values,\n",
        "                                                test_size=0.2, random_state=42)"
      ],
      "execution_count": null,
      "outputs": []
    },
    {
      "cell_type": "code",
      "metadata": {
        "colab": {
          "base_uri": "https://localhost:8080/"
        },
        "id": "ga9wZHtcfNEo",
        "outputId": "05ea668e-2113-4096-8974-3180b2fd5290"
      },
      "source": [
        "mnb = MultinomialNB()\n",
        "from sklearn.metrics import accuracy_score\n",
        "from sklearn.metrics import classification_report\n",
        "mnb_test = mnb.fit(x_train,y_train)\n",
        "y_mnb = mnb_test.predict(x_test)\n",
        "print('Accuracy Score %s' % accuracy_score(y_mnb,y_test))\n",
        "print(classification_report(y_test,y_mnb))\n",
        "from sklearn.model_selection import cross_val_score\n",
        "scores_MNB = cross_val_score(mnb, x_test, y_test, cv=10)\n",
        "print(\"Accuracy with MNB\",scores_MNB.mean())"
      ],
      "execution_count": null,
      "outputs": [
        {
          "name": "stdout",
          "output_type": "stream",
          "text": [
            "Accuracy Score 0.7955202312138728\n",
            "              precision    recall  f1-score   support\n",
            "\n",
            "           0       0.85      0.70      0.77       671\n",
            "           1       0.76      0.88      0.82       713\n",
            "\n",
            "    accuracy                           0.80      1384\n",
            "   macro avg       0.80      0.79      0.79      1384\n",
            "weighted avg       0.80      0.80      0.79      1384\n",
            "\n",
            "Accuracy with MNB 0.7247054530288813\n"
          ]
        }
      ]
    },
    {
      "cell_type": "code",
      "metadata": {
        "colab": {
          "base_uri": "https://localhost:8080/"
        },
        "id": "pzt7T2EyfNEo",
        "outputId": "47e63246-6837-4f7e-ccfd-1b65d23cfec5"
      },
      "source": [
        "svm = LinearSVC()\n",
        "svm_test = svm.fit(x_train,y_train)\n",
        "y_svm = svm_test.predict(x_test)\n",
        "print('Accuracy Score %s' % accuracy_score(y_svm,y_test))\n",
        "print(classification_report(y_test,y_svm))\n",
        "from sklearn.model_selection import cross_val_score\n",
        "scores_SVM = cross_val_score(svm, x_test, y_test, cv=10)\n",
        "print(\"Accuracy with SVM\",scores_SVM.mean())"
      ],
      "execution_count": null,
      "outputs": [
        {
          "name": "stdout",
          "output_type": "stream",
          "text": [
            "Accuracy Score 0.791907514450867\n",
            "              precision    recall  f1-score   support\n",
            "\n",
            "           0       0.81      0.75      0.78       671\n",
            "           1       0.78      0.83      0.80       713\n",
            "\n",
            "    accuracy                           0.79      1384\n",
            "   macro avg       0.79      0.79      0.79      1384\n",
            "weighted avg       0.79      0.79      0.79      1384\n",
            "\n",
            "Accuracy with SVM 0.7348034615785632\n"
          ]
        }
      ]
    },
    {
      "cell_type": "code",
      "metadata": {
        "colab": {
          "base_uri": "https://localhost:8080/"
        },
        "id": "LA7XW6ATfNEp",
        "outputId": "57a3fc8d-9e6a-4c2a-e274-840ddddbc1ed"
      },
      "source": [
        "knn = KNeighborsClassifier(n_neighbors=5,n_jobs=-1)\n",
        "knn_test = knn.fit(x_train,y_train)\n",
        "y_knn = knn_test.predict(x_test)\n",
        "print('Accuracy Score %s' % accuracy_score(y_knn,y_test))\n",
        "print(classification_report(y_test,y_knn))\n",
        "from sklearn.model_selection import cross_val_score\n",
        "scores_KNN = cross_val_score(knn, x_test, y_test, cv=10)\n",
        "print(\"Accuracy with knn\",scores_KNN.mean())"
      ],
      "execution_count": null,
      "outputs": [
        {
          "name": "stdout",
          "output_type": "stream",
          "text": [
            "Accuracy Score 0.7398843930635838\n",
            "              precision    recall  f1-score   support\n",
            "\n",
            "           0       0.74      0.70      0.72       671\n",
            "           1       0.74      0.77      0.75       713\n",
            "\n",
            "    accuracy                           0.74      1384\n",
            "   macro avg       0.74      0.74      0.74      1384\n",
            "weighted avg       0.74      0.74      0.74      1384\n",
            "\n",
            "Accuracy with knn 0.6675737670732979\n"
          ]
        }
      ]
    },
    {
      "cell_type": "code",
      "metadata": {
        "colab": {
          "base_uri": "https://localhost:8080/"
        },
        "id": "mfOL21hpfNEp",
        "outputId": "26eb0687-3416-43c2-8c3a-e93370d69a0b"
      },
      "source": [
        "dt = DecisionTreeClassifier()\n",
        "des_tree_test = dt.fit(x_train,y_train)\n",
        "y_des_tree = des_tree_test.predict(x_test)\n",
        "print('Accuracy Score %s' % accuracy_score(y_des_tree,y_test))\n",
        "print(classification_report(y_test,y_des_tree))\n",
        "scores_DT = cross_val_score(dt, x_test, y_test, cv=10)\n",
        "print(\"Accuracy with Decision trees\",scores_DT.mean())"
      ],
      "execution_count": null,
      "outputs": [
        {
          "name": "stdout",
          "output_type": "stream",
          "text": [
            "Accuracy Score 0.6596820809248555\n",
            "              precision    recall  f1-score   support\n",
            "\n",
            "           0       0.66      0.61      0.63       671\n",
            "           1       0.66      0.71      0.68       713\n",
            "\n",
            "    accuracy                           0.66      1384\n",
            "   macro avg       0.66      0.66      0.66      1384\n",
            "weighted avg       0.66      0.66      0.66      1384\n",
            "\n",
            "Accuracy with Decision trees 0.6126576999270149\n"
          ]
        }
      ]
    },
    {
      "cell_type": "code",
      "metadata": {
        "colab": {
          "base_uri": "https://localhost:8080/"
        },
        "id": "FPNt7x9TfNEq",
        "outputId": "876e0b43-16e2-4314-91c3-f1a259ff7ea7"
      },
      "source": [
        "import warnings\n",
        "warnings.filterwarnings('ignore')\n",
        "xgb = XGBClassifier()\n",
        "xgb_test = xgb.fit(x_train,y_train)\n",
        "y_xgb = xgb_test.predict(x_test)\n",
        "print('Accuracy Score %s' % accuracy_score(y_xgb,y_test))\n",
        "print(classification_report(y_test,y_xgb))\n",
        "scores_XGB = cross_val_score(xgb, x_test, y_test, cv=10)\n",
        "print(\"Accuracy with XGBoost\",scores_XGB.mean())"
      ],
      "execution_count": null,
      "outputs": [
        {
          "name": "stdout",
          "output_type": "stream",
          "text": [
            "Accuracy Score 0.6445086705202312\n",
            "              precision    recall  f1-score   support\n",
            "\n",
            "           0       0.75      0.40      0.52       671\n",
            "           1       0.61      0.88      0.72       713\n",
            "\n",
            "    accuracy                           0.64      1384\n",
            "   macro avg       0.68      0.64      0.62      1384\n",
            "weighted avg       0.68      0.64      0.62      1384\n",
            "\n",
            "Accuracy with XGBoost 0.6184704410384736\n"
          ]
        }
      ]
    },
    {
      "cell_type": "markdown",
      "metadata": {
        "id": "oBLw66amfNEq"
      },
      "source": [
        "(20 points) The purpose of the question is to practice different machine learning algorithms for text clustering\n",
        "Please downlad the dataset by using the following link.  https://www.kaggle.com/PromptCloudHQ/amazon-reviews-unlocked-mobile-phones\n",
        "(You can also use different text data which you want)\n",
        "\n",
        "Apply the listed clustering methods to the dataset:\n",
        "\n",
        "K means, \n",
        "DBSCAN,\n",
        "Hierarchical clustering. \n",
        "\n",
        "You can refer to of the codes from  the follwing link below. \n",
        "https://www.kaggle.com/karthik3890/text-clustering "
      ]
    },
    {
      "cell_type": "code",
      "metadata": {
        "colab": {
          "base_uri": "https://localhost:8080/"
        },
        "id": "QAnkN4QHfNEq",
        "outputId": "b85439e7-a8cc-4623-93d1-90965e5e504c"
      },
      "source": [
        "!pip install textblob"
      ],
      "execution_count": null,
      "outputs": [
        {
          "output_type": "stream",
          "name": "stdout",
          "text": [
            "Requirement already satisfied: textblob in /usr/local/lib/python3.7/dist-packages (0.15.3)\n",
            "Requirement already satisfied: nltk>=3.1 in /usr/local/lib/python3.7/dist-packages (from textblob) (3.2.5)\n",
            "Requirement already satisfied: six in /usr/local/lib/python3.7/dist-packages (from nltk>=3.1->textblob) (1.15.0)\n"
          ]
        }
      ]
    },
    {
      "cell_type": "code",
      "metadata": {
        "id": "gdiXI7jZfNEr"
      },
      "source": [
        "import pandas as pd\n",
        "df = pd.read_csv('/content/sample_data/Amazon_Unlocked_Mobile.csv')\n",
        "\n",
        "\n",
        "\n",
        "\n"
      ],
      "execution_count": null,
      "outputs": []
    },
    {
      "cell_type": "code",
      "metadata": {
        "id": "5F0H321MsyFo",
        "colab": {
          "base_uri": "https://localhost:8080/"
        },
        "outputId": "3c20c9ee-ebb9-4509-8cd1-36f1bb01cdd8"
      },
      "source": [
        "# IMPORT REQUIRED LIBRARIES\n",
        "import pandas as pd\n",
        "from nltk.corpus import stopwords\n",
        "import nltk\n",
        "nltk.download('punkt')\n",
        "nltk.download('stopwords')\n",
        "import re\n",
        "from textblob import TextBlob\n",
        "from nltk.stem import PorterStemmer\n",
        "from textblob import Word\n",
        "nltk.download('wordnet')"
      ],
      "execution_count": null,
      "outputs": [
        {
          "output_type": "stream",
          "name": "stdout",
          "text": [
            "[nltk_data] Downloading package punkt to /root/nltk_data...\n",
            "[nltk_data]   Unzipping tokenizers/punkt.zip.\n",
            "[nltk_data] Downloading package stopwords to /root/nltk_data...\n",
            "[nltk_data]   Unzipping corpora/stopwords.zip.\n",
            "[nltk_data] Downloading package wordnet to /root/nltk_data...\n",
            "[nltk_data]   Unzipping corpora/wordnet.zip.\n"
          ]
        },
        {
          "output_type": "execute_result",
          "data": {
            "text/plain": [
              "True"
            ]
          },
          "metadata": {},
          "execution_count": 4
        }
      ]
    },
    {
      "cell_type": "code",
      "metadata": {
        "colab": {
          "base_uri": "https://localhost:8080/"
        },
        "id": "VBAqagy2FYhx",
        "outputId": "5c7fc3e2-c2cf-4781-8a1a-909702dd25b4"
      },
      "source": [
        "print(\"Shape: {0}\".format(df.shape))"
      ],
      "execution_count": null,
      "outputs": [
        {
          "output_type": "stream",
          "name": "stdout",
          "text": [
            "Shape: (413840, 6)\n"
          ]
        }
      ]
    },
    {
      "cell_type": "code",
      "metadata": {
        "colab": {
          "base_uri": "https://localhost:8080/",
          "height": 417
        },
        "id": "xTWOh4t5FbRy",
        "outputId": "cd9f6d3c-df96-46bd-d1d4-dad1694b66f8"
      },
      "source": [
        "cluster_df =df.head(1000)\n",
        "cluster_df"
      ],
      "execution_count": null,
      "outputs": [
        {
          "output_type": "execute_result",
          "data": {
            "text/html": [
              "<div>\n",
              "<style scoped>\n",
              "    .dataframe tbody tr th:only-of-type {\n",
              "        vertical-align: middle;\n",
              "    }\n",
              "\n",
              "    .dataframe tbody tr th {\n",
              "        vertical-align: top;\n",
              "    }\n",
              "\n",
              "    .dataframe thead th {\n",
              "        text-align: right;\n",
              "    }\n",
              "</style>\n",
              "<table border=\"1\" class=\"dataframe\">\n",
              "  <thead>\n",
              "    <tr style=\"text-align: right;\">\n",
              "      <th></th>\n",
              "      <th>Product Name</th>\n",
              "      <th>Brand Name</th>\n",
              "      <th>Price</th>\n",
              "      <th>Rating</th>\n",
              "      <th>Reviews</th>\n",
              "      <th>Review Votes</th>\n",
              "    </tr>\n",
              "  </thead>\n",
              "  <tbody>\n",
              "    <tr>\n",
              "      <th>0</th>\n",
              "      <td>\"CLEAR CLEAN ESN\" Sprint EPIC 4G Galaxy SPH-D7...</td>\n",
              "      <td>Samsung</td>\n",
              "      <td>199.99</td>\n",
              "      <td>5</td>\n",
              "      <td>I feel so LUCKY to have found this used (phone...</td>\n",
              "      <td>1.0</td>\n",
              "    </tr>\n",
              "    <tr>\n",
              "      <th>1</th>\n",
              "      <td>\"CLEAR CLEAN ESN\" Sprint EPIC 4G Galaxy SPH-D7...</td>\n",
              "      <td>Samsung</td>\n",
              "      <td>199.99</td>\n",
              "      <td>4</td>\n",
              "      <td>nice phone, nice up grade from my pantach revu...</td>\n",
              "      <td>0.0</td>\n",
              "    </tr>\n",
              "    <tr>\n",
              "      <th>2</th>\n",
              "      <td>\"CLEAR CLEAN ESN\" Sprint EPIC 4G Galaxy SPH-D7...</td>\n",
              "      <td>Samsung</td>\n",
              "      <td>199.99</td>\n",
              "      <td>5</td>\n",
              "      <td>Very pleased</td>\n",
              "      <td>0.0</td>\n",
              "    </tr>\n",
              "    <tr>\n",
              "      <th>3</th>\n",
              "      <td>\"CLEAR CLEAN ESN\" Sprint EPIC 4G Galaxy SPH-D7...</td>\n",
              "      <td>Samsung</td>\n",
              "      <td>199.99</td>\n",
              "      <td>4</td>\n",
              "      <td>It works good but it goes slow sometimes but i...</td>\n",
              "      <td>0.0</td>\n",
              "    </tr>\n",
              "    <tr>\n",
              "      <th>4</th>\n",
              "      <td>\"CLEAR CLEAN ESN\" Sprint EPIC 4G Galaxy SPH-D7...</td>\n",
              "      <td>Samsung</td>\n",
              "      <td>199.99</td>\n",
              "      <td>4</td>\n",
              "      <td>Great phone to replace my lost phone. The only...</td>\n",
              "      <td>0.0</td>\n",
              "    </tr>\n",
              "    <tr>\n",
              "      <th>...</th>\n",
              "      <td>...</td>\n",
              "      <td>...</td>\n",
              "      <td>...</td>\n",
              "      <td>...</td>\n",
              "      <td>...</td>\n",
              "      <td>...</td>\n",
              "    </tr>\n",
              "    <tr>\n",
              "      <th>995</th>\n",
              "      <td>5.5-Inch Unlocked Lenovo A850 3G Smartphone-(9...</td>\n",
              "      <td>NaN</td>\n",
              "      <td>161.06</td>\n",
              "      <td>3</td>\n",
              "      <td>It's a decent for the price.. I've had this on...</td>\n",
              "      <td>0.0</td>\n",
              "    </tr>\n",
              "    <tr>\n",
              "      <th>996</th>\n",
              "      <td>5.5-Inch Unlocked Lenovo A850 3G Smartphone-(9...</td>\n",
              "      <td>NaN</td>\n",
              "      <td>161.06</td>\n",
              "      <td>3</td>\n",
              "      <td>Is good cell phone</td>\n",
              "      <td>0.0</td>\n",
              "    </tr>\n",
              "    <tr>\n",
              "      <th>997</th>\n",
              "      <td>5.5-Inch Unlocked Lenovo A850 3G Smartphone-(9...</td>\n",
              "      <td>NaN</td>\n",
              "      <td>161.06</td>\n",
              "      <td>5</td>\n",
              "      <td>Amazing phone. Cables and case included, also ...</td>\n",
              "      <td>0.0</td>\n",
              "    </tr>\n",
              "    <tr>\n",
              "      <th>998</th>\n",
              "      <td>5.5-Inch Unlocked Lenovo A850 3G Smartphone-(9...</td>\n",
              "      <td>NaN</td>\n",
              "      <td>161.06</td>\n",
              "      <td>5</td>\n",
              "      <td>Excelent</td>\n",
              "      <td>0.0</td>\n",
              "    </tr>\n",
              "    <tr>\n",
              "      <th>999</th>\n",
              "      <td>5.5-Inch Unlocked Lenovo A850 3G Smartphone-(9...</td>\n",
              "      <td>NaN</td>\n",
              "      <td>161.06</td>\n",
              "      <td>5</td>\n",
              "      <td>Excellent, it meets the requirements requested</td>\n",
              "      <td>0.0</td>\n",
              "    </tr>\n",
              "  </tbody>\n",
              "</table>\n",
              "<p>1000 rows × 6 columns</p>\n",
              "</div>"
            ],
            "text/plain": [
              "                                          Product Name  ... Review Votes\n",
              "0    \"CLEAR CLEAN ESN\" Sprint EPIC 4G Galaxy SPH-D7...  ...          1.0\n",
              "1    \"CLEAR CLEAN ESN\" Sprint EPIC 4G Galaxy SPH-D7...  ...          0.0\n",
              "2    \"CLEAR CLEAN ESN\" Sprint EPIC 4G Galaxy SPH-D7...  ...          0.0\n",
              "3    \"CLEAR CLEAN ESN\" Sprint EPIC 4G Galaxy SPH-D7...  ...          0.0\n",
              "4    \"CLEAR CLEAN ESN\" Sprint EPIC 4G Galaxy SPH-D7...  ...          0.0\n",
              "..                                                 ...  ...          ...\n",
              "995  5.5-Inch Unlocked Lenovo A850 3G Smartphone-(9...  ...          0.0\n",
              "996  5.5-Inch Unlocked Lenovo A850 3G Smartphone-(9...  ...          0.0\n",
              "997  5.5-Inch Unlocked Lenovo A850 3G Smartphone-(9...  ...          0.0\n",
              "998  5.5-Inch Unlocked Lenovo A850 3G Smartphone-(9...  ...          0.0\n",
              "999  5.5-Inch Unlocked Lenovo A850 3G Smartphone-(9...  ...          0.0\n",
              "\n",
              "[1000 rows x 6 columns]"
            ]
          },
          "metadata": {},
          "execution_count": 9
        }
      ]
    },
    {
      "cell_type": "code",
      "metadata": {
        "colab": {
          "base_uri": "https://localhost:8080/",
          "height": 1000
        },
        "id": "fxcgTgN5FhRQ",
        "outputId": "e4fe5b6c-7d9c-4f8c-945c-80da1b9c1d0d"
      },
      "source": [
        "# Special characters removal\n",
        "cluster_df['After noise removal'] = cluster_df['Reviews'].apply(lambda x: ''.join(re.sub(r\"[^a-zA-Z0-9]+\", ' ', charctr) for charctr in x ))\n",
        "\n",
        "# Punctuation removal\n",
        "cluster_df['Punctuation removal'] = cluster_df['After noise removal'].str.replace('[^\\w\\s]','')\n",
        "\n",
        "# Remove numbers\n",
        "cluster_df['Remove numbers'] = cluster_df['Punctuation removal'].str.replace('\\d+', '')\n",
        "\n",
        "# Stopwords removal\n",
        "stop_word = stopwords.words('english')\n",
        "cluster_df['Stopwords removal'] = cluster_df['Remove numbers'].apply(lambda x: \" \".join(x for x in x.split() if x not in stop_word))\n",
        "\n",
        "# Lower Casing\n",
        "cluster_df['Lower casing'] = cluster_df['Stopwords removal'].apply(lambda x: \" \".join(x.lower() for x in x.split()))\n",
        "\n",
        "# Tokenization\n",
        "cluster_df['Tokenization'] = cluster_df['Lower casing'].apply(lambda x: TextBlob(x).words)\n",
        "\n",
        "# Stemming\n",
        "st = PorterStemmer()\n",
        "cluster_df['Stemming'] = cluster_df['Tokenization'].apply(lambda x: \" \".join([st.stem(word) for word in x]))\n",
        "\n",
        "# Lemmatization\n",
        "cluster_df['Lemmatization'] = cluster_df['Stemming'].apply(lambda x: \" \".join([Word(word).lemmatize() for word in x.split()]))\n",
        "cluster_df"
      ],
      "execution_count": null,
      "outputs": [
        {
          "output_type": "stream",
          "name": "stderr",
          "text": [
            "/usr/local/lib/python3.7/dist-packages/ipykernel_launcher.py:2: SettingWithCopyWarning: \n",
            "A value is trying to be set on a copy of a slice from a DataFrame.\n",
            "Try using .loc[row_indexer,col_indexer] = value instead\n",
            "\n",
            "See the caveats in the documentation: https://pandas.pydata.org/pandas-docs/stable/user_guide/indexing.html#returning-a-view-versus-a-copy\n",
            "  \n",
            "/usr/local/lib/python3.7/dist-packages/ipykernel_launcher.py:5: SettingWithCopyWarning: \n",
            "A value is trying to be set on a copy of a slice from a DataFrame.\n",
            "Try using .loc[row_indexer,col_indexer] = value instead\n",
            "\n",
            "See the caveats in the documentation: https://pandas.pydata.org/pandas-docs/stable/user_guide/indexing.html#returning-a-view-versus-a-copy\n",
            "  \"\"\"\n",
            "/usr/local/lib/python3.7/dist-packages/ipykernel_launcher.py:8: SettingWithCopyWarning: \n",
            "A value is trying to be set on a copy of a slice from a DataFrame.\n",
            "Try using .loc[row_indexer,col_indexer] = value instead\n",
            "\n",
            "See the caveats in the documentation: https://pandas.pydata.org/pandas-docs/stable/user_guide/indexing.html#returning-a-view-versus-a-copy\n",
            "  \n",
            "/usr/local/lib/python3.7/dist-packages/ipykernel_launcher.py:12: SettingWithCopyWarning: \n",
            "A value is trying to be set on a copy of a slice from a DataFrame.\n",
            "Try using .loc[row_indexer,col_indexer] = value instead\n",
            "\n",
            "See the caveats in the documentation: https://pandas.pydata.org/pandas-docs/stable/user_guide/indexing.html#returning-a-view-versus-a-copy\n",
            "  if sys.path[0] == '':\n",
            "/usr/local/lib/python3.7/dist-packages/ipykernel_launcher.py:15: SettingWithCopyWarning: \n",
            "A value is trying to be set on a copy of a slice from a DataFrame.\n",
            "Try using .loc[row_indexer,col_indexer] = value instead\n",
            "\n",
            "See the caveats in the documentation: https://pandas.pydata.org/pandas-docs/stable/user_guide/indexing.html#returning-a-view-versus-a-copy\n",
            "  from ipykernel import kernelapp as app\n",
            "/usr/local/lib/python3.7/dist-packages/ipykernel_launcher.py:18: SettingWithCopyWarning: \n",
            "A value is trying to be set on a copy of a slice from a DataFrame.\n",
            "Try using .loc[row_indexer,col_indexer] = value instead\n",
            "\n",
            "See the caveats in the documentation: https://pandas.pydata.org/pandas-docs/stable/user_guide/indexing.html#returning-a-view-versus-a-copy\n",
            "/usr/local/lib/python3.7/dist-packages/ipykernel_launcher.py:22: SettingWithCopyWarning: \n",
            "A value is trying to be set on a copy of a slice from a DataFrame.\n",
            "Try using .loc[row_indexer,col_indexer] = value instead\n",
            "\n",
            "See the caveats in the documentation: https://pandas.pydata.org/pandas-docs/stable/user_guide/indexing.html#returning-a-view-versus-a-copy\n",
            "/usr/local/lib/python3.7/dist-packages/ipykernel_launcher.py:25: SettingWithCopyWarning: \n",
            "A value is trying to be set on a copy of a slice from a DataFrame.\n",
            "Try using .loc[row_indexer,col_indexer] = value instead\n",
            "\n",
            "See the caveats in the documentation: https://pandas.pydata.org/pandas-docs/stable/user_guide/indexing.html#returning-a-view-versus-a-copy\n"
          ]
        },
        {
          "output_type": "execute_result",
          "data": {
            "text/html": [
              "<div>\n",
              "<style scoped>\n",
              "    .dataframe tbody tr th:only-of-type {\n",
              "        vertical-align: middle;\n",
              "    }\n",
              "\n",
              "    .dataframe tbody tr th {\n",
              "        vertical-align: top;\n",
              "    }\n",
              "\n",
              "    .dataframe thead th {\n",
              "        text-align: right;\n",
              "    }\n",
              "</style>\n",
              "<table border=\"1\" class=\"dataframe\">\n",
              "  <thead>\n",
              "    <tr style=\"text-align: right;\">\n",
              "      <th></th>\n",
              "      <th>Product Name</th>\n",
              "      <th>Brand Name</th>\n",
              "      <th>Price</th>\n",
              "      <th>Rating</th>\n",
              "      <th>Reviews</th>\n",
              "      <th>Review Votes</th>\n",
              "      <th>After noise removal</th>\n",
              "      <th>Punctuation removal</th>\n",
              "      <th>Remove numbers</th>\n",
              "      <th>Stopwords removal</th>\n",
              "      <th>Lower casing</th>\n",
              "      <th>Tokenization</th>\n",
              "      <th>Stemming</th>\n",
              "      <th>Lemmatization</th>\n",
              "    </tr>\n",
              "  </thead>\n",
              "  <tbody>\n",
              "    <tr>\n",
              "      <th>0</th>\n",
              "      <td>\"CLEAR CLEAN ESN\" Sprint EPIC 4G Galaxy SPH-D7...</td>\n",
              "      <td>Samsung</td>\n",
              "      <td>199.99</td>\n",
              "      <td>5</td>\n",
              "      <td>I feel so LUCKY to have found this used (phone...</td>\n",
              "      <td>1.0</td>\n",
              "      <td>I feel so LUCKY to have found this used  phone...</td>\n",
              "      <td>I feel so LUCKY to have found this used  phone...</td>\n",
              "      <td>I feel so LUCKY to have found this used  phone...</td>\n",
              "      <td>I feel LUCKY found used phone us used hard pho...</td>\n",
              "      <td>i feel lucky found used phone us used hard pho...</td>\n",
              "      <td>[i, feel, lucky, found, used, phone, us, used,...</td>\n",
              "      <td>i feel lucki found use phone us use hard phone...</td>\n",
              "      <td>i feel lucki found use phone u use hard phone ...</td>\n",
              "    </tr>\n",
              "    <tr>\n",
              "      <th>1</th>\n",
              "      <td>\"CLEAR CLEAN ESN\" Sprint EPIC 4G Galaxy SPH-D7...</td>\n",
              "      <td>Samsung</td>\n",
              "      <td>199.99</td>\n",
              "      <td>4</td>\n",
              "      <td>nice phone, nice up grade from my pantach revu...</td>\n",
              "      <td>0.0</td>\n",
              "      <td>nice phone  nice up grade from my pantach revu...</td>\n",
              "      <td>nice phone  nice up grade from my pantach revu...</td>\n",
              "      <td>nice phone  nice up grade from my pantach revu...</td>\n",
              "      <td>nice phone nice grade pantach revue Very clean...</td>\n",
              "      <td>nice phone nice grade pantach revue very clean...</td>\n",
              "      <td>[nice, phone, nice, grade, pantach, revue, ver...</td>\n",
              "      <td>nice phone nice grade pantach revu veri clean ...</td>\n",
              "      <td>nice phone nice grade pantach revu veri clean ...</td>\n",
              "    </tr>\n",
              "    <tr>\n",
              "      <th>2</th>\n",
              "      <td>\"CLEAR CLEAN ESN\" Sprint EPIC 4G Galaxy SPH-D7...</td>\n",
              "      <td>Samsung</td>\n",
              "      <td>199.99</td>\n",
              "      <td>5</td>\n",
              "      <td>Very pleased</td>\n",
              "      <td>0.0</td>\n",
              "      <td>Very pleased</td>\n",
              "      <td>Very pleased</td>\n",
              "      <td>Very pleased</td>\n",
              "      <td>Very pleased</td>\n",
              "      <td>very pleased</td>\n",
              "      <td>[very, pleased]</td>\n",
              "      <td>veri pleas</td>\n",
              "      <td>veri plea</td>\n",
              "    </tr>\n",
              "    <tr>\n",
              "      <th>3</th>\n",
              "      <td>\"CLEAR CLEAN ESN\" Sprint EPIC 4G Galaxy SPH-D7...</td>\n",
              "      <td>Samsung</td>\n",
              "      <td>199.99</td>\n",
              "      <td>4</td>\n",
              "      <td>It works good but it goes slow sometimes but i...</td>\n",
              "      <td>0.0</td>\n",
              "      <td>It works good but it goes slow sometimes but i...</td>\n",
              "      <td>It works good but it goes slow sometimes but i...</td>\n",
              "      <td>It works good but it goes slow sometimes but i...</td>\n",
              "      <td>It works good goes slow sometimes good phone I...</td>\n",
              "      <td>it works good goes slow sometimes good phone i...</td>\n",
              "      <td>[it, works, good, goes, slow, sometimes, good,...</td>\n",
              "      <td>it work good goe slow sometim good phone i love</td>\n",
              "      <td>it work good goe slow sometim good phone i love</td>\n",
              "    </tr>\n",
              "    <tr>\n",
              "      <th>4</th>\n",
              "      <td>\"CLEAR CLEAN ESN\" Sprint EPIC 4G Galaxy SPH-D7...</td>\n",
              "      <td>Samsung</td>\n",
              "      <td>199.99</td>\n",
              "      <td>4</td>\n",
              "      <td>Great phone to replace my lost phone. The only...</td>\n",
              "      <td>0.0</td>\n",
              "      <td>Great phone to replace my lost phone  The only...</td>\n",
              "      <td>Great phone to replace my lost phone  The only...</td>\n",
              "      <td>Great phone to replace my lost phone  The only...</td>\n",
              "      <td>Great phone replace lost phone The thing volum...</td>\n",
              "      <td>great phone replace lost phone the thing volum...</td>\n",
              "      <td>[great, phone, replace, lost, phone, the, thin...</td>\n",
              "      <td>great phone replac lost phone the thing volum ...</td>\n",
              "      <td>great phone replac lost phone the thing volum ...</td>\n",
              "    </tr>\n",
              "    <tr>\n",
              "      <th>...</th>\n",
              "      <td>...</td>\n",
              "      <td>...</td>\n",
              "      <td>...</td>\n",
              "      <td>...</td>\n",
              "      <td>...</td>\n",
              "      <td>...</td>\n",
              "      <td>...</td>\n",
              "      <td>...</td>\n",
              "      <td>...</td>\n",
              "      <td>...</td>\n",
              "      <td>...</td>\n",
              "      <td>...</td>\n",
              "      <td>...</td>\n",
              "      <td>...</td>\n",
              "    </tr>\n",
              "    <tr>\n",
              "      <th>995</th>\n",
              "      <td>5.5-Inch Unlocked Lenovo A850 3G Smartphone-(9...</td>\n",
              "      <td>NaN</td>\n",
              "      <td>161.06</td>\n",
              "      <td>3</td>\n",
              "      <td>It's a decent for the price.. I've had this on...</td>\n",
              "      <td>0.0</td>\n",
              "      <td>It s a decent for the price   I ve had this on...</td>\n",
              "      <td>It s a decent for the price   I ve had this on...</td>\n",
              "      <td>It s a decent for the price   I ve had this on...</td>\n",
              "      <td>It decent price I one months The cons I pretty...</td>\n",
              "      <td>it decent price i one months the cons i pretty...</td>\n",
              "      <td>[it, decent, price, i, one, months, the, cons,...</td>\n",
              "      <td>it decent price i one month the con i pretti f...</td>\n",
              "      <td>it decent price i one month the con i pretti f...</td>\n",
              "    </tr>\n",
              "    <tr>\n",
              "      <th>996</th>\n",
              "      <td>5.5-Inch Unlocked Lenovo A850 3G Smartphone-(9...</td>\n",
              "      <td>NaN</td>\n",
              "      <td>161.06</td>\n",
              "      <td>3</td>\n",
              "      <td>Is good cell phone</td>\n",
              "      <td>0.0</td>\n",
              "      <td>Is good cell phone</td>\n",
              "      <td>Is good cell phone</td>\n",
              "      <td>Is good cell phone</td>\n",
              "      <td>Is good cell phone</td>\n",
              "      <td>is good cell phone</td>\n",
              "      <td>[is, good, cell, phone]</td>\n",
              "      <td>is good cell phone</td>\n",
              "      <td>is good cell phone</td>\n",
              "    </tr>\n",
              "    <tr>\n",
              "      <th>997</th>\n",
              "      <td>5.5-Inch Unlocked Lenovo A850 3G Smartphone-(9...</td>\n",
              "      <td>NaN</td>\n",
              "      <td>161.06</td>\n",
              "      <td>5</td>\n",
              "      <td>Amazing phone. Cables and case included, also ...</td>\n",
              "      <td>0.0</td>\n",
              "      <td>Amazing phone  Cables and case included  also ...</td>\n",
              "      <td>Amazing phone  Cables and case included  also ...</td>\n",
              "      <td>Amazing phone  Cables and case included  also ...</td>\n",
              "      <td>Amazing phone Cables case included also screen...</td>\n",
              "      <td>amazing phone cables case included also screen...</td>\n",
              "      <td>[amazing, phone, cables, case, included, also,...</td>\n",
              "      <td>amaz phone cabl case includ also screen pritec...</td>\n",
              "      <td>amaz phone cabl case includ also screen pritec...</td>\n",
              "    </tr>\n",
              "    <tr>\n",
              "      <th>998</th>\n",
              "      <td>5.5-Inch Unlocked Lenovo A850 3G Smartphone-(9...</td>\n",
              "      <td>NaN</td>\n",
              "      <td>161.06</td>\n",
              "      <td>5</td>\n",
              "      <td>Excelent</td>\n",
              "      <td>0.0</td>\n",
              "      <td>Excelent</td>\n",
              "      <td>Excelent</td>\n",
              "      <td>Excelent</td>\n",
              "      <td>Excelent</td>\n",
              "      <td>excelent</td>\n",
              "      <td>[excelent]</td>\n",
              "      <td>excel</td>\n",
              "      <td>excel</td>\n",
              "    </tr>\n",
              "    <tr>\n",
              "      <th>999</th>\n",
              "      <td>5.5-Inch Unlocked Lenovo A850 3G Smartphone-(9...</td>\n",
              "      <td>NaN</td>\n",
              "      <td>161.06</td>\n",
              "      <td>5</td>\n",
              "      <td>Excellent, it meets the requirements requested</td>\n",
              "      <td>0.0</td>\n",
              "      <td>Excellent  it meets the requirements requested</td>\n",
              "      <td>Excellent  it meets the requirements requested</td>\n",
              "      <td>Excellent  it meets the requirements requested</td>\n",
              "      <td>Excellent meets requirements requested</td>\n",
              "      <td>excellent meets requirements requested</td>\n",
              "      <td>[excellent, meets, requirements, requested]</td>\n",
              "      <td>excel meet requir request</td>\n",
              "      <td>excel meet requir request</td>\n",
              "    </tr>\n",
              "  </tbody>\n",
              "</table>\n",
              "<p>1000 rows × 14 columns</p>\n",
              "</div>"
            ],
            "text/plain": [
              "                                          Product Name  ...                                      Lemmatization\n",
              "0    \"CLEAR CLEAN ESN\" Sprint EPIC 4G Galaxy SPH-D7...  ...  i feel lucki found use phone u use hard phone ...\n",
              "1    \"CLEAR CLEAN ESN\" Sprint EPIC 4G Galaxy SPH-D7...  ...  nice phone nice grade pantach revu veri clean ...\n",
              "2    \"CLEAR CLEAN ESN\" Sprint EPIC 4G Galaxy SPH-D7...  ...                                          veri plea\n",
              "3    \"CLEAR CLEAN ESN\" Sprint EPIC 4G Galaxy SPH-D7...  ...    it work good goe slow sometim good phone i love\n",
              "4    \"CLEAR CLEAN ESN\" Sprint EPIC 4G Galaxy SPH-D7...  ...  great phone replac lost phone the thing volum ...\n",
              "..                                                 ...  ...                                                ...\n",
              "995  5.5-Inch Unlocked Lenovo A850 3G Smartphone-(9...  ...  it decent price i one month the con i pretti f...\n",
              "996  5.5-Inch Unlocked Lenovo A850 3G Smartphone-(9...  ...                                 is good cell phone\n",
              "997  5.5-Inch Unlocked Lenovo A850 3G Smartphone-(9...  ...  amaz phone cabl case includ also screen pritec...\n",
              "998  5.5-Inch Unlocked Lenovo A850 3G Smartphone-(9...  ...                                              excel\n",
              "999  5.5-Inch Unlocked Lenovo A850 3G Smartphone-(9...  ...                          excel meet requir request\n",
              "\n",
              "[1000 rows x 14 columns]"
            ]
          },
          "metadata": {},
          "execution_count": 11
        }
      ]
    },
    {
      "cell_type": "code",
      "metadata": {
        "id": "SLtbdGgDhrps",
        "colab": {
          "base_uri": "https://localhost:8080/"
        },
        "outputId": "468d3865-20ca-48df-e11b-db98e477da32"
      },
      "source": [
        "#kmeans clustering using TFIDF\n",
        "from sklearn.feature_extraction.text import TfidfVectorizer\n",
        "tfidf_vect = TfidfVectorizer()\n",
        "tfidf = tfidf_vect.fit_transform(cluster_df['Lemmatization'].values)\n",
        "tfidf.shape"
      ],
      "execution_count": null,
      "outputs": [
        {
          "output_type": "execute_result",
          "data": {
            "text/plain": [
              "(1000, 2483)"
            ]
          },
          "metadata": {},
          "execution_count": 13
        }
      ]
    },
    {
      "cell_type": "code",
      "metadata": {
        "colab": {
          "base_uri": "https://localhost:8080/"
        },
        "id": "oQu-KTGtGXaa",
        "outputId": "4db30b12-3f1a-4dfa-e0d8-a04a98cfb21c"
      },
      "source": [
        "from sklearn.cluster import KMeans\n",
        "model_tf = KMeans(n_clusters = 10,random_state=99)\n",
        "model_tf.fit(tfidf)"
      ],
      "execution_count": null,
      "outputs": [
        {
          "output_type": "execute_result",
          "data": {
            "text/plain": [
              "KMeans(n_clusters=10, random_state=99)"
            ]
          },
          "metadata": {},
          "execution_count": 14
        }
      ]
    },
    {
      "cell_type": "code",
      "metadata": {
        "colab": {
          "base_uri": "https://localhost:8080/"
        },
        "id": "uKlsqAGwGZ-k",
        "outputId": "64a7f211-6a83-4738-bc59-4a1ae5faf597"
      },
      "source": [
        "labels_tf = model_tf.labels_\n",
        "cluster_center_tf=model_tf.cluster_centers_\n",
        "cluster_center_tf"
      ],
      "execution_count": null,
      "outputs": [
        {
          "output_type": "execute_result",
          "data": {
            "text/plain": [
              "array([[0.        , 0.        , 0.        , ..., 0.        , 0.        ,\n",
              "        0.        ],\n",
              "       [0.        , 0.        , 0.        , ..., 0.        , 0.        ,\n",
              "        0.        ],\n",
              "       [0.        , 0.        , 0.        , ..., 0.        , 0.        ,\n",
              "        0.        ],\n",
              "       ...,\n",
              "       [0.        , 0.        , 0.01800451, ..., 0.        , 0.        ,\n",
              "        0.        ],\n",
              "       [0.        , 0.        , 0.00330656, ..., 0.        , 0.        ,\n",
              "        0.        ],\n",
              "       [0.        , 0.        , 0.        , ..., 0.        , 0.        ,\n",
              "        0.        ]])"
            ]
          },
          "metadata": {},
          "execution_count": 15
        }
      ]
    },
    {
      "cell_type": "code",
      "metadata": {
        "colab": {
          "base_uri": "https://localhost:8080/"
        },
        "id": "URnNqAljGcq5",
        "outputId": "9151fa7e-fcfb-405b-f330-53c08c2a5598"
      },
      "source": [
        "terms1 = tfidf_vect.get_feature_names()"
      ],
      "execution_count": null,
      "outputs": [
        {
          "output_type": "stream",
          "name": "stderr",
          "text": [
            "/usr/local/lib/python3.7/dist-packages/sklearn/utils/deprecation.py:87: FutureWarning: Function get_feature_names is deprecated; get_feature_names is deprecated in 1.0 and will be removed in 1.2. Please use get_feature_names_out instead.\n",
            "  warnings.warn(msg, category=FutureWarning)\n"
          ]
        }
      ]
    },
    {
      "cell_type": "code",
      "metadata": {
        "colab": {
          "base_uri": "https://localhost:8080/"
        },
        "id": "uCku4gNFGe9x",
        "outputId": "1cb1d171-9311-45e0-ec46-a43dd80a069a"
      },
      "source": [
        "terms1[1:100]"
      ],
      "execution_count": null,
      "outputs": [
        {
          "output_type": "execute_result",
          "data": {
            "text/plain": [
              "['abil',\n",
              " 'abl',\n",
              " 'ablebto',\n",
              " 'about',\n",
              " 'absolut',\n",
              " 'abysm',\n",
              " 'accent',\n",
              " 'accept',\n",
              " 'access',\n",
              " 'accessori',\n",
              " 'accid',\n",
              " 'accident',\n",
              " 'accommod',\n",
              " 'accomod',\n",
              " 'accomplish',\n",
              " 'account',\n",
              " 'accur',\n",
              " 'acord',\n",
              " 'acostumbro',\n",
              " 'acquir',\n",
              " 'across',\n",
              " 'action',\n",
              " 'activ',\n",
              " 'actual',\n",
              " 'ad',\n",
              " 'ada',\n",
              " 'adapt',\n",
              " 'add',\n",
              " 'addict',\n",
              " 'addit',\n",
              " 'address',\n",
              " 'adequ',\n",
              " 'adhes',\n",
              " 'adjust',\n",
              " 'admir',\n",
              " 'admit',\n",
              " 'adult',\n",
              " 'advanc',\n",
              " 'advantag',\n",
              " 'adventur',\n",
              " 'advertis',\n",
              " 'advis',\n",
              " 'adwar',\n",
              " 'affect',\n",
              " 'affili',\n",
              " 'afford',\n",
              " 'afraid',\n",
              " 'africa',\n",
              " 'after',\n",
              " 'afternoon',\n",
              " 'again',\n",
              " 'age',\n",
              " 'aggrav',\n",
              " 'ago',\n",
              " 'agre',\n",
              " 'agreement',\n",
              " 'aid',\n",
              " 'air',\n",
              " 'airplan',\n",
              " 'airport',\n",
              " 'alarm',\n",
              " 'alert',\n",
              " 'all',\n",
              " 'allow',\n",
              " 'almost',\n",
              " 'alon',\n",
              " 'along',\n",
              " 'alot',\n",
              " 'alreadi',\n",
              " 'alright',\n",
              " 'also',\n",
              " 'alter',\n",
              " 'altern',\n",
              " 'altho',\n",
              " 'although',\n",
              " 'altogeth',\n",
              " 'aluminium',\n",
              " 'alway',\n",
              " 'am',\n",
              " 'amaiz',\n",
              " 'amaz',\n",
              " 'amazin',\n",
              " 'amazingli',\n",
              " 'amazon',\n",
              " 'america',\n",
              " 'american',\n",
              " 'an',\n",
              " 'and',\n",
              " 'andoid',\n",
              " 'andrew',\n",
              " 'andriod',\n",
              " 'android',\n",
              " 'angl',\n",
              " 'ani',\n",
              " 'anim',\n",
              " 'announc',\n",
              " 'annoy',\n",
              " 'anomali',\n",
              " 'anoth']"
            ]
          },
          "metadata": {},
          "execution_count": 17
        }
      ]
    },
    {
      "cell_type": "code",
      "metadata": {
        "colab": {
          "base_uri": "https://localhost:8080/"
        },
        "id": "1DNkXY3XGihc",
        "outputId": "e7d4d531-b0e5-4e0f-ab86-bd255953aa3e"
      },
      "source": [
        "from sklearn import metrics\n",
        "silhouette_score_tf = metrics.silhouette_score(tfidf, labels_tf, metric='euclidean')\n",
        "silhouette_score_tf"
      ],
      "execution_count": null,
      "outputs": [
        {
          "output_type": "execute_result",
          "data": {
            "text/plain": [
              "0.08378778888810091"
            ]
          },
          "metadata": {},
          "execution_count": 18
        }
      ]
    },
    {
      "cell_type": "code",
      "metadata": {
        "colab": {
          "base_uri": "https://localhost:8080/",
          "height": 758
        },
        "id": "Nk1OJDNrGm4k",
        "outputId": "213543e0-dd2d-450f-eb08-b4ec9b84469e"
      },
      "source": [
        "df1 = cluster_df\n",
        "df1['Tfidf Clus Label'] = model_tf.labels_\n",
        "df1.head(5)"
      ],
      "execution_count": null,
      "outputs": [
        {
          "output_type": "stream",
          "name": "stderr",
          "text": [
            "/usr/local/lib/python3.7/dist-packages/ipykernel_launcher.py:2: SettingWithCopyWarning: \n",
            "A value is trying to be set on a copy of a slice from a DataFrame.\n",
            "Try using .loc[row_indexer,col_indexer] = value instead\n",
            "\n",
            "See the caveats in the documentation: https://pandas.pydata.org/pandas-docs/stable/user_guide/indexing.html#returning-a-view-versus-a-copy\n",
            "  \n"
          ]
        },
        {
          "output_type": "execute_result",
          "data": {
            "text/html": [
              "<div>\n",
              "<style scoped>\n",
              "    .dataframe tbody tr th:only-of-type {\n",
              "        vertical-align: middle;\n",
              "    }\n",
              "\n",
              "    .dataframe tbody tr th {\n",
              "        vertical-align: top;\n",
              "    }\n",
              "\n",
              "    .dataframe thead th {\n",
              "        text-align: right;\n",
              "    }\n",
              "</style>\n",
              "<table border=\"1\" class=\"dataframe\">\n",
              "  <thead>\n",
              "    <tr style=\"text-align: right;\">\n",
              "      <th></th>\n",
              "      <th>Product Name</th>\n",
              "      <th>Brand Name</th>\n",
              "      <th>Price</th>\n",
              "      <th>Rating</th>\n",
              "      <th>Reviews</th>\n",
              "      <th>Review Votes</th>\n",
              "      <th>After noise removal</th>\n",
              "      <th>Punctuation removal</th>\n",
              "      <th>Remove numbers</th>\n",
              "      <th>Stopwords removal</th>\n",
              "      <th>Lower casing</th>\n",
              "      <th>Tokenization</th>\n",
              "      <th>Stemming</th>\n",
              "      <th>Lemmatization</th>\n",
              "      <th>Tfidf Clus Label</th>\n",
              "    </tr>\n",
              "  </thead>\n",
              "  <tbody>\n",
              "    <tr>\n",
              "      <th>0</th>\n",
              "      <td>\"CLEAR CLEAN ESN\" Sprint EPIC 4G Galaxy SPH-D7...</td>\n",
              "      <td>Samsung</td>\n",
              "      <td>199.99</td>\n",
              "      <td>5</td>\n",
              "      <td>I feel so LUCKY to have found this used (phone...</td>\n",
              "      <td>1.0</td>\n",
              "      <td>I feel so LUCKY to have found this used  phone...</td>\n",
              "      <td>I feel so LUCKY to have found this used  phone...</td>\n",
              "      <td>I feel so LUCKY to have found this used  phone...</td>\n",
              "      <td>I feel LUCKY found used phone us used hard pho...</td>\n",
              "      <td>i feel lucky found used phone us used hard pho...</td>\n",
              "      <td>[i, feel, lucky, found, used, phone, us, used,...</td>\n",
              "      <td>i feel lucki found use phone us use hard phone...</td>\n",
              "      <td>i feel lucki found use phone u use hard phone ...</td>\n",
              "      <td>4</td>\n",
              "    </tr>\n",
              "    <tr>\n",
              "      <th>1</th>\n",
              "      <td>\"CLEAR CLEAN ESN\" Sprint EPIC 4G Galaxy SPH-D7...</td>\n",
              "      <td>Samsung</td>\n",
              "      <td>199.99</td>\n",
              "      <td>4</td>\n",
              "      <td>nice phone, nice up grade from my pantach revu...</td>\n",
              "      <td>0.0</td>\n",
              "      <td>nice phone  nice up grade from my pantach revu...</td>\n",
              "      <td>nice phone  nice up grade from my pantach revu...</td>\n",
              "      <td>nice phone  nice up grade from my pantach revu...</td>\n",
              "      <td>nice phone nice grade pantach revue Very clean...</td>\n",
              "      <td>nice phone nice grade pantach revue very clean...</td>\n",
              "      <td>[nice, phone, nice, grade, pantach, revue, ver...</td>\n",
              "      <td>nice phone nice grade pantach revu veri clean ...</td>\n",
              "      <td>nice phone nice grade pantach revu veri clean ...</td>\n",
              "      <td>4</td>\n",
              "    </tr>\n",
              "    <tr>\n",
              "      <th>2</th>\n",
              "      <td>\"CLEAR CLEAN ESN\" Sprint EPIC 4G Galaxy SPH-D7...</td>\n",
              "      <td>Samsung</td>\n",
              "      <td>199.99</td>\n",
              "      <td>5</td>\n",
              "      <td>Very pleased</td>\n",
              "      <td>0.0</td>\n",
              "      <td>Very pleased</td>\n",
              "      <td>Very pleased</td>\n",
              "      <td>Very pleased</td>\n",
              "      <td>Very pleased</td>\n",
              "      <td>very pleased</td>\n",
              "      <td>[very, pleased]</td>\n",
              "      <td>veri pleas</td>\n",
              "      <td>veri plea</td>\n",
              "      <td>8</td>\n",
              "    </tr>\n",
              "    <tr>\n",
              "      <th>3</th>\n",
              "      <td>\"CLEAR CLEAN ESN\" Sprint EPIC 4G Galaxy SPH-D7...</td>\n",
              "      <td>Samsung</td>\n",
              "      <td>199.99</td>\n",
              "      <td>4</td>\n",
              "      <td>It works good but it goes slow sometimes but i...</td>\n",
              "      <td>0.0</td>\n",
              "      <td>It works good but it goes slow sometimes but i...</td>\n",
              "      <td>It works good but it goes slow sometimes but i...</td>\n",
              "      <td>It works good but it goes slow sometimes but i...</td>\n",
              "      <td>It works good goes slow sometimes good phone I...</td>\n",
              "      <td>it works good goes slow sometimes good phone i...</td>\n",
              "      <td>[it, works, good, goes, slow, sometimes, good,...</td>\n",
              "      <td>it work good goe slow sometim good phone i love</td>\n",
              "      <td>it work good goe slow sometim good phone i love</td>\n",
              "      <td>0</td>\n",
              "    </tr>\n",
              "    <tr>\n",
              "      <th>4</th>\n",
              "      <td>\"CLEAR CLEAN ESN\" Sprint EPIC 4G Galaxy SPH-D7...</td>\n",
              "      <td>Samsung</td>\n",
              "      <td>199.99</td>\n",
              "      <td>4</td>\n",
              "      <td>Great phone to replace my lost phone. The only...</td>\n",
              "      <td>0.0</td>\n",
              "      <td>Great phone to replace my lost phone  The only...</td>\n",
              "      <td>Great phone to replace my lost phone  The only...</td>\n",
              "      <td>Great phone to replace my lost phone  The only...</td>\n",
              "      <td>Great phone replace lost phone The thing volum...</td>\n",
              "      <td>great phone replace lost phone the thing volum...</td>\n",
              "      <td>[great, phone, replace, lost, phone, the, thin...</td>\n",
              "      <td>great phone replac lost phone the thing volum ...</td>\n",
              "      <td>great phone replac lost phone the thing volum ...</td>\n",
              "      <td>4</td>\n",
              "    </tr>\n",
              "  </tbody>\n",
              "</table>\n",
              "</div>"
            ],
            "text/plain": [
              "                                        Product Name  ... Tfidf Clus Label\n",
              "0  \"CLEAR CLEAN ESN\" Sprint EPIC 4G Galaxy SPH-D7...  ...                4\n",
              "1  \"CLEAR CLEAN ESN\" Sprint EPIC 4G Galaxy SPH-D7...  ...                4\n",
              "2  \"CLEAR CLEAN ESN\" Sprint EPIC 4G Galaxy SPH-D7...  ...                8\n",
              "3  \"CLEAR CLEAN ESN\" Sprint EPIC 4G Galaxy SPH-D7...  ...                0\n",
              "4  \"CLEAR CLEAN ESN\" Sprint EPIC 4G Galaxy SPH-D7...  ...                4\n",
              "\n",
              "[5 rows x 15 columns]"
            ]
          },
          "metadata": {},
          "execution_count": 20
        }
      ]
    },
    {
      "cell_type": "code",
      "metadata": {
        "colab": {
          "base_uri": "https://localhost:8080/"
        },
        "id": "5nEOvlanGxRc",
        "outputId": "7d316d56-43b4-4a94-e668-6d1a997c752f"
      },
      "source": [
        "df1.groupby(['Tfidf Clus Label'])['Reviews'].count()"
      ],
      "execution_count": null,
      "outputs": [
        {
          "output_type": "execute_result",
          "data": {
            "text/plain": [
              "Tfidf Clus Label\n",
              "0     60\n",
              "1     48\n",
              "2     35\n",
              "3     43\n",
              "4    276\n",
              "5     52\n",
              "6     54\n",
              "7    108\n",
              "8    310\n",
              "9     14\n",
              "Name: Reviews, dtype: int64"
            ]
          },
          "metadata": {},
          "execution_count": 21
        }
      ]
    },
    {
      "cell_type": "code",
      "metadata": {
        "colab": {
          "base_uri": "https://localhost:8080/"
        },
        "id": "X3aPrVlsGznz",
        "outputId": "c680b231-5d5f-4f2f-e4ad-a23bf40fbd22"
      },
      "source": [
        "print(\"Top clusters:\")\n",
        "order_centroids = model_tf.cluster_centers_.argsort()[:, ::-1]\n",
        "for i in range(10):\n",
        "    print(\"Cluster %d:\" % i, end='')\n",
        "    for ind in order_centroids[i, :10]:\n",
        "        print(' %s' % terms1[ind], end='')\n",
        "        print()"
      ],
      "execution_count": null,
      "outputs": [
        {
          "output_type": "stream",
          "name": "stdout",
          "text": [
            "Top clusters:\n",
            "Cluster 0: good\n",
            " veri\n",
            " phone\n",
            " product\n",
            " price\n",
            " buy\n",
            " tank\n",
            " thank\n",
            " mobil\n",
            " recomend\n",
            "Cluster 1: great\n",
            " phone\n",
            " work\n",
            " price\n",
            " expect\n",
            " fast\n",
            " good\n",
            " luv\n",
            " product\n",
            " use\n",
            "Cluster 2: excelent\n",
            " telefono\n",
            " muy\n",
            " bueno\n",
            " producto\n",
            " fraction\n",
            " freeli\n",
            " freedompop\n",
            " freedom\n",
            " free\n",
            "Cluster 3: love\n",
            " phone\n",
            " my\n",
            " use\n",
            " mom\n",
            " great\n",
            " it\n",
            " easi\n",
            " best\n",
            " like\n",
            "Cluster 4: phone\n",
            " the\n",
            " it\n",
            " use\n",
            " screen\n",
            " good\n",
            " card\n",
            " sim\n",
            " thi\n",
            " like\n",
            "Cluster 5: excel\n",
            " product\n",
            " recommend\n",
            " seller\n",
            " thank\n",
            " phone\n",
            " fash\n",
            " function\n",
            " five\n",
            " cellphon\n",
            "Cluster 6: charg\n",
            " phone\n",
            " turn\n",
            " batteri\n",
            " work\n",
            " use\n",
            " night\n",
            " would\n",
            " back\n",
            " add\n",
            "Cluster 7: work\n",
            " phone\n",
            " bought\n",
            " the\n",
            " it\n",
            " item\n",
            " call\n",
            " use\n",
            " lousi\n",
            " month\n",
            "Cluster 8: ok\n",
            " phone\n",
            " bad\n",
            " good\n",
            " bueno\n",
            " it\n",
            " like\n",
            " thank\n",
            " muy\n",
            " exelent\n",
            "Cluster 9: defect\n",
            " had\n",
            " slow\n",
            " phone\n",
            " repair\n",
            " charg\n",
            " week\n",
            " diagonosi\n",
            " return\n",
            " port\n"
          ]
        }
      ]
    },
    {
      "cell_type": "code",
      "metadata": {
        "colab": {
          "base_uri": "https://localhost:8080/"
        },
        "id": "6RhANXpFG5At",
        "outputId": "d788a02a-e7b6-4b5b-9fc9-78b1bceecfe5"
      },
      "source": [
        "# Reading a description which belong to each group.\n",
        "\n",
        "for i in range(10):\n",
        "    print(\"4 reviews of ensured to cluster \", i)\n",
        "    print(\"-\" * 70)\n",
        "    print(df1.iloc[df1.groupby(['Tfidf Clus Label']).groups[i][0]]['Reviews'])\n",
        "    print('\\n')\n",
        "    print(df1.iloc[df1.groupby(['Tfidf Clus Label']).groups[i][5]]['Reviews'])\n",
        "    print('\\n')\n",
        "    print(df1.iloc[df1.groupby(['Tfidf Clus Label']).groups[i][10]]['Reviews'])\n",
        "    print('\\n')\n",
        "    print(\"_\" * 70)"
      ],
      "execution_count": null,
      "outputs": [
        {
          "output_type": "stream",
          "name": "stdout",
          "text": [
            "4 reviews of ensured to cluster  0\n",
            "----------------------------------------------------------------------\n",
            "It works good but it goes slow sometimes but its a very good phone I love it\n",
            "\n",
            "\n",
            "Is a good product That I recomended it has all you will need, it's fast good looking very good,thank you\n",
            "\n",
            "\n",
            "Good phone\n",
            "\n",
            "\n",
            "______________________________________________________________________\n",
            "4 reviews of ensured to cluster  1\n",
            "----------------------------------------------------------------------\n",
            "I brought this phone as a replacement for my daughter, who is very hard on cell phones. I must say it was a great purchase. The phone work wonderful. Thank you\n",
            "\n",
            "\n",
            "The phone was great but it had gotten old so it was time for a replacement.it was great while it lasted.\n",
            "\n",
            "\n",
            "Great. Arrived quickly.\n",
            "\n",
            "\n",
            "______________________________________________________________________\n",
            "4 reviews of ensured to cluster  2\n",
            "----------------------------------------------------------------------\n",
            "excelente\n",
            "\n",
            "\n",
            "Excelente\n",
            "\n",
            "\n",
            "excelente\n",
            "\n",
            "\n",
            "______________________________________________________________________\n",
            "4 reviews of ensured to cluster  3\n",
            "----------------------------------------------------------------------\n",
            "I like these phone I bought it for my mom and she loves it\n",
            "\n",
            "\n",
            "like your ad...love it!\n",
            "\n",
            "\n",
            "It was a gift for my Grandma in South America and she loved it thanks!\n",
            "\n",
            "\n",
            "______________________________________________________________________\n",
            "4 reviews of ensured to cluster  4\n",
            "----------------------------------------------------------------------\n",
            "I feel so LUCKY to have found this used (phone to us & not used hard at all), phone on line from someone who upgraded and sold this one. My Son liked his old one that finally fell apart after 2.5+ years and didn't want an upgrade!! Thank you Seller, we really appreciate it & your honesty re: said used phone.I recommend this seller very highly & would but from them again!!\n",
            "\n",
            "\n",
            "I'm really disappointed about my phone and service. The phone went out on me over a week ago. Instead of handling it when issue first surfaced. I've been told to do this and do that. Now I'm stick with no phone and I'm out 55 dollars for service that I'm not using. I still haven't received a mailing label to return item. This was my first purchase on amazon. I'm not rushing to use theirs or smartphones 288 business Anytime soon. I thought I was getting a deal but it seems like I'm the one who lucked out.\n",
            "\n",
            "\n",
            "pros-beautiful screen,capable of running chrome,take good pictures,the keyboard is comfy,fits in my pocket and fit my hands,plays really good videos and gamescons-no Bluetooth,came late,run down fast really quick,doesnt play 1080p videos.but I would still recommend it to those who like to talk and text a lot like me and watch a lot of movies\n",
            "\n",
            "\n",
            "______________________________________________________________________\n",
            "4 reviews of ensured to cluster  5\n",
            "----------------------------------------------------------------------\n",
            "excellent product in perfect condition\n",
            "\n",
            "\n",
            "Excellent phone has all the special functions to be communicated with all social networks, excellent operational...I recommend it 100% excellent product\n",
            "\n",
            "\n",
            "Excelent\n",
            "\n",
            "\n",
            "______________________________________________________________________\n",
            "4 reviews of ensured to cluster  6\n",
            "----------------------------------------------------------------------\n",
            "I already had a phone with problems... I know it stated it was used, but dang, it did not state that it did not charge. I wish I would have read these comments then I would have not purchased this item.... and its cracked on the side.. damaged goods is what it is.... If trying to charge it another way does not work I am requesting for my money back... AND I WILL GET MY MONEY BACK...SIGNED AN UNHAPPY CUSTOMER....\n",
            "\n",
            "\n",
            "This may be an issue of expectation mismatch. For one thing, the phone is much smaller than I expected. Some might think this is a good thing. But for many elderly and hearing aid equipped people, it would work better if the physical dimensions were larger. Secondly, the time to hold the red button for turning the phone off is too short. My 90 year old mother in law often turns the phone off when she is hanging up.That being said, the phone works fine. The buttons and numbers are large.\n",
            "\n",
            "\n",
            "When charging the battery the screen had waves of interference to the point I would not use the tablet while charging. I returned the tablet.\n",
            "\n",
            "\n",
            "______________________________________________________________________\n",
            "4 reviews of ensured to cluster  7\n",
            "----------------------------------------------------------------------\n",
            "Phone is working on, I was planning to use it for whatsapp anyway. The oh problem, I can't change the idiom\n",
            "\n",
            "\n",
            "the charger did not work. My parents started using the cable directly to the phone\n",
            "\n",
            "\n",
            "Stopped working after 2 months. Not happy with this phone.\n",
            "\n",
            "\n",
            "______________________________________________________________________\n",
            "4 reviews of ensured to cluster  8\n",
            "----------------------------------------------------------------------\n",
            "Very pleased\n",
            "\n",
            "\n",
            "the reasons for the 3 star rating was it was in my opinion better than my iphone 4s but it tends to randomly crash, and randomly power off but it is good for storage space, battery usage, and camera\n",
            "\n",
            "\n",
            "I love the phone, but one problem and one problem only............once the mic goes that's it. No more mic. But it can take a beating.\n",
            "\n",
            "\n",
            "______________________________________________________________________\n",
            "4 reviews of ensured to cluster  9\n",
            "----------------------------------------------------------------------\n",
            "the phone is unable to maintain signal after 2 weeks of usage on the TMobile network. I hope it is a defected product\n",
            "\n",
            "\n",
            "It was slow, but worked fine. However after only 2 weeks it wouldn't charge. After diagonosis, it was charging port that was defective and could not be repaired. May be just this one i received. I ended up returning the phone.\n",
            "\n",
            "\n",
            "Came with only Chinese instructions. Defective and would not charge for many days. Had to return to Amazon.\n",
            "\n",
            "\n",
            "______________________________________________________________________\n"
          ]
        }
      ]
    },
    {
      "cell_type": "code",
      "metadata": {
        "colab": {
          "base_uri": "https://localhost:8080/"
        },
        "id": "KIxg5mHbG8GR",
        "outputId": "99964adc-9c4e-4822-cf37-80558ef6ef07"
      },
      "source": [
        "# Generating bag of words features.\n",
        "from sklearn.feature_extraction.text import CountVectorizer\n",
        "count_vect = CountVectorizer()\n",
        "bow = count_vect.fit_transform(cluster_df['Reviews'].values)\n",
        "bow.shape"
      ],
      "execution_count": null,
      "outputs": [
        {
          "output_type": "execute_result",
          "data": {
            "text/plain": [
              "(1000, 3455)"
            ]
          },
          "metadata": {},
          "execution_count": 25
        }
      ]
    },
    {
      "cell_type": "code",
      "metadata": {
        "colab": {
          "base_uri": "https://localhost:8080/"
        },
        "id": "3FrmSBSoHBAJ",
        "outputId": "bd5192dc-dac1-4bfd-942e-bd4e178b4cf2"
      },
      "source": [
        "from sklearn.cluster import KMeans\n",
        "model = KMeans(n_clusters = 10,init='k-means++',random_state=99)\n",
        "model.fit(bow)"
      ],
      "execution_count": null,
      "outputs": [
        {
          "output_type": "execute_result",
          "data": {
            "text/plain": [
              "KMeans(n_clusters=10, random_state=99)"
            ]
          },
          "metadata": {},
          "execution_count": 26
        }
      ]
    },
    {
      "cell_type": "code",
      "metadata": {
        "id": "2wKZnpj0HDsV"
      },
      "source": [
        "labels = model.labels_\n",
        "cluster_center=model.cluster_centers_"
      ],
      "execution_count": null,
      "outputs": []
    },
    {
      "cell_type": "code",
      "metadata": {
        "colab": {
          "base_uri": "https://localhost:8080/"
        },
        "id": "VGItFHhzHGNT",
        "outputId": "3e32c877-df79-4854-f791-fd0cf3561f67"
      },
      "source": [
        "from sklearn import metrics\n",
        "print(metrics.silhouette_score(bow, labels, metric='euclidean'))"
      ],
      "execution_count": null,
      "outputs": [
        {
          "output_type": "stream",
          "name": "stdout",
          "text": [
            "0.39528026327024723\n"
          ]
        }
      ]
    },
    {
      "cell_type": "code",
      "metadata": {
        "colab": {
          "base_uri": "https://localhost:8080/",
          "height": 842
        },
        "id": "U49Bes9hHJiH",
        "outputId": "3e084510-0fa1-4e96-987f-9b850da171de"
      },
      "source": [
        "cluster_df['Bow Label'] = model.labels_ \n",
        "cluster_df.head(5)"
      ],
      "execution_count": null,
      "outputs": [
        {
          "output_type": "stream",
          "name": "stderr",
          "text": [
            "/usr/local/lib/python3.7/dist-packages/ipykernel_launcher.py:1: SettingWithCopyWarning: \n",
            "A value is trying to be set on a copy of a slice from a DataFrame.\n",
            "Try using .loc[row_indexer,col_indexer] = value instead\n",
            "\n",
            "See the caveats in the documentation: https://pandas.pydata.org/pandas-docs/stable/user_guide/indexing.html#returning-a-view-versus-a-copy\n",
            "  \"\"\"Entry point for launching an IPython kernel.\n"
          ]
        },
        {
          "output_type": "execute_result",
          "data": {
            "text/html": [
              "<div>\n",
              "<style scoped>\n",
              "    .dataframe tbody tr th:only-of-type {\n",
              "        vertical-align: middle;\n",
              "    }\n",
              "\n",
              "    .dataframe tbody tr th {\n",
              "        vertical-align: top;\n",
              "    }\n",
              "\n",
              "    .dataframe thead th {\n",
              "        text-align: right;\n",
              "    }\n",
              "</style>\n",
              "<table border=\"1\" class=\"dataframe\">\n",
              "  <thead>\n",
              "    <tr style=\"text-align: right;\">\n",
              "      <th></th>\n",
              "      <th>Product Name</th>\n",
              "      <th>Brand Name</th>\n",
              "      <th>Price</th>\n",
              "      <th>Rating</th>\n",
              "      <th>Reviews</th>\n",
              "      <th>Review Votes</th>\n",
              "      <th>After noise removal</th>\n",
              "      <th>Punctuation removal</th>\n",
              "      <th>Remove numbers</th>\n",
              "      <th>Stopwords removal</th>\n",
              "      <th>Lower casing</th>\n",
              "      <th>Tokenization</th>\n",
              "      <th>Stemming</th>\n",
              "      <th>Lemmatization</th>\n",
              "      <th>Tfidf Clus Label</th>\n",
              "      <th>Bow Label</th>\n",
              "    </tr>\n",
              "  </thead>\n",
              "  <tbody>\n",
              "    <tr>\n",
              "      <th>0</th>\n",
              "      <td>\"CLEAR CLEAN ESN\" Sprint EPIC 4G Galaxy SPH-D7...</td>\n",
              "      <td>Samsung</td>\n",
              "      <td>199.99</td>\n",
              "      <td>5</td>\n",
              "      <td>I feel so LUCKY to have found this used (phone...</td>\n",
              "      <td>1.0</td>\n",
              "      <td>I feel so LUCKY to have found this used  phone...</td>\n",
              "      <td>I feel so LUCKY to have found this used  phone...</td>\n",
              "      <td>I feel so LUCKY to have found this used  phone...</td>\n",
              "      <td>I feel LUCKY found used phone us used hard pho...</td>\n",
              "      <td>i feel lucky found used phone us used hard pho...</td>\n",
              "      <td>[i, feel, lucky, found, used, phone, us, used,...</td>\n",
              "      <td>i feel lucki found use phone us use hard phone...</td>\n",
              "      <td>i feel lucki found use phone u use hard phone ...</td>\n",
              "      <td>4</td>\n",
              "      <td>9</td>\n",
              "    </tr>\n",
              "    <tr>\n",
              "      <th>1</th>\n",
              "      <td>\"CLEAR CLEAN ESN\" Sprint EPIC 4G Galaxy SPH-D7...</td>\n",
              "      <td>Samsung</td>\n",
              "      <td>199.99</td>\n",
              "      <td>4</td>\n",
              "      <td>nice phone, nice up grade from my pantach revu...</td>\n",
              "      <td>0.0</td>\n",
              "      <td>nice phone  nice up grade from my pantach revu...</td>\n",
              "      <td>nice phone  nice up grade from my pantach revu...</td>\n",
              "      <td>nice phone  nice up grade from my pantach revu...</td>\n",
              "      <td>nice phone nice grade pantach revue Very clean...</td>\n",
              "      <td>nice phone nice grade pantach revue very clean...</td>\n",
              "      <td>[nice, phone, nice, grade, pantach, revue, ver...</td>\n",
              "      <td>nice phone nice grade pantach revu veri clean ...</td>\n",
              "      <td>nice phone nice grade pantach revu veri clean ...</td>\n",
              "      <td>4</td>\n",
              "      <td>0</td>\n",
              "    </tr>\n",
              "    <tr>\n",
              "      <th>2</th>\n",
              "      <td>\"CLEAR CLEAN ESN\" Sprint EPIC 4G Galaxy SPH-D7...</td>\n",
              "      <td>Samsung</td>\n",
              "      <td>199.99</td>\n",
              "      <td>5</td>\n",
              "      <td>Very pleased</td>\n",
              "      <td>0.0</td>\n",
              "      <td>Very pleased</td>\n",
              "      <td>Very pleased</td>\n",
              "      <td>Very pleased</td>\n",
              "      <td>Very pleased</td>\n",
              "      <td>very pleased</td>\n",
              "      <td>[very, pleased]</td>\n",
              "      <td>veri pleas</td>\n",
              "      <td>veri plea</td>\n",
              "      <td>8</td>\n",
              "      <td>0</td>\n",
              "    </tr>\n",
              "    <tr>\n",
              "      <th>3</th>\n",
              "      <td>\"CLEAR CLEAN ESN\" Sprint EPIC 4G Galaxy SPH-D7...</td>\n",
              "      <td>Samsung</td>\n",
              "      <td>199.99</td>\n",
              "      <td>4</td>\n",
              "      <td>It works good but it goes slow sometimes but i...</td>\n",
              "      <td>0.0</td>\n",
              "      <td>It works good but it goes slow sometimes but i...</td>\n",
              "      <td>It works good but it goes slow sometimes but i...</td>\n",
              "      <td>It works good but it goes slow sometimes but i...</td>\n",
              "      <td>It works good goes slow sometimes good phone I...</td>\n",
              "      <td>it works good goes slow sometimes good phone i...</td>\n",
              "      <td>[it, works, good, goes, slow, sometimes, good,...</td>\n",
              "      <td>it work good goe slow sometim good phone i love</td>\n",
              "      <td>it work good goe slow sometim good phone i love</td>\n",
              "      <td>0</td>\n",
              "      <td>0</td>\n",
              "    </tr>\n",
              "    <tr>\n",
              "      <th>4</th>\n",
              "      <td>\"CLEAR CLEAN ESN\" Sprint EPIC 4G Galaxy SPH-D7...</td>\n",
              "      <td>Samsung</td>\n",
              "      <td>199.99</td>\n",
              "      <td>4</td>\n",
              "      <td>Great phone to replace my lost phone. The only...</td>\n",
              "      <td>0.0</td>\n",
              "      <td>Great phone to replace my lost phone  The only...</td>\n",
              "      <td>Great phone to replace my lost phone  The only...</td>\n",
              "      <td>Great phone to replace my lost phone  The only...</td>\n",
              "      <td>Great phone replace lost phone The thing volum...</td>\n",
              "      <td>great phone replace lost phone the thing volum...</td>\n",
              "      <td>[great, phone, replace, lost, phone, the, thin...</td>\n",
              "      <td>great phone replac lost phone the thing volum ...</td>\n",
              "      <td>great phone replac lost phone the thing volum ...</td>\n",
              "      <td>4</td>\n",
              "      <td>9</td>\n",
              "    </tr>\n",
              "  </tbody>\n",
              "</table>\n",
              "</div>"
            ],
            "text/plain": [
              "                                        Product Name  ... Bow Label\n",
              "0  \"CLEAR CLEAN ESN\" Sprint EPIC 4G Galaxy SPH-D7...  ...         9\n",
              "1  \"CLEAR CLEAN ESN\" Sprint EPIC 4G Galaxy SPH-D7...  ...         0\n",
              "2  \"CLEAR CLEAN ESN\" Sprint EPIC 4G Galaxy SPH-D7...  ...         0\n",
              "3  \"CLEAR CLEAN ESN\" Sprint EPIC 4G Galaxy SPH-D7...  ...         0\n",
              "4  \"CLEAR CLEAN ESN\" Sprint EPIC 4G Galaxy SPH-D7...  ...         9\n",
              "\n",
              "[5 rows x 16 columns]"
            ]
          },
          "metadata": {},
          "execution_count": 32
        }
      ]
    },
    {
      "cell_type": "code",
      "metadata": {
        "id": "EI39Dy-vHSmP"
      },
      "source": [
        "from sklearn.cluster import DBSCAN\n",
        "import numpy as np\n",
        "\n",
        "minPts = 2 * 100\n",
        "# Lower bound function copied from -> https://gist.github.com/m00nlight/0f9306b4d4e61ba0195f\n",
        "def lower_bound(nums, target): # This function return the number in the array just greater than or equal to itself.\n",
        "    l, r = 0, len(nums) - 1\n",
        "    while l <= r: # Binary searching.\n",
        "        mid = int(l + (r - l) / 2)\n",
        "        if nums[mid] >= target:\n",
        "            r = mid - 1\n",
        "        else:\n",
        "            l = mid + 1\n",
        "    return l\n",
        "\n",
        "def compute200thnearestneighbour(x, data): \n",
        "    dists = []\n",
        "    for val in data:\n",
        "        dist = np.sum((x - val) **2 )\n",
        "        if (len(dists) == 200 and dists[199] > dist): \n",
        "          l = int(lower_bound(dists, dist)) \n",
        "          if l < 200 and l >= 0 and dists[l] > dist:\n",
        "              dists[l] = dist\n",
        "        else:\n",
        "          dists.append(dist)\n",
        "          dists.sort()\n",
        "    \n",
        "    return dists[199]"
      ],
      "execution_count": null,
      "outputs": []
    },
    {
      "cell_type": "code",
      "metadata": {
        "id": "xB7hm43dHVnI"
      },
      "source": [
        "list_of_sent_train = list()\n",
        "\n",
        "for i in cluster_df[\"Lower casing\"].values:\n",
        "  list_of_sent_train.append(i.split())"
      ],
      "execution_count": null,
      "outputs": []
    },
    {
      "cell_type": "code",
      "metadata": {
        "colab": {
          "base_uri": "https://localhost:8080/"
        },
        "id": "kn-aojY0HZjt",
        "outputId": "5f1eb897-482e-42a1-e4db-46677db1ab3f"
      },
      "source": [
        "import gensim\n",
        "w2v_model=gensim.models.Word2Vec(list_of_sent_train, size=100, workers=4)\n",
        "\n",
        "import numpy as np\n",
        "sent_vectors = []; \n",
        "count = 1\n",
        "for sent in list_of_sent_train: # for each reviews\n",
        "    sent_vec = np.zeros(100)\n",
        "    cnt_words =1; # num of words in reviews\n",
        "    for word in sent: # for each word in a reviews\n",
        "        try:\n",
        "            vec = w2v_model.wv[word]\n",
        "            sent_vec += vec\n",
        "            cnt_words += 1\n",
        "        except:\n",
        "            pass\n",
        "    sent_vec /= cnt_words\n",
        "    sent_vectors.append(sent_vec)\n",
        "sent_vectors = np.array(sent_vectors)\n",
        "sent_vectors = np.nan_to_num(sent_vectors)\n",
        "\n",
        "\n",
        "twohundrethneigh = []\n",
        "for val in sent_vectors[:300]:\n",
        "    twohundrethneigh.append(compute200thnearestneighbour(val, sent_vectors[:300]) )\n",
        "twohundrethneigh.sort()\n",
        "\n",
        "# Training DBSCAN :\n",
        "model = DBSCAN(eps = 5, min_samples = minPts, n_jobs=-1)\n",
        "model.fit(sent_vectors)"
      ],
      "execution_count": null,
      "outputs": [
        {
          "output_type": "execute_result",
          "data": {
            "text/plain": [
              "DBSCAN(eps=5, min_samples=200, n_jobs=-1)"
            ]
          },
          "metadata": {},
          "execution_count": 36
        }
      ]
    },
    {
      "cell_type": "code",
      "metadata": {
        "colab": {
          "base_uri": "https://localhost:8080/",
          "height": 858
        },
        "id": "EW2GekLRHc3q",
        "outputId": "d40220a2-dcc1-4a8b-db0e-abbf4282e6cc"
      },
      "source": [
        "cluster_df['AVG-W2V Clus Label'] = model.labels_\n",
        "cluster_df.head(5)"
      ],
      "execution_count": null,
      "outputs": [
        {
          "output_type": "stream",
          "name": "stderr",
          "text": [
            "/usr/local/lib/python3.7/dist-packages/ipykernel_launcher.py:1: SettingWithCopyWarning: \n",
            "A value is trying to be set on a copy of a slice from a DataFrame.\n",
            "Try using .loc[row_indexer,col_indexer] = value instead\n",
            "\n",
            "See the caveats in the documentation: https://pandas.pydata.org/pandas-docs/stable/user_guide/indexing.html#returning-a-view-versus-a-copy\n",
            "  \"\"\"Entry point for launching an IPython kernel.\n"
          ]
        },
        {
          "output_type": "execute_result",
          "data": {
            "text/html": [
              "<div>\n",
              "<style scoped>\n",
              "    .dataframe tbody tr th:only-of-type {\n",
              "        vertical-align: middle;\n",
              "    }\n",
              "\n",
              "    .dataframe tbody tr th {\n",
              "        vertical-align: top;\n",
              "    }\n",
              "\n",
              "    .dataframe thead th {\n",
              "        text-align: right;\n",
              "    }\n",
              "</style>\n",
              "<table border=\"1\" class=\"dataframe\">\n",
              "  <thead>\n",
              "    <tr style=\"text-align: right;\">\n",
              "      <th></th>\n",
              "      <th>Product Name</th>\n",
              "      <th>Brand Name</th>\n",
              "      <th>Price</th>\n",
              "      <th>Rating</th>\n",
              "      <th>Reviews</th>\n",
              "      <th>Review Votes</th>\n",
              "      <th>After noise removal</th>\n",
              "      <th>Punctuation removal</th>\n",
              "      <th>Remove numbers</th>\n",
              "      <th>Stopwords removal</th>\n",
              "      <th>Lower casing</th>\n",
              "      <th>Tokenization</th>\n",
              "      <th>Stemming</th>\n",
              "      <th>Lemmatization</th>\n",
              "      <th>Tfidf Clus Label</th>\n",
              "      <th>Bow Label</th>\n",
              "      <th>AVG-W2V Clus Label</th>\n",
              "    </tr>\n",
              "  </thead>\n",
              "  <tbody>\n",
              "    <tr>\n",
              "      <th>0</th>\n",
              "      <td>\"CLEAR CLEAN ESN\" Sprint EPIC 4G Galaxy SPH-D7...</td>\n",
              "      <td>Samsung</td>\n",
              "      <td>199.99</td>\n",
              "      <td>5</td>\n",
              "      <td>I feel so LUCKY to have found this used (phone...</td>\n",
              "      <td>1.0</td>\n",
              "      <td>I feel so LUCKY to have found this used  phone...</td>\n",
              "      <td>I feel so LUCKY to have found this used  phone...</td>\n",
              "      <td>I feel so LUCKY to have found this used  phone...</td>\n",
              "      <td>I feel LUCKY found used phone us used hard pho...</td>\n",
              "      <td>i feel lucky found used phone us used hard pho...</td>\n",
              "      <td>[i, feel, lucky, found, used, phone, us, used,...</td>\n",
              "      <td>i feel lucki found use phone us use hard phone...</td>\n",
              "      <td>i feel lucki found use phone u use hard phone ...</td>\n",
              "      <td>4</td>\n",
              "      <td>9</td>\n",
              "      <td>0</td>\n",
              "    </tr>\n",
              "    <tr>\n",
              "      <th>1</th>\n",
              "      <td>\"CLEAR CLEAN ESN\" Sprint EPIC 4G Galaxy SPH-D7...</td>\n",
              "      <td>Samsung</td>\n",
              "      <td>199.99</td>\n",
              "      <td>4</td>\n",
              "      <td>nice phone, nice up grade from my pantach revu...</td>\n",
              "      <td>0.0</td>\n",
              "      <td>nice phone  nice up grade from my pantach revu...</td>\n",
              "      <td>nice phone  nice up grade from my pantach revu...</td>\n",
              "      <td>nice phone  nice up grade from my pantach revu...</td>\n",
              "      <td>nice phone nice grade pantach revue Very clean...</td>\n",
              "      <td>nice phone nice grade pantach revue very clean...</td>\n",
              "      <td>[nice, phone, nice, grade, pantach, revue, ver...</td>\n",
              "      <td>nice phone nice grade pantach revu veri clean ...</td>\n",
              "      <td>nice phone nice grade pantach revu veri clean ...</td>\n",
              "      <td>4</td>\n",
              "      <td>0</td>\n",
              "      <td>0</td>\n",
              "    </tr>\n",
              "    <tr>\n",
              "      <th>2</th>\n",
              "      <td>\"CLEAR CLEAN ESN\" Sprint EPIC 4G Galaxy SPH-D7...</td>\n",
              "      <td>Samsung</td>\n",
              "      <td>199.99</td>\n",
              "      <td>5</td>\n",
              "      <td>Very pleased</td>\n",
              "      <td>0.0</td>\n",
              "      <td>Very pleased</td>\n",
              "      <td>Very pleased</td>\n",
              "      <td>Very pleased</td>\n",
              "      <td>Very pleased</td>\n",
              "      <td>very pleased</td>\n",
              "      <td>[very, pleased]</td>\n",
              "      <td>veri pleas</td>\n",
              "      <td>veri plea</td>\n",
              "      <td>8</td>\n",
              "      <td>0</td>\n",
              "      <td>0</td>\n",
              "    </tr>\n",
              "    <tr>\n",
              "      <th>3</th>\n",
              "      <td>\"CLEAR CLEAN ESN\" Sprint EPIC 4G Galaxy SPH-D7...</td>\n",
              "      <td>Samsung</td>\n",
              "      <td>199.99</td>\n",
              "      <td>4</td>\n",
              "      <td>It works good but it goes slow sometimes but i...</td>\n",
              "      <td>0.0</td>\n",
              "      <td>It works good but it goes slow sometimes but i...</td>\n",
              "      <td>It works good but it goes slow sometimes but i...</td>\n",
              "      <td>It works good but it goes slow sometimes but i...</td>\n",
              "      <td>It works good goes slow sometimes good phone I...</td>\n",
              "      <td>it works good goes slow sometimes good phone i...</td>\n",
              "      <td>[it, works, good, goes, slow, sometimes, good,...</td>\n",
              "      <td>it work good goe slow sometim good phone i love</td>\n",
              "      <td>it work good goe slow sometim good phone i love</td>\n",
              "      <td>0</td>\n",
              "      <td>0</td>\n",
              "      <td>0</td>\n",
              "    </tr>\n",
              "    <tr>\n",
              "      <th>4</th>\n",
              "      <td>\"CLEAR CLEAN ESN\" Sprint EPIC 4G Galaxy SPH-D7...</td>\n",
              "      <td>Samsung</td>\n",
              "      <td>199.99</td>\n",
              "      <td>4</td>\n",
              "      <td>Great phone to replace my lost phone. The only...</td>\n",
              "      <td>0.0</td>\n",
              "      <td>Great phone to replace my lost phone  The only...</td>\n",
              "      <td>Great phone to replace my lost phone  The only...</td>\n",
              "      <td>Great phone to replace my lost phone  The only...</td>\n",
              "      <td>Great phone replace lost phone The thing volum...</td>\n",
              "      <td>great phone replace lost phone the thing volum...</td>\n",
              "      <td>[great, phone, replace, lost, phone, the, thin...</td>\n",
              "      <td>great phone replac lost phone the thing volum ...</td>\n",
              "      <td>great phone replac lost phone the thing volum ...</td>\n",
              "      <td>4</td>\n",
              "      <td>9</td>\n",
              "      <td>0</td>\n",
              "    </tr>\n",
              "  </tbody>\n",
              "</table>\n",
              "</div>"
            ],
            "text/plain": [
              "                                        Product Name  ... AVG-W2V Clus Label\n",
              "0  \"CLEAR CLEAN ESN\" Sprint EPIC 4G Galaxy SPH-D7...  ...                  0\n",
              "1  \"CLEAR CLEAN ESN\" Sprint EPIC 4G Galaxy SPH-D7...  ...                  0\n",
              "2  \"CLEAR CLEAN ESN\" Sprint EPIC 4G Galaxy SPH-D7...  ...                  0\n",
              "3  \"CLEAR CLEAN ESN\" Sprint EPIC 4G Galaxy SPH-D7...  ...                  0\n",
              "4  \"CLEAR CLEAN ESN\" Sprint EPIC 4G Galaxy SPH-D7...  ...                  0\n",
              "\n",
              "[5 rows x 17 columns]"
            ]
          },
          "metadata": {},
          "execution_count": 37
        }
      ]
    },
    {
      "cell_type": "code",
      "metadata": {
        "id": "AvAytNnEHjV4"
      },
      "source": [
        "import scipy\n",
        "from scipy.cluster import hierarchy"
      ],
      "execution_count": null,
      "outputs": []
    },
    {
      "cell_type": "code",
      "metadata": {
        "colab": {
          "base_uri": "https://localhost:8080/",
          "height": 858
        },
        "id": "BG_m2cg7Hn4J",
        "outputId": "827922a0-b3fe-4977-8e76-a932979efce5"
      },
      "source": [
        "from sklearn.cluster import AgglomerativeClustering\n",
        "\n",
        "cluster = AgglomerativeClustering(n_clusters=5, affinity='euclidean', linkage='ward') \n",
        "Agg=cluster.fit_predict(sent_vectors)\n",
        "\n",
        "aggdfa = cluster_df\n",
        "aggdfa['AVG-W2V Clus Label'] = cluster.labels_\n",
        "aggdfa.head(5)"
      ],
      "execution_count": null,
      "outputs": [
        {
          "output_type": "stream",
          "name": "stderr",
          "text": [
            "/usr/local/lib/python3.7/dist-packages/ipykernel_launcher.py:7: SettingWithCopyWarning: \n",
            "A value is trying to be set on a copy of a slice from a DataFrame.\n",
            "Try using .loc[row_indexer,col_indexer] = value instead\n",
            "\n",
            "See the caveats in the documentation: https://pandas.pydata.org/pandas-docs/stable/user_guide/indexing.html#returning-a-view-versus-a-copy\n",
            "  import sys\n"
          ]
        },
        {
          "output_type": "execute_result",
          "data": {
            "text/html": [
              "<div>\n",
              "<style scoped>\n",
              "    .dataframe tbody tr th:only-of-type {\n",
              "        vertical-align: middle;\n",
              "    }\n",
              "\n",
              "    .dataframe tbody tr th {\n",
              "        vertical-align: top;\n",
              "    }\n",
              "\n",
              "    .dataframe thead th {\n",
              "        text-align: right;\n",
              "    }\n",
              "</style>\n",
              "<table border=\"1\" class=\"dataframe\">\n",
              "  <thead>\n",
              "    <tr style=\"text-align: right;\">\n",
              "      <th></th>\n",
              "      <th>Product Name</th>\n",
              "      <th>Brand Name</th>\n",
              "      <th>Price</th>\n",
              "      <th>Rating</th>\n",
              "      <th>Reviews</th>\n",
              "      <th>Review Votes</th>\n",
              "      <th>After noise removal</th>\n",
              "      <th>Punctuation removal</th>\n",
              "      <th>Remove numbers</th>\n",
              "      <th>Stopwords removal</th>\n",
              "      <th>Lower casing</th>\n",
              "      <th>Tokenization</th>\n",
              "      <th>Stemming</th>\n",
              "      <th>Lemmatization</th>\n",
              "      <th>Tfidf Clus Label</th>\n",
              "      <th>Bow Label</th>\n",
              "      <th>AVG-W2V Clus Label</th>\n",
              "    </tr>\n",
              "  </thead>\n",
              "  <tbody>\n",
              "    <tr>\n",
              "      <th>0</th>\n",
              "      <td>\"CLEAR CLEAN ESN\" Sprint EPIC 4G Galaxy SPH-D7...</td>\n",
              "      <td>Samsung</td>\n",
              "      <td>199.99</td>\n",
              "      <td>5</td>\n",
              "      <td>I feel so LUCKY to have found this used (phone...</td>\n",
              "      <td>1.0</td>\n",
              "      <td>I feel so LUCKY to have found this used  phone...</td>\n",
              "      <td>I feel so LUCKY to have found this used  phone...</td>\n",
              "      <td>I feel so LUCKY to have found this used  phone...</td>\n",
              "      <td>I feel LUCKY found used phone us used hard pho...</td>\n",
              "      <td>i feel lucky found used phone us used hard pho...</td>\n",
              "      <td>[i, feel, lucky, found, used, phone, us, used,...</td>\n",
              "      <td>i feel lucki found use phone us use hard phone...</td>\n",
              "      <td>i feel lucki found use phone u use hard phone ...</td>\n",
              "      <td>4</td>\n",
              "      <td>9</td>\n",
              "      <td>4</td>\n",
              "    </tr>\n",
              "    <tr>\n",
              "      <th>1</th>\n",
              "      <td>\"CLEAR CLEAN ESN\" Sprint EPIC 4G Galaxy SPH-D7...</td>\n",
              "      <td>Samsung</td>\n",
              "      <td>199.99</td>\n",
              "      <td>4</td>\n",
              "      <td>nice phone, nice up grade from my pantach revu...</td>\n",
              "      <td>0.0</td>\n",
              "      <td>nice phone  nice up grade from my pantach revu...</td>\n",
              "      <td>nice phone  nice up grade from my pantach revu...</td>\n",
              "      <td>nice phone  nice up grade from my pantach revu...</td>\n",
              "      <td>nice phone nice grade pantach revue Very clean...</td>\n",
              "      <td>nice phone nice grade pantach revue very clean...</td>\n",
              "      <td>[nice, phone, nice, grade, pantach, revue, ver...</td>\n",
              "      <td>nice phone nice grade pantach revu veri clean ...</td>\n",
              "      <td>nice phone nice grade pantach revu veri clean ...</td>\n",
              "      <td>4</td>\n",
              "      <td>0</td>\n",
              "      <td>4</td>\n",
              "    </tr>\n",
              "    <tr>\n",
              "      <th>2</th>\n",
              "      <td>\"CLEAR CLEAN ESN\" Sprint EPIC 4G Galaxy SPH-D7...</td>\n",
              "      <td>Samsung</td>\n",
              "      <td>199.99</td>\n",
              "      <td>5</td>\n",
              "      <td>Very pleased</td>\n",
              "      <td>0.0</td>\n",
              "      <td>Very pleased</td>\n",
              "      <td>Very pleased</td>\n",
              "      <td>Very pleased</td>\n",
              "      <td>Very pleased</td>\n",
              "      <td>very pleased</td>\n",
              "      <td>[very, pleased]</td>\n",
              "      <td>veri pleas</td>\n",
              "      <td>veri plea</td>\n",
              "      <td>8</td>\n",
              "      <td>0</td>\n",
              "      <td>1</td>\n",
              "    </tr>\n",
              "    <tr>\n",
              "      <th>3</th>\n",
              "      <td>\"CLEAR CLEAN ESN\" Sprint EPIC 4G Galaxy SPH-D7...</td>\n",
              "      <td>Samsung</td>\n",
              "      <td>199.99</td>\n",
              "      <td>4</td>\n",
              "      <td>It works good but it goes slow sometimes but i...</td>\n",
              "      <td>0.0</td>\n",
              "      <td>It works good but it goes slow sometimes but i...</td>\n",
              "      <td>It works good but it goes slow sometimes but i...</td>\n",
              "      <td>It works good but it goes slow sometimes but i...</td>\n",
              "      <td>It works good goes slow sometimes good phone I...</td>\n",
              "      <td>it works good goes slow sometimes good phone i...</td>\n",
              "      <td>[it, works, good, goes, slow, sometimes, good,...</td>\n",
              "      <td>it work good goe slow sometim good phone i love</td>\n",
              "      <td>it work good goe slow sometim good phone i love</td>\n",
              "      <td>0</td>\n",
              "      <td>0</td>\n",
              "      <td>2</td>\n",
              "    </tr>\n",
              "    <tr>\n",
              "      <th>4</th>\n",
              "      <td>\"CLEAR CLEAN ESN\" Sprint EPIC 4G Galaxy SPH-D7...</td>\n",
              "      <td>Samsung</td>\n",
              "      <td>199.99</td>\n",
              "      <td>4</td>\n",
              "      <td>Great phone to replace my lost phone. The only...</td>\n",
              "      <td>0.0</td>\n",
              "      <td>Great phone to replace my lost phone  The only...</td>\n",
              "      <td>Great phone to replace my lost phone  The only...</td>\n",
              "      <td>Great phone to replace my lost phone  The only...</td>\n",
              "      <td>Great phone replace lost phone The thing volum...</td>\n",
              "      <td>great phone replace lost phone the thing volum...</td>\n",
              "      <td>[great, phone, replace, lost, phone, the, thin...</td>\n",
              "      <td>great phone replac lost phone the thing volum ...</td>\n",
              "      <td>great phone replac lost phone the thing volum ...</td>\n",
              "      <td>4</td>\n",
              "      <td>9</td>\n",
              "      <td>2</td>\n",
              "    </tr>\n",
              "  </tbody>\n",
              "</table>\n",
              "</div>"
            ],
            "text/plain": [
              "                                        Product Name  ... AVG-W2V Clus Label\n",
              "0  \"CLEAR CLEAN ESN\" Sprint EPIC 4G Galaxy SPH-D7...  ...                  4\n",
              "1  \"CLEAR CLEAN ESN\" Sprint EPIC 4G Galaxy SPH-D7...  ...                  4\n",
              "2  \"CLEAR CLEAN ESN\" Sprint EPIC 4G Galaxy SPH-D7...  ...                  1\n",
              "3  \"CLEAR CLEAN ESN\" Sprint EPIC 4G Galaxy SPH-D7...  ...                  2\n",
              "4  \"CLEAR CLEAN ESN\" Sprint EPIC 4G Galaxy SPH-D7...  ...                  2\n",
              "\n",
              "[5 rows x 17 columns]"
            ]
          },
          "metadata": {},
          "execution_count": 47
        }
      ]
    },
    {
      "cell_type": "code",
      "metadata": {
        "colab": {
          "base_uri": "https://localhost:8080/"
        },
        "id": "G94dr_gdIGhG",
        "outputId": "1ad3a78c-daac-498f-be5e-537e042ae634"
      },
      "source": [
        "aggdfa.groupby(['AVG-W2V Clus Label'])['Reviews'].count()"
      ],
      "execution_count": null,
      "outputs": [
        {
          "output_type": "execute_result",
          "data": {
            "text/plain": [
              "AVG-W2V Clus Label\n",
              "0    338\n",
              "1     87\n",
              "2    250\n",
              "3     92\n",
              "4    233\n",
              "Name: Reviews, dtype: int64"
            ]
          },
          "metadata": {},
          "execution_count": 48
        }
      ]
    },
    {
      "cell_type": "markdown",
      "metadata": {
        "id": "Fs7WaszDfNEt"
      },
      "source": [
        "In one paragraph, please compare K means, DBSCAN and Hierarchical clustering."
      ]
    },
    {
      "cell_type": "markdown",
      "metadata": {
        "id": "6XT1jEA8ryAu"
      },
      "source": [
        "#You can write you answer here. (No code needed)\n",
        "\n",
        "A hierarchical clustering is a set of nested clusters that are arranged as a tree. K Means clustering is found to work well when the structure of the clusters is hyper spherical (like circle in 2D, sphere in 3D). Hierarchical clustering don't work as well as, k means when the shape of the clusters is hyper spherical.DBScan classifed all the reviews into single cluster which is not best fit."
      ]
    }
  ]
}