{
  "cells": [
    {
      "cell_type": "markdown",
      "metadata": {
        "id": "view-in-github",
        "colab_type": "text"
      },
      "source": [
        "<a href=\"https://colab.research.google.com/github/krishnavikas-7/INFO-5731/blob/main/Term_Final_Project.ipynb\" target=\"_parent\"><img src=\"https://colab.research.google.com/assets/colab-badge.svg\" alt=\"Open In Colab\"/></a>"
      ]
    },
    {
      "cell_type": "markdown",
      "source": [
        "#Importing required Libraries"
      ],
      "metadata": {
        "id": "aNR6xkdvbPvM"
      },
      "id": "aNR6xkdvbPvM"
    },
    {
      "cell_type": "code",
      "source": [
        "import re\n",
        "import string\n",
        "import numpy as np \n",
        "import random\n",
        "import pandas as pd \n",
        "import matplotlib.pyplot as plt\n",
        "import seaborn as sns\n",
        "%matplotlib inline\n",
        "from plotly import graph_objs as go\n",
        "import plotly.express as px\n",
        "import plotly.figure_factory as ff\n",
        "from collections import Counter\n",
        "\n",
        "from PIL import Image\n",
        "from wordcloud import WordCloud, STOPWORDS, ImageColorGenerator\n",
        "\n",
        "\n",
        "import nltk\n",
        "from nltk.corpus import stopwords\n",
        "\n",
        "from tqdm import tqdm\n",
        "import os\n",
        "import nltk\n",
        "import spacy\n",
        "import random\n",
        "from spacy.util import compounding\n",
        "from spacy.util import minibatch\n",
        "\n",
        "import warnings\n",
        "warnings.filterwarnings(\"ignore\")\n",
        "import nltk, re, string\n",
        "import pandas as pd\n",
        "from nltk.corpus import stopwords\n",
        "from nltk.stem import WordNetLemmatizer, PorterStemmer\n",
        "from sklearn.metrics import cohen_kappa_score\n",
        "import matplotlib.pyplot as plot\n",
        "from sklearn.model_selection import train_test_split\n",
        "from sklearn.feature_extraction.text import CountVectorizer\n",
        "from sklearn import svm\n",
        "from sklearn.naive_bayes import MultinomialNB\n",
        "from sklearn.pipeline import Pipeline\n",
        "from sklearn.linear_model import SGDClassifier\n",
        "from sklearn.tree import DecisionTreeClassifier\n",
        "from sklearn.ensemble import RandomForestClassifier\n",
        "from sklearn import metrics\n",
        "from sklearn.model_selection import cross_val_score\n",
        "from sklearn.metrics import classification_report\n",
        "import seaborn as sn"
      ],
      "metadata": {
        "id": "SWfohRlJ2KPe"
      },
      "id": "SWfohRlJ2KPe",
      "execution_count": 6,
      "outputs": []
    },
    {
      "cell_type": "markdown",
      "source": [
        "#Reading the dataset"
      ],
      "metadata": {
        "id": "MtDFiq9UbVuV"
      },
      "id": "MtDFiq9UbVuV"
    },
    {
      "cell_type": "code",
      "execution_count": 7,
      "id": "ba31979b",
      "metadata": {
        "id": "ba31979b",
        "outputId": "5f503da1-7952-469d-c430-6526e58f9613",
        "colab": {
          "base_uri": "https://localhost:8080/",
          "height": 597
        }
      },
      "outputs": [
        {
          "output_type": "execute_result",
          "data": {
            "text/html": [
              "<div>\n",
              "<style scoped>\n",
              "    .dataframe tbody tr th:only-of-type {\n",
              "        vertical-align: middle;\n",
              "    }\n",
              "\n",
              "    .dataframe tbody tr th {\n",
              "        vertical-align: top;\n",
              "    }\n",
              "\n",
              "    .dataframe thead th {\n",
              "        text-align: right;\n",
              "    }\n",
              "</style>\n",
              "<table border=\"1\" class=\"dataframe\">\n",
              "  <thead>\n",
              "    <tr style=\"text-align: right;\">\n",
              "      <th></th>\n",
              "      <th>Concepts</th>\n",
              "      <th>Definition</th>\n",
              "      <th>CleanedTweet</th>\n",
              "      <th>Label1</th>\n",
              "      <th>Label2</th>\n",
              "      <th>Label3</th>\n",
              "      <th>Label4</th>\n",
              "      <th>Label5</th>\n",
              "      <th>Majority</th>\n",
              "    </tr>\n",
              "  </thead>\n",
              "  <tbody>\n",
              "    <tr>\n",
              "      <th>0</th>\n",
              "      <td>Acute myocardial infarction</td>\n",
              "      <td>Necrosis of the myocardium, as a result of int...</td>\n",
              "      <td>acute myocardial infarction is a blockage of b...</td>\n",
              "      <td>1</td>\n",
              "      <td>1</td>\n",
              "      <td>0</td>\n",
              "      <td>0</td>\n",
              "      <td>1</td>\n",
              "      <td>1</td>\n",
              "    </tr>\n",
              "    <tr>\n",
              "      <th>1</th>\n",
              "      <td>Acute myocardial infarction</td>\n",
              "      <td>Necrosis of the myocardium, as a result of int...</td>\n",
              "      <td>acutemyocardialinfarction is a pathology chara...</td>\n",
              "      <td>1</td>\n",
              "      <td>1</td>\n",
              "      <td>0</td>\n",
              "      <td>0</td>\n",
              "      <td>0</td>\n",
              "      <td>0</td>\n",
              "    </tr>\n",
              "    <tr>\n",
              "      <th>2</th>\n",
              "      <td>Acute myocardial infarction</td>\n",
              "      <td>Necrosis of the myocardium, as a result of int...</td>\n",
              "      <td>physical activity and anger or emotional upset...</td>\n",
              "      <td>1</td>\n",
              "      <td>1</td>\n",
              "      <td>1</td>\n",
              "      <td>0</td>\n",
              "      <td>1</td>\n",
              "      <td>1</td>\n",
              "    </tr>\n",
              "    <tr>\n",
              "      <th>3</th>\n",
              "      <td>Acute myocardial infarction</td>\n",
              "      <td>Necrosis of the myocardium, as a result of int...</td>\n",
              "      <td>thrombus composition in sudden cardiacdeath fr...</td>\n",
              "      <td>1</td>\n",
              "      <td>0</td>\n",
              "      <td>0</td>\n",
              "      <td>0</td>\n",
              "      <td>0</td>\n",
              "      <td>0</td>\n",
              "    </tr>\n",
              "    <tr>\n",
              "      <th>4</th>\n",
              "      <td>Acute myocardial infarction</td>\n",
              "      <td>Necrosis of the myocardium, as a result of int...</td>\n",
              "      <td>respiratoryinfection associated with increased...</td>\n",
              "      <td>1</td>\n",
              "      <td>1</td>\n",
              "      <td>1</td>\n",
              "      <td>0</td>\n",
              "      <td>0</td>\n",
              "      <td>1</td>\n",
              "    </tr>\n",
              "    <tr>\n",
              "      <th>...</th>\n",
              "      <td>...</td>\n",
              "      <td>...</td>\n",
              "      <td>...</td>\n",
              "      <td>...</td>\n",
              "      <td>...</td>\n",
              "      <td>...</td>\n",
              "      <td>...</td>\n",
              "      <td>...</td>\n",
              "      <td>...</td>\n",
              "    </tr>\n",
              "    <tr>\n",
              "      <th>3428</th>\n",
              "      <td>Pleurisy</td>\n",
              "      <td>\\ninflammation of the pleura, with exudation i...</td>\n",
              "      <td>lupusfact lupus can attack your lungs potenti...</td>\n",
              "      <td>1</td>\n",
              "      <td>1</td>\n",
              "      <td>0</td>\n",
              "      <td>0</td>\n",
              "      <td>1</td>\n",
              "      <td>1</td>\n",
              "    </tr>\n",
              "    <tr>\n",
              "      <th>3429</th>\n",
              "      <td>Pleurisy</td>\n",
              "      <td>\\ninflammation of the pleura, with exudation i...</td>\n",
              "      <td>lupusfact lupus can attack your lungs potenti...</td>\n",
              "      <td>1</td>\n",
              "      <td>1</td>\n",
              "      <td>0</td>\n",
              "      <td>0</td>\n",
              "      <td>0</td>\n",
              "      <td>1</td>\n",
              "    </tr>\n",
              "    <tr>\n",
              "      <th>3430</th>\n",
              "      <td>Pleurisy</td>\n",
              "      <td>\\ninflammation of the pleura, with exudation i...</td>\n",
              "      <td>lupusfact lupus can attack your lungs potenti...</td>\n",
              "      <td>1</td>\n",
              "      <td>1</td>\n",
              "      <td>1</td>\n",
              "      <td>0</td>\n",
              "      <td>0</td>\n",
              "      <td>1</td>\n",
              "    </tr>\n",
              "    <tr>\n",
              "      <th>3431</th>\n",
              "      <td>Pleurisy</td>\n",
              "      <td>\\ninflammation of the pleura, with exudation i...</td>\n",
              "      <td>lupusfact lupus can attack your lungs potenti...</td>\n",
              "      <td>0</td>\n",
              "      <td>0</td>\n",
              "      <td>0</td>\n",
              "      <td>0</td>\n",
              "      <td>1</td>\n",
              "      <td>0</td>\n",
              "    </tr>\n",
              "    <tr>\n",
              "      <th>3432</th>\n",
              "      <td>Pleurisy</td>\n",
              "      <td>\\ninflammation of the pleura, with exudation i...</td>\n",
              "      <td>lupusfact lupus can attack your lungs potenti...</td>\n",
              "      <td>0</td>\n",
              "      <td>1</td>\n",
              "      <td>1</td>\n",
              "      <td>1</td>\n",
              "      <td>0</td>\n",
              "      <td>0</td>\n",
              "    </tr>\n",
              "  </tbody>\n",
              "</table>\n",
              "<p>3433 rows × 9 columns</p>\n",
              "</div>"
            ],
            "text/plain": [
              "                         Concepts  ... Majority\n",
              "0     Acute myocardial infarction  ...        1\n",
              "1     Acute myocardial infarction  ...        0\n",
              "2     Acute myocardial infarction  ...        1\n",
              "3     Acute myocardial infarction  ...        0\n",
              "4     Acute myocardial infarction  ...        1\n",
              "...                           ...  ...      ...\n",
              "3428                     Pleurisy  ...        1\n",
              "3429                     Pleurisy  ...        1\n",
              "3430                     Pleurisy  ...        1\n",
              "3431                     Pleurisy  ...        0\n",
              "3432                     Pleurisy  ...        0\n",
              "\n",
              "[3433 rows x 9 columns]"
            ]
          },
          "metadata": {},
          "execution_count": 7
        }
      ],
      "source": [
        "df = pd.read_csv('/content/sample_data/PPTL.csv')\n",
        "df"
      ]
    },
    {
      "cell_type": "code",
      "execution_count": 8,
      "id": "8bf0e9bf",
      "metadata": {
        "id": "8bf0e9bf",
        "outputId": "78376969-e8e0-4b5a-a4de-5b9955ff583f",
        "colab": {
          "base_uri": "https://localhost:8080/"
        }
      },
      "outputs": [
        {
          "output_type": "execute_result",
          "data": {
            "text/plain": [
              "Index(['Concepts', 'Definition', 'CleanedTweet', 'Label1', 'Label2', 'Label3',\n",
              "       'Label4', 'Label5', 'Majority'],\n",
              "      dtype='object')"
            ]
          },
          "metadata": {},
          "execution_count": 8
        }
      ],
      "source": [
        "df.columns"
      ]
    },
    {
      "cell_type": "code",
      "execution_count": 9,
      "id": "89538797",
      "metadata": {
        "id": "89538797",
        "outputId": "8deba979-d4aa-4ea1-8deb-4c4709ed2505",
        "colab": {
          "base_uri": "https://localhost:8080/",
          "height": 293
        }
      },
      "outputs": [
        {
          "output_type": "execute_result",
          "data": {
            "text/html": [
              "<div>\n",
              "<style scoped>\n",
              "    .dataframe tbody tr th:only-of-type {\n",
              "        vertical-align: middle;\n",
              "    }\n",
              "\n",
              "    .dataframe tbody tr th {\n",
              "        vertical-align: top;\n",
              "    }\n",
              "\n",
              "    .dataframe thead th {\n",
              "        text-align: right;\n",
              "    }\n",
              "</style>\n",
              "<table border=\"1\" class=\"dataframe\">\n",
              "  <thead>\n",
              "    <tr style=\"text-align: right;\">\n",
              "      <th></th>\n",
              "      <th>Concepts</th>\n",
              "      <th>Definition</th>\n",
              "      <th>CleanedTweet</th>\n",
              "      <th>Label1</th>\n",
              "      <th>Label2</th>\n",
              "      <th>Label3</th>\n",
              "      <th>Label4</th>\n",
              "      <th>Label5</th>\n",
              "      <th>Majority</th>\n",
              "    </tr>\n",
              "  </thead>\n",
              "  <tbody>\n",
              "    <tr>\n",
              "      <th>0</th>\n",
              "      <td>Acute myocardial infarction</td>\n",
              "      <td>Necrosis of the myocardium, as a result of int...</td>\n",
              "      <td>acute myocardial infarction is a blockage of b...</td>\n",
              "      <td>1</td>\n",
              "      <td>1</td>\n",
              "      <td>0</td>\n",
              "      <td>0</td>\n",
              "      <td>1</td>\n",
              "      <td>1</td>\n",
              "    </tr>\n",
              "    <tr>\n",
              "      <th>1</th>\n",
              "      <td>Acute myocardial infarction</td>\n",
              "      <td>Necrosis of the myocardium, as a result of int...</td>\n",
              "      <td>acutemyocardialinfarction is a pathology chara...</td>\n",
              "      <td>1</td>\n",
              "      <td>1</td>\n",
              "      <td>0</td>\n",
              "      <td>0</td>\n",
              "      <td>0</td>\n",
              "      <td>0</td>\n",
              "    </tr>\n",
              "    <tr>\n",
              "      <th>2</th>\n",
              "      <td>Acute myocardial infarction</td>\n",
              "      <td>Necrosis of the myocardium, as a result of int...</td>\n",
              "      <td>physical activity and anger or emotional upset...</td>\n",
              "      <td>1</td>\n",
              "      <td>1</td>\n",
              "      <td>1</td>\n",
              "      <td>0</td>\n",
              "      <td>1</td>\n",
              "      <td>1</td>\n",
              "    </tr>\n",
              "    <tr>\n",
              "      <th>3</th>\n",
              "      <td>Acute myocardial infarction</td>\n",
              "      <td>Necrosis of the myocardium, as a result of int...</td>\n",
              "      <td>thrombus composition in sudden cardiacdeath fr...</td>\n",
              "      <td>1</td>\n",
              "      <td>0</td>\n",
              "      <td>0</td>\n",
              "      <td>0</td>\n",
              "      <td>0</td>\n",
              "      <td>0</td>\n",
              "    </tr>\n",
              "    <tr>\n",
              "      <th>4</th>\n",
              "      <td>Acute myocardial infarction</td>\n",
              "      <td>Necrosis of the myocardium, as a result of int...</td>\n",
              "      <td>respiratoryinfection associated with increased...</td>\n",
              "      <td>1</td>\n",
              "      <td>1</td>\n",
              "      <td>1</td>\n",
              "      <td>0</td>\n",
              "      <td>0</td>\n",
              "      <td>1</td>\n",
              "    </tr>\n",
              "  </tbody>\n",
              "</table>\n",
              "</div>"
            ],
            "text/plain": [
              "                      Concepts  ... Majority\n",
              "0  Acute myocardial infarction  ...        1\n",
              "1  Acute myocardial infarction  ...        0\n",
              "2  Acute myocardial infarction  ...        1\n",
              "3  Acute myocardial infarction  ...        0\n",
              "4  Acute myocardial infarction  ...        1\n",
              "\n",
              "[5 rows x 9 columns]"
            ]
          },
          "metadata": {},
          "execution_count": 9
        }
      ],
      "source": [
        "df.head(5)"
      ]
    },
    {
      "cell_type": "code",
      "execution_count": 10,
      "id": "572e63df",
      "metadata": {
        "id": "572e63df",
        "outputId": "304c1a8a-017d-4184-ea73-e4be5f933457",
        "colab": {
          "base_uri": "https://localhost:8080/",
          "height": 206
        }
      },
      "outputs": [
        {
          "output_type": "execute_result",
          "data": {
            "text/html": [
              "<div>\n",
              "<style scoped>\n",
              "    .dataframe tbody tr th:only-of-type {\n",
              "        vertical-align: middle;\n",
              "    }\n",
              "\n",
              "    .dataframe tbody tr th {\n",
              "        vertical-align: top;\n",
              "    }\n",
              "\n",
              "    .dataframe thead th {\n",
              "        text-align: right;\n",
              "    }\n",
              "</style>\n",
              "<table border=\"1\" class=\"dataframe\">\n",
              "  <thead>\n",
              "    <tr style=\"text-align: right;\">\n",
              "      <th></th>\n",
              "      <th>Concepts</th>\n",
              "      <th>Definition</th>\n",
              "      <th>CleanedTweet</th>\n",
              "      <th>Label1</th>\n",
              "      <th>Label2</th>\n",
              "      <th>Label3</th>\n",
              "      <th>Label4</th>\n",
              "      <th>Label5</th>\n",
              "      <th>Majority</th>\n",
              "    </tr>\n",
              "  </thead>\n",
              "  <tbody>\n",
              "    <tr>\n",
              "      <th>3428</th>\n",
              "      <td>Pleurisy</td>\n",
              "      <td>\\ninflammation of the pleura, with exudation i...</td>\n",
              "      <td>lupusfact lupus can attack your lungs potenti...</td>\n",
              "      <td>1</td>\n",
              "      <td>1</td>\n",
              "      <td>0</td>\n",
              "      <td>0</td>\n",
              "      <td>1</td>\n",
              "      <td>1</td>\n",
              "    </tr>\n",
              "    <tr>\n",
              "      <th>3429</th>\n",
              "      <td>Pleurisy</td>\n",
              "      <td>\\ninflammation of the pleura, with exudation i...</td>\n",
              "      <td>lupusfact lupus can attack your lungs potenti...</td>\n",
              "      <td>1</td>\n",
              "      <td>1</td>\n",
              "      <td>0</td>\n",
              "      <td>0</td>\n",
              "      <td>0</td>\n",
              "      <td>1</td>\n",
              "    </tr>\n",
              "    <tr>\n",
              "      <th>3430</th>\n",
              "      <td>Pleurisy</td>\n",
              "      <td>\\ninflammation of the pleura, with exudation i...</td>\n",
              "      <td>lupusfact lupus can attack your lungs potenti...</td>\n",
              "      <td>1</td>\n",
              "      <td>1</td>\n",
              "      <td>1</td>\n",
              "      <td>0</td>\n",
              "      <td>0</td>\n",
              "      <td>1</td>\n",
              "    </tr>\n",
              "    <tr>\n",
              "      <th>3431</th>\n",
              "      <td>Pleurisy</td>\n",
              "      <td>\\ninflammation of the pleura, with exudation i...</td>\n",
              "      <td>lupusfact lupus can attack your lungs potenti...</td>\n",
              "      <td>0</td>\n",
              "      <td>0</td>\n",
              "      <td>0</td>\n",
              "      <td>0</td>\n",
              "      <td>1</td>\n",
              "      <td>0</td>\n",
              "    </tr>\n",
              "    <tr>\n",
              "      <th>3432</th>\n",
              "      <td>Pleurisy</td>\n",
              "      <td>\\ninflammation of the pleura, with exudation i...</td>\n",
              "      <td>lupusfact lupus can attack your lungs potenti...</td>\n",
              "      <td>0</td>\n",
              "      <td>1</td>\n",
              "      <td>1</td>\n",
              "      <td>1</td>\n",
              "      <td>0</td>\n",
              "      <td>0</td>\n",
              "    </tr>\n",
              "  </tbody>\n",
              "</table>\n",
              "</div>"
            ],
            "text/plain": [
              "      Concepts  ... Majority\n",
              "3428  Pleurisy  ...        1\n",
              "3429  Pleurisy  ...        1\n",
              "3430  Pleurisy  ...        1\n",
              "3431  Pleurisy  ...        0\n",
              "3432  Pleurisy  ...        0\n",
              "\n",
              "[5 rows x 9 columns]"
            ]
          },
          "metadata": {},
          "execution_count": 10
        }
      ],
      "source": [
        "df.tail(5)"
      ]
    },
    {
      "cell_type": "markdown",
      "source": [
        "#Exploratory Data Analysis"
      ],
      "metadata": {
        "id": "1HPG2RJCeeo2"
      },
      "id": "1HPG2RJCeeo2"
    },
    {
      "cell_type": "code",
      "execution_count": 11,
      "id": "8468d66b",
      "metadata": {
        "id": "8468d66b",
        "outputId": "c0da11e2-1b25-4f42-9772-8c1d548f27d9",
        "colab": {
          "base_uri": "https://localhost:8080/",
          "height": 300
        }
      },
      "outputs": [
        {
          "output_type": "execute_result",
          "data": {
            "text/html": [
              "<div>\n",
              "<style scoped>\n",
              "    .dataframe tbody tr th:only-of-type {\n",
              "        vertical-align: middle;\n",
              "    }\n",
              "\n",
              "    .dataframe tbody tr th {\n",
              "        vertical-align: top;\n",
              "    }\n",
              "\n",
              "    .dataframe thead th {\n",
              "        text-align: right;\n",
              "    }\n",
              "</style>\n",
              "<table border=\"1\" class=\"dataframe\">\n",
              "  <thead>\n",
              "    <tr style=\"text-align: right;\">\n",
              "      <th></th>\n",
              "      <th>Label1</th>\n",
              "      <th>Label2</th>\n",
              "      <th>Label3</th>\n",
              "      <th>Label4</th>\n",
              "      <th>Label5</th>\n",
              "      <th>Majority</th>\n",
              "    </tr>\n",
              "  </thead>\n",
              "  <tbody>\n",
              "    <tr>\n",
              "      <th>count</th>\n",
              "      <td>3433.00000</td>\n",
              "      <td>3433.000000</td>\n",
              "      <td>3433.000000</td>\n",
              "      <td>3433.000000</td>\n",
              "      <td>3433.000000</td>\n",
              "      <td>3433.000000</td>\n",
              "    </tr>\n",
              "    <tr>\n",
              "      <th>mean</th>\n",
              "      <td>0.60501</td>\n",
              "      <td>0.507719</td>\n",
              "      <td>0.510632</td>\n",
              "      <td>0.503641</td>\n",
              "      <td>0.493737</td>\n",
              "      <td>0.604428</td>\n",
              "    </tr>\n",
              "    <tr>\n",
              "      <th>std</th>\n",
              "      <td>0.48892</td>\n",
              "      <td>0.500013</td>\n",
              "      <td>0.499960</td>\n",
              "      <td>0.500060</td>\n",
              "      <td>0.500034</td>\n",
              "      <td>0.489045</td>\n",
              "    </tr>\n",
              "    <tr>\n",
              "      <th>min</th>\n",
              "      <td>0.00000</td>\n",
              "      <td>0.000000</td>\n",
              "      <td>0.000000</td>\n",
              "      <td>0.000000</td>\n",
              "      <td>0.000000</td>\n",
              "      <td>0.000000</td>\n",
              "    </tr>\n",
              "    <tr>\n",
              "      <th>25%</th>\n",
              "      <td>0.00000</td>\n",
              "      <td>0.000000</td>\n",
              "      <td>0.000000</td>\n",
              "      <td>0.000000</td>\n",
              "      <td>0.000000</td>\n",
              "      <td>0.000000</td>\n",
              "    </tr>\n",
              "    <tr>\n",
              "      <th>50%</th>\n",
              "      <td>1.00000</td>\n",
              "      <td>1.000000</td>\n",
              "      <td>1.000000</td>\n",
              "      <td>1.000000</td>\n",
              "      <td>0.000000</td>\n",
              "      <td>1.000000</td>\n",
              "    </tr>\n",
              "    <tr>\n",
              "      <th>75%</th>\n",
              "      <td>1.00000</td>\n",
              "      <td>1.000000</td>\n",
              "      <td>1.000000</td>\n",
              "      <td>1.000000</td>\n",
              "      <td>1.000000</td>\n",
              "      <td>1.000000</td>\n",
              "    </tr>\n",
              "    <tr>\n",
              "      <th>max</th>\n",
              "      <td>1.00000</td>\n",
              "      <td>1.000000</td>\n",
              "      <td>1.000000</td>\n",
              "      <td>1.000000</td>\n",
              "      <td>1.000000</td>\n",
              "      <td>1.000000</td>\n",
              "    </tr>\n",
              "  </tbody>\n",
              "</table>\n",
              "</div>"
            ],
            "text/plain": [
              "           Label1       Label2  ...       Label5     Majority\n",
              "count  3433.00000  3433.000000  ...  3433.000000  3433.000000\n",
              "mean      0.60501     0.507719  ...     0.493737     0.604428\n",
              "std       0.48892     0.500013  ...     0.500034     0.489045\n",
              "min       0.00000     0.000000  ...     0.000000     0.000000\n",
              "25%       0.00000     0.000000  ...     0.000000     0.000000\n",
              "50%       1.00000     1.000000  ...     0.000000     1.000000\n",
              "75%       1.00000     1.000000  ...     1.000000     1.000000\n",
              "max       1.00000     1.000000  ...     1.000000     1.000000\n",
              "\n",
              "[8 rows x 6 columns]"
            ]
          },
          "metadata": {},
          "execution_count": 11
        }
      ],
      "source": [
        "df.describe()"
      ]
    },
    {
      "cell_type": "code",
      "execution_count": 12,
      "id": "0d0c05fc",
      "metadata": {
        "id": "0d0c05fc",
        "outputId": "36f3173d-ee77-4c9f-ef98-c49c4a2e08cb",
        "colab": {
          "base_uri": "https://localhost:8080/"
        }
      },
      "outputs": [
        {
          "output_type": "execute_result",
          "data": {
            "text/plain": [
              "(3433, 9)"
            ]
          },
          "metadata": {},
          "execution_count": 12
        }
      ],
      "source": [
        "df.shape"
      ]
    },
    {
      "cell_type": "code",
      "execution_count": 13,
      "id": "e853826a",
      "metadata": {
        "id": "e853826a",
        "outputId": "66f4f372-ab94-4dd8-8528-cfdf02156d0e",
        "colab": {
          "base_uri": "https://localhost:8080/"
        }
      },
      "outputs": [
        {
          "output_type": "execute_result",
          "data": {
            "text/plain": [
              "array([1, 0])"
            ]
          },
          "metadata": {},
          "execution_count": 13
        }
      ],
      "source": [
        "df.Majority.unique()"
      ]
    },
    {
      "cell_type": "code",
      "execution_count": 14,
      "id": "32b3d32b",
      "metadata": {
        "id": "32b3d32b",
        "outputId": "ddf70d7a-0d60-46e7-a20c-3f07a4af4a5c",
        "colab": {
          "base_uri": "https://localhost:8080/"
        }
      },
      "outputs": [
        {
          "output_type": "execute_result",
          "data": {
            "text/plain": [
              "Concepts        0\n",
              "Definition      0\n",
              "CleanedTweet    0\n",
              "Label1          0\n",
              "Label2          0\n",
              "Label3          0\n",
              "Label4          0\n",
              "Label5          0\n",
              "Majority        0\n",
              "dtype: int64"
            ]
          },
          "metadata": {},
          "execution_count": 14
        }
      ],
      "source": [
        "df.isnull().sum()"
      ]
    },
    {
      "cell_type": "code",
      "execution_count": 15,
      "id": "15b6591a",
      "metadata": {
        "id": "15b6591a",
        "outputId": "b0ac1367-1279-4134-f1ac-788c15b73bc3",
        "colab": {
          "base_uri": "https://localhost:8080/",
          "height": 347
        }
      },
      "outputs": [
        {
          "output_type": "execute_result",
          "data": {
            "text/plain": [
              "<matplotlib.axes._subplots.AxesSubplot at 0x7f46bd786f90>"
            ]
          },
          "metadata": {},
          "execution_count": 15
        },
        {
          "output_type": "display_data",
          "data": {
            "image/png": "[encoded data removed]",
            "text/plain": [
              "<Figure size 432x288 with 2 Axes>"
            ]
          },
          "metadata": {
            "needs_background": "light"
          }
        }
      ],
      "source": [
        "sns.heatmap(df.isnull())"
      ]
    },
    {
      "cell_type": "code",
      "source": [
        "df.info"
      ],
      "metadata": {
        "colab": {
          "base_uri": "https://localhost:8080/"
        },
        "id": "cCOdLq4P0bum",
        "outputId": "366bea13-6588-4478-818a-4f2255ec9c18"
      },
      "id": "cCOdLq4P0bum",
      "execution_count": 16,
      "outputs": [
        {
          "output_type": "execute_result",
          "data": {
            "text/plain": [
              "<bound method DataFrame.info of                          Concepts  ... Majority\n",
              "0     Acute myocardial infarction  ...        1\n",
              "1     Acute myocardial infarction  ...        0\n",
              "2     Acute myocardial infarction  ...        1\n",
              "3     Acute myocardial infarction  ...        0\n",
              "4     Acute myocardial infarction  ...        1\n",
              "...                           ...  ...      ...\n",
              "3428                     Pleurisy  ...        1\n",
              "3429                     Pleurisy  ...        1\n",
              "3430                     Pleurisy  ...        1\n",
              "3431                     Pleurisy  ...        0\n",
              "3432                     Pleurisy  ...        0\n",
              "\n",
              "[3433 rows x 9 columns]>"
            ]
          },
          "metadata": {},
          "execution_count": 16
        }
      ]
    },
    {
      "cell_type": "markdown",
      "source": [
        "Gives the count of number of unique values in the data"
      ],
      "metadata": {
        "id": "BX4dlOK9erGn"
      },
      "id": "BX4dlOK9erGn"
    },
    {
      "cell_type": "code",
      "source": [
        "temp = df.groupby('Majority').count()['CleanedTweet'].reset_index().sort_values(by='CleanedTweet',ascending=False)\n",
        "temp.style.background_gradient(cmap='Purples')"
      ],
      "metadata": {
        "colab": {
          "base_uri": "https://localhost:8080/",
          "height": 112
        },
        "id": "9iU6uieE0gqD",
        "outputId": "17d936f3-c748-4968-9e49-60283a962123"
      },
      "id": "9iU6uieE0gqD",
      "execution_count": 17,
      "outputs": [
        {
          "output_type": "execute_result",
          "data": {
            "text/html": [
              "<style  type=\"text/css\" >\n",
              "#T_45637cb0_5a46_11ec_8135_0242ac1c0002row0_col0,#T_45637cb0_5a46_11ec_8135_0242ac1c0002row0_col1{\n",
              "            background-color:  #3f007d;\n",
              "            color:  #f1f1f1;\n",
              "        }#T_45637cb0_5a46_11ec_8135_0242ac1c0002row1_col0,#T_45637cb0_5a46_11ec_8135_0242ac1c0002row1_col1{\n",
              "            background-color:  #fcfbfd;\n",
              "            color:  #000000;\n",
              "        }</style><table id=\"T_45637cb0_5a46_11ec_8135_0242ac1c0002\" class=\"dataframe\"><thead>    <tr>        <th class=\"blank level0\" ></th>        <th class=\"col_heading level0 col0\" >Majority</th>        <th class=\"col_heading level0 col1\" >CleanedTweet</th>    </tr></thead><tbody>\n",
              "                <tr>\n",
              "                        <th id=\"T_45637cb0_5a46_11ec_8135_0242ac1c0002level0_row0\" class=\"row_heading level0 row0\" >1</th>\n",
              "                        <td id=\"T_45637cb0_5a46_11ec_8135_0242ac1c0002row0_col0\" class=\"data row0 col0\" >1</td>\n",
              "                        <td id=\"T_45637cb0_5a46_11ec_8135_0242ac1c0002row0_col1\" class=\"data row0 col1\" >2075</td>\n",
              "            </tr>\n",
              "            <tr>\n",
              "                        <th id=\"T_45637cb0_5a46_11ec_8135_0242ac1c0002level0_row1\" class=\"row_heading level0 row1\" >0</th>\n",
              "                        <td id=\"T_45637cb0_5a46_11ec_8135_0242ac1c0002row1_col0\" class=\"data row1 col0\" >0</td>\n",
              "                        <td id=\"T_45637cb0_5a46_11ec_8135_0242ac1c0002row1_col1\" class=\"data row1 col1\" >1358</td>\n",
              "            </tr>\n",
              "    </tbody></table>"
            ],
            "text/plain": [
              "<pandas.io.formats.style.Styler at 0x7f46b4c71a10>"
            ]
          },
          "metadata": {},
          "execution_count": 17
        }
      ]
    },
    {
      "cell_type": "code",
      "source": [
        "plt.figure(figsize=(12,6))\n",
        "sns.countplot(x='Majority',data=df)"
      ],
      "metadata": {
        "colab": {
          "base_uri": "https://localhost:8080/",
          "height": 406
        },
        "id": "YSh_46Zd199_",
        "outputId": "92719dbd-7c3d-4c70-a6d0-0f1a8428b9fd"
      },
      "id": "YSh_46Zd199_",
      "execution_count": 18,
      "outputs": [
        {
          "output_type": "execute_result",
          "data": {
            "text/plain": [
              "<matplotlib.axes._subplots.AxesSubplot at 0x7f46b4c4f750>"
            ]
          },
          "metadata": {},
          "execution_count": 18
        },
        {
          "output_type": "display_data",
          "data": {
            "image/png": "[encoded data removed]",
            "text/plain": [
              "<Figure size 864x432 with 1 Axes>"
            ]
          },
          "metadata": {
            "needs_background": "light"
          }
        }
      ]
    },
    {
      "cell_type": "code",
      "source": [
        "df['Majority'].hist()\n",
        "plot.xlabel('Labels')\n",
        "plot.ylabel('Count')\n",
        "plot.title('Majority')"
      ],
      "metadata": {
        "colab": {
          "base_uri": "https://localhost:8080/",
          "height": 312
        },
        "id": "9cIbjrbAc2tn",
        "outputId": "bd834059-7d86-4c82-e3cc-a595347f11f4"
      },
      "id": "9cIbjrbAc2tn",
      "execution_count": 19,
      "outputs": [
        {
          "output_type": "execute_result",
          "data": {
            "text/plain": [
              "Text(0.5, 1.0, 'Majority')"
            ]
          },
          "metadata": {},
          "execution_count": 19
        },
        {
          "output_type": "display_data",
          "data": {
            "image/png": "[encoded data removed]",
            "text/plain": [
              "<Figure size 432x288 with 1 Axes>"
            ]
          },
          "metadata": {
            "needs_background": "light"
          }
        }
      ]
    },
    {
      "cell_type": "markdown",
      "source": [
        "Most frequent concepts in the data"
      ],
      "metadata": {
        "id": "xq_6suxWe3SW"
      },
      "id": "xq_6suxWe3SW"
    },
    {
      "cell_type": "code",
      "source": [
        "freq= df['Concepts'].value_counts()\n",
        "display(freq)"
      ],
      "metadata": {
        "colab": {
          "base_uri": "https://localhost:8080/",
          "height": 902
        },
        "id": "HMc54Hl-dttr",
        "outputId": "4586de1a-14e2-4285-e7ed-1a1cc5908719"
      },
      "id": "HMc54Hl-dttr",
      "execution_count": 20,
      "outputs": [
        {
          "output_type": "display_data",
          "data": {
            "text/plain": [
              "Airway Obstruction              105\n",
              "Paresis                         102\n",
              "Petechiae                       101\n",
              "Nasal irritation                101\n",
              "Muscle injury                   101\n",
              "Cold feet                       101\n",
              "Dry scalp                       101\n",
              "Sinus headache                  101\n",
              "Phlebitis                       101\n",
              "Odynophagia                     101\n",
              "Otitis Media                    101\n",
              "Oral pain                       101\n",
              "Peritonitis                     101\n",
              "Family stress                   101\n",
              "Pleurisy                        101\n",
              "Skin Pigmentation               101\n",
              "Obesity                         101\n",
              "Stress at work                  101\n",
              "Pericarditis                    101\n",
              "Speech Disorders                101\n",
              "Opportunistic Infections        100\n",
              "Nocturia                        100\n",
              "Sore mouth                      100\n",
              "Acute myocardial infarction     100\n",
              "Potassium Deficiency            100\n",
              "Oppositional                    100\n",
              "Myocarditis                      99\n",
              "Orchitis                         97\n",
              "Pain in limb                     87\n",
              "Oral Ulcer                       83\n",
              "Oligomenorrhea                   71\n",
              "Tachypnea                        60\n",
              "Abdominal discomfort             49\n",
              "Paraparesis                      46\n",
              "Orthopnea                        37\n",
              "Ovarian Carcinoma                37\n",
              "Peripheral edema                 28\n",
              "Opioid naive                     27\n",
              "Peripheral Vascular Diseases     18\n",
              "Parkinsonian Disorders           14\n",
              "Porphyria Cutanea Tarda          13\n",
              "Periodontal Abscess               9\n",
              "Photopsia                         9\n",
              "Prostatic Diseases                9\n",
              "Paratyphoid Fever                 7\n",
              "Orgasmic Disorder                 3\n",
              "Ocular Motility Disorders         2\n",
              "Paroxysmal nocturnal dyspnea      1\n",
              "Soremouth                         1\n",
              "Peliosis Hepatis                  1\n",
              "Name: Concepts, dtype: int64"
            ]
          },
          "metadata": {}
        }
      ]
    },
    {
      "cell_type": "markdown",
      "source": [
        "#Correlation in the data"
      ],
      "metadata": {
        "id": "tJgPaBeWhMIC"
      },
      "id": "tJgPaBeWhMIC"
    },
    {
      "cell_type": "code",
      "source": [
        "plt.figure(figsize=(6,4))\n",
        "sns.heatmap(df.corr(),cmap='Blues',annot=True) "
      ],
      "metadata": {
        "colab": {
          "base_uri": "https://localhost:8080/",
          "height": 286
        },
        "id": "aNMz0hrJeBk1",
        "outputId": "dde70f36-9e84-4ef3-b6e4-f02aab07b3c8"
      },
      "id": "aNMz0hrJeBk1",
      "execution_count": 21,
      "outputs": [
        {
          "output_type": "execute_result",
          "data": {
            "text/plain": [
              "<matplotlib.axes._subplots.AxesSubplot at 0x7f46b44d2b90>"
            ]
          },
          "metadata": {},
          "execution_count": 21
        },
        {
          "output_type": "display_data",
          "data": {
            "image/png": "[encoded data removed]",
            "text/plain": [
              "<Figure size 432x288 with 2 Axes>"
            ]
          },
          "metadata": {
            "needs_background": "light"
          }
        }
      ]
    },
    {
      "cell_type": "markdown",
      "source": [
        "Dark shades represents positive correlation while lighter shades represents negative correlation."
      ],
      "metadata": {
        "id": "340mlEOohbOe"
      },
      "id": "340mlEOohbOe"
    },
    {
      "cell_type": "code",
      "source": [
        "sns.histplot(df.Majority,bins=10)"
      ],
      "metadata": {
        "colab": {
          "base_uri": "https://localhost:8080/",
          "height": 296
        },
        "id": "arTzLkzvjqy5",
        "outputId": "3c09cbea-e919-4bcf-8a87-ec3604a0d38f"
      },
      "id": "arTzLkzvjqy5",
      "execution_count": 22,
      "outputs": [
        {
          "output_type": "execute_result",
          "data": {
            "text/plain": [
              "<matplotlib.axes._subplots.AxesSubplot at 0x7f46b4c77790>"
            ]
          },
          "metadata": {},
          "execution_count": 22
        },
        {
          "output_type": "display_data",
          "data": {
            "image/png": "[encoded data removed]",
            "text/plain": [
              "<Figure size 432x288 with 1 Axes>"
            ]
          },
          "metadata": {
            "needs_background": "light"
          }
        }
      ]
    },
    {
      "cell_type": "code",
      "source": [
        "%matplotlib inline\n",
        "import matplotlib.pyplot as plt\n",
        "df.hist(bins=50, figsize=(20,15))\n",
        "plt.savefig(\"attribute_histogram_plots\")\n",
        "plt.show()"
      ],
      "metadata": {
        "colab": {
          "base_uri": "https://localhost:8080/",
          "height": 843
        },
        "id": "cegY20ANGk9H",
        "outputId": "217883f4-a375-4887-f597-63d3b0ff91dd"
      },
      "id": "cegY20ANGk9H",
      "execution_count": 23,
      "outputs": [
        {
          "output_type": "display_data",
          "data": {
            "image/png": "[encoded data removed]",
            "text/plain": [
              "<Figure size 1440x1080 with 6 Axes>"
            ]
          },
          "metadata": {
            "needs_background": "light"
          }
        }
      ]
    },
    {
      "cell_type": "code",
      "source": [
        "corr_matrix = df.corr()\n",
        "corr_matrix[\"Majority\"].sort_values(ascending=False)"
      ],
      "metadata": {
        "colab": {
          "base_uri": "https://localhost:8080/"
        },
        "id": "lr4s1-8FHFBJ",
        "outputId": "8482191d-9ee6-4bb0-ecfa-21d8538418af"
      },
      "id": "lr4s1-8FHFBJ",
      "execution_count": 24,
      "outputs": [
        {
          "output_type": "execute_result",
          "data": {
            "text/plain": [
              "Majority    1.000000\n",
              "Label1      0.998782\n",
              "Label2      0.013683\n",
              "Label3      0.013631\n",
              "Label5     -0.006559\n",
              "Label4     -0.007215\n",
              "Name: Majority, dtype: float64"
            ]
          },
          "metadata": {},
          "execution_count": 24
        }
      ]
    },
    {
      "cell_type": "code",
      "source": [
        "df.plot(kind=\"scatter\", x=\"Majority\", y=\"Concepts\", alpha=0.5)"
      ],
      "metadata": {
        "colab": {
          "base_uri": "https://localhost:8080/",
          "height": 296
        },
        "id": "jFHUEXu9HPT-",
        "outputId": "a616b26c-0d4b-47df-ef13-8f118ba1bd10"
      },
      "id": "jFHUEXu9HPT-",
      "execution_count": 25,
      "outputs": [
        {
          "output_type": "execute_result",
          "data": {
            "text/plain": [
              "<matplotlib.axes._subplots.AxesSubplot at 0x7f46b2f0ed90>"
            ]
          },
          "metadata": {},
          "execution_count": 25
        },
        {
          "output_type": "display_data",
          "data": {
            "image/png": "[encoded data removed]",
            "text/plain": [
              "<Figure size 432x288 with 1 Axes>"
            ]
          },
          "metadata": {
            "needs_background": "light"
          }
        }
      ]
    },
    {
      "cell_type": "code",
      "source": [
        "df.boxplot(column=['Label1', 'Label2', 'Label3', 'Label4','Label5','Majority'])"
      ],
      "metadata": {
        "colab": {
          "base_uri": "https://localhost:8080/",
          "height": 282
        },
        "id": "yZ6VkXZIH9GS",
        "outputId": "d6db7b52-4a4c-437e-8c65-f46c1e4be56e"
      },
      "id": "yZ6VkXZIH9GS",
      "execution_count": 26,
      "outputs": [
        {
          "output_type": "execute_result",
          "data": {
            "text/plain": [
              "<matplotlib.axes._subplots.AxesSubplot at 0x7f46b2e25250>"
            ]
          },
          "metadata": {},
          "execution_count": 26
        },
        {
          "output_type": "display_data",
          "data": {
            "image/png": "[encoded data removed]",
            "text/plain": [
              "<Figure size 432x288 with 1 Axes>"
            ]
          },
          "metadata": {
            "needs_background": "light"
          }
        }
      ]
    },
    {
      "cell_type": "markdown",
      "source": [
        "Boxplot for the concepts to the Majority voting"
      ],
      "metadata": {
        "id": "KkyvXqS2Zujm"
      },
      "id": "KkyvXqS2Zujm"
    },
    {
      "cell_type": "code",
      "source": [
        "sns.boxplot(x='Majority',y='Concepts',data=df)"
      ],
      "metadata": {
        "colab": {
          "base_uri": "https://localhost:8080/",
          "height": 298
        },
        "id": "Z6unBNGfIRTO",
        "outputId": "a20bd67c-48f1-4ea6-f695-16c4f5ffde52"
      },
      "id": "Z6unBNGfIRTO",
      "execution_count": 27,
      "outputs": [
        {
          "output_type": "execute_result",
          "data": {
            "text/plain": [
              "<matplotlib.axes._subplots.AxesSubplot at 0x7f46b3fff3d0>"
            ]
          },
          "metadata": {},
          "execution_count": 27
        },
        {
          "output_type": "display_data",
          "data": {
            "image/png": "[encoded data removed]",
            "text/plain": [
              "<Figure size 432x288 with 1 Axes>"
            ]
          },
          "metadata": {
            "needs_background": "light"
          }
        }
      ]
    },
    {
      "cell_type": "code",
      "execution_count": 28,
      "id": "c0b047b8",
      "metadata": {
        "id": "c0b047b8"
      },
      "outputs": [],
      "source": [
        "from sklearn import preprocessing\n",
        "le = preprocessing.LabelEncoder()"
      ]
    },
    {
      "cell_type": "code",
      "execution_count": 29,
      "id": "062d0b6d",
      "metadata": {
        "id": "062d0b6d",
        "outputId": "9c6bc426-dc1c-485e-d830-04610c3b907b",
        "colab": {
          "base_uri": "https://localhost:8080/"
        }
      },
      "outputs": [
        {
          "output_type": "execute_result",
          "data": {
            "text/plain": [
              "array([0, 1])"
            ]
          },
          "metadata": {},
          "execution_count": 29
        }
      ],
      "source": [
        "df[\"Majority\"] = le.fit_transform(df[\"Majority\"])\n",
        "le.classes_"
      ]
    },
    {
      "cell_type": "code",
      "execution_count": 30,
      "id": "81182ac6",
      "metadata": {
        "id": "81182ac6",
        "outputId": "d2e97e4b-a4e0-4aee-b613-c2a8db5c02fb",
        "colab": {
          "base_uri": "https://localhost:8080/"
        }
      },
      "outputs": [
        {
          "output_type": "execute_result",
          "data": {
            "text/plain": [
              "ModeResult(mode=array([1]), count=array([2075]))"
            ]
          },
          "metadata": {},
          "execution_count": 30
        }
      ],
      "source": [
        "from scipy import stats\n",
        "stats.mode(df.Majority)"
      ]
    },
    {
      "cell_type": "code",
      "source": [
        "import nltk\n",
        "nltk.download('stopwords')"
      ],
      "metadata": {
        "colab": {
          "base_uri": "https://localhost:8080/"
        },
        "id": "HtI3biz1LabP",
        "outputId": "0e81f0e3-dac2-48c4-d31d-b8535b0d69fd"
      },
      "id": "HtI3biz1LabP",
      "execution_count": 31,
      "outputs": [
        {
          "output_type": "stream",
          "name": "stdout",
          "text": [
            "[nltk_data] Downloading package stopwords to /root/nltk_data...\n",
            "[nltk_data]   Unzipping corpora/stopwords.zip.\n"
          ]
        },
        {
          "output_type": "execute_result",
          "data": {
            "text/plain": [
              "True"
            ]
          },
          "metadata": {},
          "execution_count": 31
        }
      ]
    },
    {
      "cell_type": "code",
      "execution_count": 32,
      "id": "f5e0d25a",
      "metadata": {
        "id": "f5e0d25a"
      },
      "outputs": [],
      "source": [
        "from nltk.corpus import stopwords\n",
        "stop_words = stopwords.words('english')\n",
        "stop_words.extend(['from', 'subject', 're', 'edu', 'use'])"
      ]
    },
    {
      "cell_type": "code",
      "execution_count": 33,
      "id": "c2a2a005",
      "metadata": {
        "id": "c2a2a005",
        "outputId": "928bc855-3908-4362-f36d-3352e55c0590",
        "colab": {
          "base_uri": "https://localhost:8080/"
        }
      },
      "outputs": [
        {
          "output_type": "stream",
          "name": "stdout",
          "text": [
            "[nltk_data] Downloading package stopwords to /root/nltk_data...\n",
            "[nltk_data]   Package stopwords is already up-to-date!\n"
          ]
        }
      ],
      "source": [
        "import nltk   #cleaning\n",
        "df['CleanedTweet'] = df['CleanedTweet'].str.replace('[^\\w\\s]','')  #removal of punctuation\n",
        "df['CleanedTweet'] = df['CleanedTweet'].apply(lambda x: \" \".join(x.lower() for x in x.split()))#lower case\n",
        "from nltk.corpus import stopwords #removal of stopwords\n",
        "nltk.download('stopwords')\n",
        "stop = stopwords.words('english')\n",
        "df['CleanedTweet'] = df['CleanedTweet'].apply(lambda x: \" \".join(x for x in x.split() if x not in stop))"
      ]
    },
    {
      "cell_type": "code",
      "execution_count": 34,
      "id": "1f8ebc03",
      "metadata": {
        "id": "1f8ebc03"
      },
      "outputs": [],
      "source": [
        "words = []   #building document-term matrix\n",
        "from nltk.tokenize import RegexpTokenizer\n",
        "from gensim import corpora,models\n",
        "tokenizer = RegexpTokenizer(r'\\w+')\n",
        "for x in pd.Series(df['CleanedTweet']):\n",
        "  a = tokenizer.tokenize(x)\n",
        "  words.append(a)\n",
        "dictionary = corpora.Dictionary(words)\n",
        "corpus = [dictionary.doc2bow(word) for word in words]"
      ]
    },
    {
      "cell_type": "code",
      "execution_count": 35,
      "id": "8e9ab3f7",
      "metadata": {
        "id": "8e9ab3f7"
      },
      "outputs": [],
      "source": [
        "import gensim  #LDA model\n",
        "model = gensim.models.ldamodel.LdaModel(corpus, num_topics = 10, id2word = dictionary,passes = 20)"
      ]
    },
    {
      "cell_type": "code",
      "execution_count": 36,
      "id": "1f80c2ab",
      "metadata": {
        "id": "1f80c2ab",
        "outputId": "c6df7210-a99e-4fc0-f0b0-0ba10d88dcce",
        "colab": {
          "base_uri": "https://localhost:8080/"
        }
      },
      "outputs": [
        {
          "output_type": "stream",
          "name": "stdout",
          "text": [
            "[(0, '0.027*\"stress\" + 0.020*\"news\" + 0.014*\"family\" + 0.013*\"sick\" + 0.013*\"familystress\"'), (1, '0.014*\"odynophagia\" + 0.009*\"oligomenorrhea\" + 0.007*\"lead\" + 0.007*\"menstrual\" + 0.006*\"obesity\"'), (2, '0.015*\"women\" + 0.015*\"oppositional\" + 0.015*\"disorder\" + 0.013*\"defiant\" + 0.011*\"new\"'), (3, '0.022*\"pericarditis\" + 0.015*\"phlebitis\" + 0.014*\"peritonitis\" + 0.012*\"paresis\" + 0.010*\"paininlimb\"'), (4, '0.034*\"infection\" + 0.027*\"otitismedia\" + 0.027*\"ear\" + 0.019*\"bacterial\" + 0.017*\"secondary\"'), (5, '0.021*\"heart\" + 0.019*\"myocarditis\" + 0.015*\"opportunisticinfections\" + 0.014*\"speechdisorders\" + 0.010*\"reactivatedviruses\"'), (6, '0.027*\"pleurisy\" + 0.017*\"lupus\" + 0.015*\"pain\" + 0.014*\"causing\" + 0.014*\"respiratoryfailure\"'), (7, '0.030*\"obesity\" + 0.012*\"feet\" + 0.010*\"coldfeet\" + 0.009*\"gerd\" + 0.009*\"cold\"'), (8, '0.021*\"scalp\" + 0.021*\"skin\" + 0.019*\"dry\" + 0.016*\"dryscalp\" + 0.014*\"skinpigmentation\"'), (9, '0.022*\"night\" + 0.021*\"nocturia\" + 0.020*\"getting\" + 0.019*\"much\" + 0.016*\"go\"')]\n"
          ]
        }
      ],
      "source": [
        "print(model.print_topics(num_topics = 10, num_words = 5))"
      ]
    },
    {
      "cell_type": "code",
      "source": [
        "plt.figure(figsize=(10,10))\n",
        "sns.barplot(df['Majority'],df['Concepts'])"
      ],
      "metadata": {
        "id": "M4C7KB78BGGU",
        "outputId": "30b1e539-4380-4947-bf03-a57125a15382",
        "colab": {
          "base_uri": "https://localhost:8080/",
          "height": 623
        }
      },
      "id": "M4C7KB78BGGU",
      "execution_count": 37,
      "outputs": [
        {
          "output_type": "execute_result",
          "data": {
            "text/plain": [
              "<matplotlib.axes._subplots.AxesSubplot at 0x7f46b4214c90>"
            ]
          },
          "metadata": {},
          "execution_count": 37
        },
        {
          "output_type": "display_data",
          "data": {
            "image/png": "[encoded data removed]",
            "text/plain": [
              "<Figure size 720x720 with 1 Axes>"
            ]
          },
          "metadata": {
            "needs_background": "light"
          }
        }
      ]
    },
    {
      "cell_type": "code",
      "execution_count": 38,
      "id": "75715e06",
      "metadata": {
        "id": "75715e06",
        "outputId": "9f30d73e-a2df-417a-8136-f255750f31f9",
        "colab": {
          "base_uri": "https://localhost:8080/"
        }
      },
      "outputs": [
        {
          "output_type": "stream",
          "name": "stdout",
          "text": [
            "<class 'pandas.core.frame.DataFrame'>\n",
            "RangeIndex: 3433 entries, 0 to 3432\n",
            "Data columns (total 9 columns):\n",
            " #   Column        Non-Null Count  Dtype \n",
            "---  ------        --------------  ----- \n",
            " 0   Concepts      3433 non-null   object\n",
            " 1   Definition    3433 non-null   object\n",
            " 2   CleanedTweet  3433 non-null   object\n",
            " 3   Label1        3433 non-null   int64 \n",
            " 4   Label2        3433 non-null   int64 \n",
            " 5   Label3        3433 non-null   int64 \n",
            " 6   Label4        3433 non-null   int64 \n",
            " 7   Label5        3433 non-null   int64 \n",
            " 8   Majority      3433 non-null   int64 \n",
            "dtypes: int64(6), object(3)\n",
            "memory usage: 241.5+ KB\n"
          ]
        }
      ],
      "source": [
        "df.info()"
      ]
    },
    {
      "cell_type": "code",
      "execution_count": 39,
      "id": "77d2f623",
      "metadata": {
        "id": "77d2f623"
      },
      "outputs": [],
      "source": [
        "from sklearn.feature_extraction.text import TfidfVectorizer\n",
        "\n",
        "tf_idf= TfidfVectorizer(ngram_range=(1,2), max_features=1000)\n",
        "tf_idf.fit(df['CleanedTweet'])\n",
        "x_values =  tf_idf.transform(df['CleanedTweet'])\n",
        "y_values = df['Majority']\n"
      ]
    },
    {
      "cell_type": "code",
      "execution_count": 40,
      "id": "6d1eba59",
      "metadata": {
        "id": "6d1eba59",
        "outputId": "f56e4c6c-d450-4276-fdf5-db8f3ad99539",
        "colab": {
          "base_uri": "https://localhost:8080/",
          "height": 296
        }
      },
      "outputs": [
        {
          "output_type": "execute_result",
          "data": {
            "text/plain": [
              "<matplotlib.axes._subplots.AxesSubplot at 0x7f46af1d6fd0>"
            ]
          },
          "metadata": {},
          "execution_count": 40
        },
        {
          "output_type": "display_data",
          "data": {
            "image/png": "[encoded data removed]",
            "text/plain": [
              "<Figure size 432x288 with 1 Axes>"
            ]
          },
          "metadata": {
            "needs_background": "light"
          }
        }
      ],
      "source": [
        "sns.barplot(df['Concepts'],df['Majority'])"
      ]
    },
    {
      "cell_type": "code",
      "execution_count": 41,
      "id": "5721c650",
      "metadata": {
        "id": "5721c650",
        "outputId": "d93395ae-0d34-4d34-c1e2-66fbf2a87a86",
        "colab": {
          "base_uri": "https://localhost:8080/",
          "height": 298
        }
      },
      "outputs": [
        {
          "output_type": "execute_result",
          "data": {
            "text/plain": [
              "<matplotlib.axes._subplots.AxesSubplot at 0x7f46aee213d0>"
            ]
          },
          "metadata": {},
          "execution_count": 41
        },
        {
          "output_type": "display_data",
          "data": {
            "image/png": "[encoded data removed]",
            "text/plain": [
              "<Figure size 432x288 with 1 Axes>"
            ]
          },
          "metadata": {
            "needs_background": "light"
          }
        }
      ],
      "source": [
        "sns.distplot(df['Majority'])"
      ]
    },
    {
      "cell_type": "code",
      "execution_count": 42,
      "id": "909d7e65",
      "metadata": {
        "id": "909d7e65",
        "outputId": "990c68c5-ea7e-49f9-8738-3b491b201afc",
        "colab": {
          "base_uri": "https://localhost:8080/",
          "height": 296
        }
      },
      "outputs": [
        {
          "output_type": "execute_result",
          "data": {
            "text/plain": [
              "<matplotlib.axes._subplots.AxesSubplot at 0x7f46b452d950>"
            ]
          },
          "metadata": {},
          "execution_count": 42
        },
        {
          "output_type": "display_data",
          "data": {
            "image/png": "[encoded data removed]",
            "text/plain": [
              "<Figure size 432x288 with 1 Axes>"
            ]
          },
          "metadata": {
            "needs_background": "light"
          }
        }
      ],
      "source": [
        "sns.stripplot(df['Concepts'],df['Majority'])"
      ]
    },
    {
      "cell_type": "code",
      "execution_count": 43,
      "id": "28ede915",
      "metadata": {
        "id": "28ede915",
        "outputId": "4e43e49f-3447-407f-95aa-9073d02e86c3",
        "colab": {
          "base_uri": "https://localhost:8080/",
          "height": 296
        }
      },
      "outputs": [
        {
          "output_type": "execute_result",
          "data": {
            "text/plain": [
              "<matplotlib.axes._subplots.AxesSubplot at 0x7f46aef62810>"
            ]
          },
          "metadata": {},
          "execution_count": 43
        },
        {
          "output_type": "display_data",
          "data": {
            "image/png": "[encoded data removed]",
            "text/plain": [
              "<Figure size 432x288 with 1 Axes>"
            ]
          },
          "metadata": {
            "needs_background": "light"
          }
        }
      ],
      "source": [
        "sns.boxplot(df['Concepts'],df['Majority'])"
      ]
    },
    {
      "cell_type": "markdown",
      "source": [
        "Calculating Kappa value to the each annotator to the Majority voting"
      ],
      "metadata": {
        "id": "rokhTsnPZ--N"
      },
      "id": "rokhTsnPZ--N"
    },
    {
      "cell_type": "code",
      "source": [
        "cohen_kappa_score(df['Majority'],df['Label1'])\n"
      ],
      "metadata": {
        "colab": {
          "base_uri": "https://localhost:8080/"
        },
        "id": "lswduk9iZ8Ac",
        "outputId": "feb66dcf-7097-412f-e351-f7c9a73c40d3"
      },
      "id": "lswduk9iZ8Ac",
      "execution_count": 44,
      "outputs": [
        {
          "output_type": "execute_result",
          "data": {
            "text/plain": [
              "0.9987813851884167"
            ]
          },
          "metadata": {},
          "execution_count": 44
        }
      ]
    },
    {
      "cell_type": "code",
      "source": [
        "cohen_kappa_score(df['Majority'],df['Label2'])"
      ],
      "metadata": {
        "colab": {
          "base_uri": "https://localhost:8080/"
        },
        "id": "0AbQU5VAaQPX",
        "outputId": "12536a5c-6cc3-4e22-9efe-91ea8ae69821"
      },
      "id": "0AbQU5VAaQPX",
      "execution_count": 45,
      "outputs": [
        {
          "output_type": "execute_result",
          "data": {
            "text/plain": [
              "0.013422444015265267"
            ]
          },
          "metadata": {},
          "execution_count": 45
        }
      ]
    },
    {
      "cell_type": "code",
      "source": [
        "cohen_kappa_score(df['Majority'],df['Label3'])"
      ],
      "metadata": {
        "colab": {
          "base_uri": "https://localhost:8080/"
        },
        "id": "byTUamo2aScH",
        "outputId": "f47c023b-a5f8-4236-a0d1-d03d2c370960"
      },
      "id": "byTUamo2aScH",
      "execution_count": 46,
      "outputs": [
        {
          "output_type": "execute_result",
          "data": {
            "text/plain": [
              "0.013387029636036218"
            ]
          },
          "metadata": {},
          "execution_count": 46
        }
      ]
    },
    {
      "cell_type": "code",
      "source": [
        "cohen_kappa_score(df['Majority'],df['Label4'])"
      ],
      "metadata": {
        "colab": {
          "base_uri": "https://localhost:8080/"
        },
        "id": "Z8uvR2yZaVZ_",
        "outputId": "7c146255-0f12-43ac-9f84-f4d94e16fdb1"
      },
      "id": "Z8uvR2yZaVZ_",
      "execution_count": 47,
      "outputs": [
        {
          "output_type": "execute_result",
          "data": {
            "text/plain": [
              "-0.007066203336561383"
            ]
          },
          "metadata": {},
          "execution_count": 47
        }
      ]
    },
    {
      "cell_type": "code",
      "source": [
        "cohen_kappa_score(df['Majority'],df['Label5'])"
      ],
      "metadata": {
        "colab": {
          "base_uri": "https://localhost:8080/"
        },
        "id": "spmWUPKMaXmP",
        "outputId": "a3498b28-f89a-444f-f4ce-c3acbdf10313"
      },
      "id": "spmWUPKMaXmP",
      "execution_count": 48,
      "outputs": [
        {
          "output_type": "execute_result",
          "data": {
            "text/plain": [
              "-0.006397253967394212"
            ]
          },
          "metadata": {},
          "execution_count": 48
        }
      ]
    },
    {
      "cell_type": "markdown",
      "source": [
        "#Data transformation"
      ],
      "metadata": {
        "id": "4OMQDuk9PfTH"
      },
      "id": "4OMQDuk9PfTH"
    },
    {
      "cell_type": "code",
      "source": [
        "from sklearn import model_selection, preprocessing, naive_bayes, metrics, svm\n",
        "from sklearn.feature_extraction.text import TfidfVectorizer\n",
        "tfidf_vect = TfidfVectorizer(analyzer='word')\n",
        "tfidf_vect.fit(df['CleanedTweet'])\n",
        "x_tfidf =  tfidf_vect.transform(df['CleanedTweet'])"
      ],
      "metadata": {
        "id": "2bImbIH2Mhbn"
      },
      "id": "2bImbIH2Mhbn",
      "execution_count": 49,
      "outputs": []
    },
    {
      "cell_type": "code",
      "source": [
        "vect_test = TfidfVectorizer(analyzer='word', vocabulary = tfidf_vect.vocabulary_)\n",
        "vect_test.fit(df['CleanedTweet'])\n",
        "xtest = vect_test.transform(df['CleanedTweet'])\n",
        "test_y = df['Majority']"
      ],
      "metadata": {
        "id": "n6YRafT-bTVa"
      },
      "id": "n6YRafT-bTVa",
      "execution_count": 50,
      "outputs": []
    },
    {
      "cell_type": "markdown",
      "source": [
        "#Splitting the data into train and test"
      ],
      "metadata": {
        "id": "5sO2fll2Phz2"
      },
      "id": "5sO2fll2Phz2"
    },
    {
      "cell_type": "code",
      "source": [
        "from sklearn import model_selection, preprocessing, naive_bayes, metrics, svm\n",
        "train_x, valid_x, train_y, valid_y = model_selection.train_test_split(x_tfidf, df['Majority'].values,test_size=0.2)"
      ],
      "metadata": {
        "id": "qyRYKgyUM_q9"
      },
      "id": "qyRYKgyUM_q9",
      "execution_count": 51,
      "outputs": []
    },
    {
      "cell_type": "code",
      "source": [
        "from sklearn import metrics\n",
        "def get_metrics(predictions, test_data_y):\n",
        "  accuracy = metrics.accuracy_score(predictions, test_data_y)\n",
        "  precision = metrics.precision_score(predictions, test_data_y, pos_label='positive', average='micro')\n",
        "  recall = metrics.recall_score(predictions, test_data_y, pos_label='positive', average='micro')\n",
        "  f1 = metrics.f1_score(predictions, test_data_y, pos_label='positive', average='micro')\n",
        "  return accuracy, precision, recall, f1"
      ],
      "metadata": {
        "id": "DmoF8d68NG6v"
      },
      "id": "DmoF8d68NG6v",
      "execution_count": 52,
      "outputs": []
    },
    {
      "cell_type": "code",
      "source": [
        "import numpy as np\n",
        "from sklearn.model_selection import cross_val_score, KFold\n",
        "def cross_validation_score(modelName, x, y):\n",
        "  scoring = 'accuracy'\n",
        "  kfold = KFold(10, random_state = 7,shuffle=True)\n",
        "  cross_val = cross_val_score(modelName, x, y, cv=kfold).mean()\n",
        "  return cross_val"
      ],
      "metadata": {
        "id": "6TwmJumENMHO"
      },
      "id": "6TwmJumENMHO",
      "execution_count": 53,
      "outputs": []
    },
    {
      "cell_type": "markdown",
      "source": [
        "#Training and Evaluating the Models\n",
        "Naive Bayes model-Validation metrics"
      ],
      "metadata": {
        "id": "-xT4WrVMPvf3"
      },
      "id": "-xT4WrVMPvf3"
    },
    {
      "cell_type": "code",
      "source": [
        "naive_bayes_model = naive_bayes.MultinomialNB()\n",
        "naive_bayes_model.fit(train_x, train_y)\n",
        "naive_bayes_predictions_validation_data = naive_bayes_model.predict(valid_x)\n",
        "accuracy, precision, recall, f1 = get_metrics(naive_bayes_predictions_validation_data, valid_y)\n",
        "print(\"Accuracy is {0}\".format(accuracy))"
      ],
      "metadata": {
        "colab": {
          "base_uri": "https://localhost:8080/"
        },
        "id": "FHMOUyOvNQ39",
        "outputId": "fc031699-2f5b-4f4a-e2c7-5095697efe47"
      },
      "id": "FHMOUyOvNQ39",
      "execution_count": 54,
      "outputs": [
        {
          "output_type": "stream",
          "name": "stdout",
          "text": [
            "Accuracy is 0.6244541484716157\n"
          ]
        }
      ]
    },
    {
      "cell_type": "markdown",
      "source": [
        "Cross validation score"
      ],
      "metadata": {
        "id": "zlrRiV9bcFQQ"
      },
      "id": "zlrRiV9bcFQQ"
    },
    {
      "cell_type": "code",
      "source": [
        "nb_scores_mean = cross_validation_score(naive_bayes_model, valid_x, valid_y)\n",
        "print('Navie Bayes Cross Validation Score is {0}'.format(nb_scores_mean))"
      ],
      "metadata": {
        "colab": {
          "base_uri": "https://localhost:8080/"
        },
        "id": "_J8cM9TSNUrW",
        "outputId": "0819ad3d-659e-4f93-f810-382862adb561"
      },
      "id": "_J8cM9TSNUrW",
      "execution_count": 55,
      "outputs": [
        {
          "output_type": "stream",
          "name": "stdout",
          "text": [
            "Navie Bayes Cross Validation Score is 0.6287084398976982\n"
          ]
        }
      ]
    },
    {
      "cell_type": "markdown",
      "source": [
        "Testing Metrics"
      ],
      "metadata": {
        "id": "8N58-_PBcJdG"
      },
      "id": "8N58-_PBcJdG"
    },
    {
      "cell_type": "code",
      "source": [
        "naive_bayes_predictions_test_data = naive_bayes_model.predict(xtest)\n",
        "accuracy, precision, recall, f1 = get_metrics(naive_bayes_predictions_test_data, test_y)\n",
        "print(\"Accuracy is {0}\".format(accuracy))"
      ],
      "metadata": {
        "colab": {
          "base_uri": "https://localhost:8080/"
        },
        "id": "zVP1b1_MNXX-",
        "outputId": "3e48d6f0-db1b-4b3e-cc32-065f2bb291e0"
      },
      "id": "zVP1b1_MNXX-",
      "execution_count": 56,
      "outputs": [
        {
          "output_type": "stream",
          "name": "stdout",
          "text": [
            "Accuracy is 0.8083309059131955\n"
          ]
        }
      ]
    },
    {
      "cell_type": "markdown",
      "source": [
        "Cross Validation score Testing"
      ],
      "metadata": {
        "id": "SwLeP71rcN4V"
      },
      "id": "SwLeP71rcN4V"
    },
    {
      "cell_type": "code",
      "source": [
        "nb_test_scores_mean = cross_validation_score(naive_bayes_model, xtest, test_y)\n",
        "print('Navie Bayes Cross Validation Score is {0}'.format(nb_test_scores_mean))"
      ],
      "metadata": {
        "colab": {
          "base_uri": "https://localhost:8080/"
        },
        "id": "ny83d_CVNas2",
        "outputId": "b8667c02-24f5-4ce6-e48c-07e75fe1ff65"
      },
      "id": "ny83d_CVNas2",
      "execution_count": 57,
      "outputs": [
        {
          "output_type": "stream",
          "name": "stdout",
          "text": [
            "Navie Bayes Cross Validation Score is 0.62133873482948\n"
          ]
        }
      ]
    },
    {
      "cell_type": "markdown",
      "source": [
        "#Svm validation metrics"
      ],
      "metadata": {
        "id": "Wfc05m6hcTnh"
      },
      "id": "Wfc05m6hcTnh"
    },
    {
      "cell_type": "code",
      "source": [
        "svm_model = svm.SVC()\n",
        "svm_model.fit(train_x, train_y)\n",
        "svm_predictions_validation_data = svm_model.predict(valid_x)\n",
        "accuracy, precision, recall, f1 = get_metrics(svm_predictions_validation_data, valid_y)\n",
        "print(\"Accuracy is {0}\".format(accuracy))"
      ],
      "metadata": {
        "colab": {
          "base_uri": "https://localhost:8080/"
        },
        "id": "27qN6zPvNeUW",
        "outputId": "1c09553c-6c45-4ae2-dcc2-8bfa2b118dff"
      },
      "id": "27qN6zPvNeUW",
      "execution_count": 58,
      "outputs": [
        {
          "output_type": "stream",
          "name": "stdout",
          "text": [
            "Accuracy is 0.660844250363901\n"
          ]
        }
      ]
    },
    {
      "cell_type": "markdown",
      "source": [
        "Cross Validation score"
      ],
      "metadata": {
        "id": "t2YPqXMecY9p"
      },
      "id": "t2YPqXMecY9p"
    },
    {
      "cell_type": "code",
      "source": [
        "svm_scores_mean = cross_validation_score(svm_model, valid_x, valid_y)\n",
        "print('SVM Cross Validation Score is {0}'.format(svm_scores_mean))"
      ],
      "metadata": {
        "colab": {
          "base_uri": "https://localhost:8080/"
        },
        "id": "RVD07hm_Nh_-",
        "outputId": "c9a82539-8e90-4b80-d542-2d764c65ad63"
      },
      "id": "RVD07hm_Nh_-",
      "execution_count": 59,
      "outputs": [
        {
          "output_type": "stream",
          "name": "stdout",
          "text": [
            "SVM Cross Validation Score is 0.6374254049445865\n"
          ]
        }
      ]
    },
    {
      "cell_type": "markdown",
      "source": [
        "Testing Metrics"
      ],
      "metadata": {
        "id": "f22Xs2JpcdBY"
      },
      "id": "f22Xs2JpcdBY"
    },
    {
      "cell_type": "code",
      "source": [
        "svm_predictions_test_data = svm_model.predict(xtest)\n",
        "accuracy, precision, recall, f1 = get_metrics(svm_predictions_test_data, test_y)\n",
        "print(\"Accuracy is {0}\".format(accuracy))"
      ],
      "metadata": {
        "colab": {
          "base_uri": "https://localhost:8080/"
        },
        "id": "g_Cj7JxONk6m",
        "outputId": "ce0526e2-ccfd-494a-f17f-aa8d6582e100"
      },
      "id": "g_Cj7JxONk6m",
      "execution_count": 60,
      "outputs": [
        {
          "output_type": "stream",
          "name": "stdout",
          "text": [
            "Accuracy is 0.878823186717157\n"
          ]
        }
      ]
    },
    {
      "cell_type": "markdown",
      "source": [
        "Cross Validation Score"
      ],
      "metadata": {
        "id": "VS2RrGT2cnhJ"
      },
      "id": "VS2RrGT2cnhJ"
    },
    {
      "cell_type": "code",
      "source": [
        "svm_test_scores_mean = cross_validation_score(svm_model, xtest, test_y)\n",
        "print('SVM Cross Validation Score is {0}'.format(svm_test_scores_mean))"
      ],
      "metadata": {
        "colab": {
          "base_uri": "https://localhost:8080/"
        },
        "id": "d25SI2-XN2td",
        "outputId": "7d6073f6-4a51-4c59-86cf-e9344d4a82d4"
      },
      "id": "d25SI2-XN2td",
      "execution_count": 61,
      "outputs": [
        {
          "output_type": "stream",
          "name": "stdout",
          "text": [
            "SVM Cross Validation Score is 0.6393857210658349\n"
          ]
        }
      ]
    },
    {
      "cell_type": "markdown",
      "source": [
        "Knn-Validation Metrics"
      ],
      "metadata": {
        "id": "BqhSNd5QcrqH"
      },
      "id": "BqhSNd5QcrqH"
    },
    {
      "cell_type": "code",
      "source": [
        "from sklearn.neighbors import KNeighborsClassifier\n",
        "knn_model = KNeighborsClassifier(n_neighbors = 15)\n",
        "knn_model.fit(train_x, train_y)\n",
        "knn_predictions_valid_data = knn_model.predict(valid_x)\n",
        "accuracy, precision, recall, f1 = get_metrics(knn_predictions_valid_data, valid_y)\n",
        "print(\"Accuracy is {0}\".format(accuracy))"
      ],
      "metadata": {
        "colab": {
          "base_uri": "https://localhost:8080/"
        },
        "id": "7q9BDbDOOBQO",
        "outputId": "fce5e7a1-ae5f-4b25-cfa5-af9cef71b694"
      },
      "id": "7q9BDbDOOBQO",
      "execution_count": 62,
      "outputs": [
        {
          "output_type": "stream",
          "name": "stdout",
          "text": [
            "Accuracy is 0.6069868995633187\n"
          ]
        }
      ]
    },
    {
      "cell_type": "markdown",
      "source": [
        "Cross Validation Score"
      ],
      "metadata": {
        "id": "ZGhw6FgFcwLh"
      },
      "id": "ZGhw6FgFcwLh"
    },
    {
      "cell_type": "code",
      "source": [
        "knn_scores_mean = cross_validation_score(knn_model, valid_x, valid_y)\n",
        "print('KNN Cross Validation Score is {0}'.format(knn_scores_mean))"
      ],
      "metadata": {
        "colab": {
          "base_uri": "https://localhost:8080/"
        },
        "id": "XYbCxbQaOEj-",
        "outputId": "de70b323-0493-4d10-c3fb-3d6fb2092983"
      },
      "id": "XYbCxbQaOEj-",
      "execution_count": 63,
      "outputs": [
        {
          "output_type": "stream",
          "name": "stdout",
          "text": [
            "KNN Cross Validation Score is 0.6229113384484228\n"
          ]
        }
      ]
    },
    {
      "cell_type": "markdown",
      "source": [
        "Testing Metrics"
      ],
      "metadata": {
        "id": "4zKOLrtzc04R"
      },
      "id": "4zKOLrtzc04R"
    },
    {
      "cell_type": "code",
      "source": [
        "knn_predictions_test_data = knn_model.predict(xtest)\n",
        "accuracy, precision, recall, f1 = get_metrics(knn_predictions_test_data, test_y)\n",
        "print(\"Accuracy is {0}\".format(accuracy))"
      ],
      "metadata": {
        "colab": {
          "base_uri": "https://localhost:8080/"
        },
        "id": "gYp_EafUOJW9",
        "outputId": "6d50d591-68b4-46af-ccef-7cc8a43966a8"
      },
      "id": "gYp_EafUOJW9",
      "execution_count": 64,
      "outputs": [
        {
          "output_type": "stream",
          "name": "stdout",
          "text": [
            "Accuracy is 0.6746286047189047\n"
          ]
        }
      ]
    },
    {
      "cell_type": "markdown",
      "source": [
        "Cross validation score-Testing"
      ],
      "metadata": {
        "id": "xHOqJ8ATc43R"
      },
      "id": "xHOqJ8ATc43R"
    },
    {
      "cell_type": "code",
      "source": [
        "knn_test_scores_mean = cross_validation_score(knn_model, xtest, test_y)\n",
        "print('KNN Cross Validation Score is {0}'.format(knn_test_scores_mean))"
      ],
      "metadata": {
        "colab": {
          "base_uri": "https://localhost:8080/"
        },
        "id": "1mZsv042OMNd",
        "outputId": "8d21db1b-fe42-4131-9a7f-89c39cffa42a"
      },
      "id": "1mZsv042OMNd",
      "execution_count": 65,
      "outputs": [
        {
          "output_type": "stream",
          "name": "stdout",
          "text": [
            "KNN Cross Validation Score is 0.621320089497593\n"
          ]
        }
      ]
    },
    {
      "cell_type": "markdown",
      "source": [
        "Decision Tree-Validation Metrics"
      ],
      "metadata": {
        "id": "AHMwq-1Uc9fP"
      },
      "id": "AHMwq-1Uc9fP"
    },
    {
      "cell_type": "code",
      "source": [
        "from sklearn.tree import DecisionTreeClassifier\n",
        "dt_model = DecisionTreeClassifier()\n",
        "dt_model.fit(train_x, train_y)\n",
        "dt_predictions_valid_data = dt_model.predict(valid_x)\n",
        "accuracy, precision, recall, f1 = get_metrics(dt_predictions_valid_data, valid_y)\n",
        "print(\"Accuracy is {0}\".format(accuracy))"
      ],
      "metadata": {
        "colab": {
          "base_uri": "https://localhost:8080/"
        },
        "id": "cUUB1OcfOOzV",
        "outputId": "b068ac29-3bab-419c-c098-9166b8c5f4f8"
      },
      "id": "cUUB1OcfOOzV",
      "execution_count": 66,
      "outputs": [
        {
          "output_type": "stream",
          "name": "stdout",
          "text": [
            "Accuracy is 0.6302765647743813\n"
          ]
        }
      ]
    },
    {
      "cell_type": "markdown",
      "source": [
        "Cross validation Score"
      ],
      "metadata": {
        "id": "7DdvrJJ6dEHF"
      },
      "id": "7DdvrJJ6dEHF"
    },
    {
      "cell_type": "code",
      "source": [
        "dt_scores_mean = cross_validation_score(dt_model, valid_x, valid_y)\n",
        "print('Decision Tree Cross Validation Score is {0}'.format(dt_scores_mean))"
      ],
      "metadata": {
        "id": "-KS03TszORuu",
        "colab": {
          "base_uri": "https://localhost:8080/"
        },
        "outputId": "28267278-d2be-4944-a621-d8c4fc53f27f"
      },
      "id": "-KS03TszORuu",
      "execution_count": 67,
      "outputs": [
        {
          "output_type": "stream",
          "name": "stdout",
          "text": [
            "Decision Tree Cross Validation Score is 0.6010656436487639\n"
          ]
        }
      ]
    },
    {
      "cell_type": "markdown",
      "source": [
        "Testing metrics"
      ],
      "metadata": {
        "id": "gPmxroFidHaF"
      },
      "id": "gPmxroFidHaF"
    },
    {
      "cell_type": "code",
      "source": [
        "dt_predictions_test_data = dt_model.predict(xtest)\n",
        "accuracy, precision, recall, f1 = get_metrics(dt_predictions_test_data, test_y)\n",
        "print(\"Accuracy is {0}\".format(accuracy))"
      ],
      "metadata": {
        "colab": {
          "base_uri": "https://localhost:8080/"
        },
        "id": "cDHIkLWfOUm1",
        "outputId": "ac02628e-a55d-42b9-ae73-029137953617"
      },
      "id": "cDHIkLWfOUm1",
      "execution_count": 68,
      "outputs": [
        {
          "output_type": "stream",
          "name": "stdout",
          "text": [
            "Accuracy is 0.8811535100495194\n"
          ]
        }
      ]
    },
    {
      "cell_type": "markdown",
      "source": [
        "Cross validation score-Testing"
      ],
      "metadata": {
        "id": "eS2MuEZ3dKOU"
      },
      "id": "eS2MuEZ3dKOU"
    },
    {
      "cell_type": "code",
      "source": [
        "dt_test_scores_mean = cross_validation_score(dt_model, xtest, test_y)\n",
        "print('Decision Tree Cross Validation Score is {0}'.format(dt_test_scores_mean))\n"
      ],
      "metadata": {
        "colab": {
          "base_uri": "https://localhost:8080/"
        },
        "id": "zWUOp_pjOXYu",
        "outputId": "0fa870e1-ebc4-41ea-dd9e-f20161560c1a"
      },
      "id": "zWUOp_pjOXYu",
      "execution_count": 69,
      "outputs": [
        {
          "output_type": "stream",
          "name": "stdout",
          "text": [
            "Decision Tree Cross Validation Score is 0.623366838429724\n"
          ]
        }
      ]
    },
    {
      "cell_type": "markdown",
      "source": [
        "Random Forest-Validation Metrics"
      ],
      "metadata": {
        "id": "vP5G-UgAdQCy"
      },
      "id": "vP5G-UgAdQCy"
    },
    {
      "cell_type": "code",
      "source": [
        "from sklearn.ensemble import RandomForestClassifier\n",
        "rf_model = RandomForestClassifier()\n",
        "rf_model.fit(train_x, train_y)\n",
        "rf_predictions_valid_data = rf_model.predict(valid_x)\n",
        "accuracy, precision, recall, f1 = get_metrics(rf_predictions_valid_data, valid_y)\n",
        "print(\"Accuracy is {0}\".format(accuracy))"
      ],
      "metadata": {
        "colab": {
          "base_uri": "https://localhost:8080/"
        },
        "id": "YfLPifWkOcw-",
        "outputId": "0f77e1c4-4d2e-4610-ac5c-9b3e4c1cab81"
      },
      "id": "YfLPifWkOcw-",
      "execution_count": 70,
      "outputs": [
        {
          "output_type": "stream",
          "name": "stdout",
          "text": [
            "Accuracy is 0.6419213973799127\n"
          ]
        }
      ]
    },
    {
      "cell_type": "markdown",
      "source": [
        "Cross Validation score"
      ],
      "metadata": {
        "id": "cnB04ULndV4Q"
      },
      "id": "cnB04ULndV4Q"
    },
    {
      "cell_type": "code",
      "source": [
        "rf_scores_mean = cross_validation_score(rf_model, valid_x, valid_y)\n",
        "print('Random Forest Cross Validation Score is {0}'.format(rf_scores_mean))"
      ],
      "metadata": {
        "colab": {
          "base_uri": "https://localhost:8080/"
        },
        "id": "4ApvJlunOhL-",
        "outputId": "e1452eb9-68d6-460a-f42a-de62bbc01117"
      },
      "id": "4ApvJlunOhL-",
      "execution_count": 71,
      "outputs": [
        {
          "output_type": "stream",
          "name": "stdout",
          "text": [
            "Random Forest Cross Validation Score is 0.6460997442455243\n"
          ]
        }
      ]
    },
    {
      "cell_type": "markdown",
      "source": [
        "Testing Metrics"
      ],
      "metadata": {
        "id": "hQPjkYdJdYrh"
      },
      "id": "hQPjkYdJdYrh"
    },
    {
      "cell_type": "code",
      "source": [
        "rf_predictions_test_data = rf_model.predict(xtest)\n",
        "accuracy, precision, recall, f1 = get_metrics(rf_predictions_test_data, test_y)\n",
        "print(\"Accuracy is {0}\\nPrecision is {1}\\nRecall is {2}\\nF1 is {3}\".format(accuracy, precision, recall, f1))"
      ],
      "metadata": {
        "colab": {
          "base_uri": "https://localhost:8080/"
        },
        "id": "8hlb2w6AOnLW",
        "outputId": "5aee9d8f-1258-4e98-b59a-271d48da72e6"
      },
      "id": "8hlb2w6AOnLW",
      "execution_count": 72,
      "outputs": [
        {
          "output_type": "stream",
          "name": "stdout",
          "text": [
            "Accuracy is 0.8834838333818817\n",
            "Precision is 0.8834838333818817\n",
            "Recall is 0.8834838333818817\n",
            "F1 is 0.8834838333818817\n"
          ]
        }
      ]
    },
    {
      "cell_type": "markdown",
      "source": [
        "Cross validation score-Testing"
      ],
      "metadata": {
        "id": "dBGw86N2dbr-"
      },
      "id": "dBGw86N2dbr-"
    },
    {
      "cell_type": "code",
      "source": [
        "rf_test_scores_mean = cross_validation_score(rf_model, xtest, test_y)\n",
        "print('Random Forest Cross Validation Score is {0}'.format(rf_test_scores_mean))"
      ],
      "metadata": {
        "colab": {
          "base_uri": "https://localhost:8080/"
        },
        "id": "9eGyv9bjOqM1",
        "outputId": "6fb3e5f7-4497-48b5-af43-c5712ecc5276"
      },
      "id": "9eGyv9bjOqM1",
      "execution_count": 73,
      "outputs": [
        {
          "output_type": "stream",
          "name": "stdout",
          "text": [
            "Random Forest Cross Validation Score is 0.638521255678351\n"
          ]
        }
      ]
    },
    {
      "cell_type": "code",
      "source": [
        "from sklearn.metrics import accuracy_score\n",
        "naive_accuracy=accuracy_score(naive_bayes_predictions_test_data, test_y)\n",
        "print(naive_accuracy)"
      ],
      "metadata": {
        "id": "iD7EAcwM_h6n",
        "outputId": "2a0c061d-c3c3-4480-e1fe-52142ed68477",
        "colab": {
          "base_uri": "https://localhost:8080/"
        }
      },
      "id": "iD7EAcwM_h6n",
      "execution_count": 74,
      "outputs": [
        {
          "output_type": "stream",
          "name": "stdout",
          "text": [
            "0.8083309059131955\n"
          ]
        }
      ]
    },
    {
      "cell_type": "code",
      "source": [
        "from sklearn.metrics import accuracy_score\n",
        "svm_accuracy=accuracy_score(svm_predictions_test_data, test_y)\n",
        "print(svm_accuracy)"
      ],
      "metadata": {
        "id": "2j6g5XmI_m3K",
        "outputId": "d2537065-b3e3-47b9-84c4-aa7202bc089f",
        "colab": {
          "base_uri": "https://localhost:8080/"
        }
      },
      "id": "2j6g5XmI_m3K",
      "execution_count": 75,
      "outputs": [
        {
          "output_type": "stream",
          "name": "stdout",
          "text": [
            "0.878823186717157\n"
          ]
        }
      ]
    },
    {
      "cell_type": "code",
      "source": [
        "from sklearn.metrics import accuracy_score\n",
        "dt_accuracy=accuracy_score(dt_predictions_test_data, test_y)\n",
        "print(dt_accuracy)"
      ],
      "metadata": {
        "id": "1bZh50ly_sJE",
        "outputId": "4ffd340c-1b63-472e-f5be-1bbda99e83c4",
        "colab": {
          "base_uri": "https://localhost:8080/"
        }
      },
      "id": "1bZh50ly_sJE",
      "execution_count": 76,
      "outputs": [
        {
          "output_type": "stream",
          "name": "stdout",
          "text": [
            "0.8811535100495194\n"
          ]
        }
      ]
    },
    {
      "cell_type": "code",
      "source": [
        "from sklearn.metrics import accuracy_score\n",
        "RF_accuracy=accuracy_score(rf_predictions_test_data, test_y)\n",
        "print(RF_accuracy)"
      ],
      "metadata": {
        "id": "vY1exaGo_vU0",
        "outputId": "1a0c5854-56bb-4b64-bc23-ced6020a1fa7",
        "colab": {
          "base_uri": "https://localhost:8080/"
        }
      },
      "id": "vY1exaGo_vU0",
      "execution_count": 77,
      "outputs": [
        {
          "output_type": "stream",
          "name": "stdout",
          "text": [
            "0.8834838333818817\n"
          ]
        }
      ]
    },
    {
      "cell_type": "code",
      "source": [
        "from sklearn.metrics import accuracy_score\n",
        "KNN_accuracy=accuracy_score(knn_predictions_test_data, test_y)\n",
        "print(KNN_accuracy)"
      ],
      "metadata": {
        "id": "OAgtbIvJ_zUF",
        "outputId": "efe07f69-1e47-4b03-d692-ede545775f54",
        "colab": {
          "base_uri": "https://localhost:8080/"
        }
      },
      "id": "OAgtbIvJ_zUF",
      "execution_count": 78,
      "outputs": [
        {
          "output_type": "stream",
          "name": "stdout",
          "text": [
            "0.6746286047189047\n"
          ]
        }
      ]
    },
    {
      "cell_type": "markdown",
      "source": [
        "Accuracies of the Model are as follows using the testing metrics\n",
        "\n",
        "1.Naive Bayes  - 81.6%\n",
        "2.SVM          - 87.5%\n",
        "3.KNN          - 67.4%\n",
        "4.Decision Tree- 87.9%\n",
        "5.Random Forest- 88.8%"
      ],
      "metadata": {
        "id": "2S8HVdeKeZnd"
      },
      "id": "2S8HVdeKeZnd"
    },
    {
      "cell_type": "code",
      "source": [
        "import matplotlib.pyplot as plt\n",
        "fig = plt.figure(figsize = (10,5))\n",
        "algo=['Naive','SVM','Decision Tree','Random Forest','KNN']\n",
        "acc=[]\n",
        "acc.append(naive_accuracy*100)\n",
        "acc.append(svm_accuracy*100)\n",
        "acc.append(dt_accuracy*100)\n",
        "acc.append(RF_accuracy*100)\n",
        "acc.append(KNN_accuracy*100)\n",
        "plt.bar(algo,acc,color=['red','green','yellow','blue','black'])\n",
        "plt.xlabel('Algorithms')\n",
        "plt.ylabel('Accuracy')\n",
        "plt.show()"
      ],
      "metadata": {
        "id": "fk0SR9ND-7HO",
        "colab": {
          "base_uri": "https://localhost:8080/",
          "height": 334
        },
        "outputId": "dbe5efad-5d94-4aea-8762-94aae1a331c6"
      },
      "id": "fk0SR9ND-7HO",
      "execution_count": 81,
      "outputs": [
        {
          "output_type": "display_data",
          "data": {
            "image/png": "[encoded data removed]",
            "text/plain": [
              "<Figure size 720x360 with 1 Axes>"
            ]
          },
          "metadata": {
            "needs_background": "light"
          }
        }
      ]
    }
  ],
  "metadata": {
    "kernelspec": {
      "display_name": "Python 3",
      "language": "python",
      "name": "python3"
    },
    "language_info": {
      "codemirror_mode": {
        "name": "ipython",
        "version": 3
      },
      "file_extension": ".py",
      "mimetype": "text/x-python",
      "name": "python",
      "nbconvert_exporter": "python",
      "pygments_lexer": "ipython3",
      "version": "3.8.8"
    },
    "colab": {
      "name": "Term Final Project.ipynb",
      "provenance": [],
      "include_colab_link": true
    }
  },
  "nbformat": 4,
  "nbformat_minor": 5
}