{
 "cells": [
  {
   "cell_type": "markdown",
   "metadata": {
    "colab_type": "text",
    "id": "view-in-github"
   },
   "source": [
    "<a href=\"https://colab.research.google.com/github/unt-iialab/INFO5731_Spring2020/blob/master/In_class_exercise/In_class_exercise_01.ipynb\" target=\"_parent\"><img src=\"https://colab.research.google.com/assets/colab-badge.svg\" alt=\"Open In Colab\"/></a>"
   ]
  },
  {
   "cell_type": "markdown",
   "metadata": {
    "colab_type": "text",
    "id": "DymRJbxDBCnf"
   },
   "source": [
    "# **The first In-class-exercise (09/01/2021, 40 points in total)**"
   ]
  },
  {
   "cell_type": "markdown",
   "metadata": {
    "colab_type": "text",
    "id": "03jb4GZsBkBS"
   },
   "source": [
    "(1) Write a Python program to calculate the length of a string. (4 points)"
   ]
  },
  {
   "cell_type": "code",
   "execution_count": 1,
   "metadata": {
    "colab": {},
    "colab_type": "code",
    "id": "YaGLbSHHB8Ej"
   },
   "outputs": [
    {
     "name": "stdout",
     "output_type": "stream",
     "text": [
      "28\n"
     ]
    }
   ],
   "source": [
    "# write your answer here\n",
    "a = \"HI, I'm Krishna Vikas Meduri\"\n",
    "print(len(a))\n"
   ]
  },
  {
   "cell_type": "markdown",
   "metadata": {
    "colab_type": "text",
    "id": "jJDe71iLB616"
   },
   "source": [
    "(2) Write a Python program to count the number of characters in a string. (4 points)\n",
    "\n",
    "Sample String : 'google.com‘, \n",
    "\n",
    "Expected Result : {'o': 3, 'g': 2, '.': 1, 'e': 1, 'l': 1, 'm': 1, 'c': 1}"
   ]
  },
  {
   "cell_type": "code",
   "execution_count": 13,
   "metadata": {
    "colab": {},
    "colab_type": "code",
    "id": "MtKskTzbCLaU"
   },
   "outputs": [
    {
     "name": "stdout",
     "output_type": "stream",
     "text": [
      "Enter String: floccinaucinihilipilification\n",
      "{'f': 2, 'l': 3, 'o': 2, 'c': 4, 'i': 9, 'n': 3, 'a': 2, 'u': 1, 'h': 1, 'p': 1, 't': 1}\n"
     ]
    }
   ],
   "source": [
    "str0 = input(\"Enter String: \")\n",
    "d1 = dict()\n",
    "for a in str0:\n",
    "    if a in d1:\n",
    "        d1[a] = d1[a] + 1\n",
    "    else:\n",
    "            d1[a] = 1\n",
    "print(d1)"
   ]
  },
  {
   "cell_type": "markdown",
   "metadata": {
    "colab_type": "text",
    "id": "55W9AMdXCSpV"
   },
   "source": [
    "(3) Write a Python program to sum all the items in a list. (4 points)"
   ]
  },
  {
   "cell_type": "code",
   "execution_count": 3,
   "metadata": {
    "colab": {},
    "colab_type": "code",
    "id": "I57NXsauCec2"
   },
   "outputs": [
    {
     "name": "stdout",
     "output_type": "stream",
     "text": [
      "sum all the items in the list 71\n"
     ]
    }
   ],
   "source": [
    "# write your answer here\n",
    "mylist=[5,11,4,12,3,13,2,6,8,7]\n",
    "total=sum(mylist)\n",
    "print('sum all the items in the list',total)\n"
   ]
  },
  {
   "cell_type": "markdown",
   "metadata": {
    "colab_type": "text",
    "id": "4ulBZ6yhCi9F"
   },
   "source": [
    "(4) Write a Python program to get a string from a given string where all occurrences of its first char have been changed to '\\$', except the first char itself. (4 points)\n",
    "\n",
    "Sample String : 'restart‘, \n",
    "\n",
    "Expected Result : 'resta\\$t'"
   ]
  },
  {
   "cell_type": "code",
   "execution_count": 12,
   "metadata": {
    "colab": {},
    "colab_type": "code",
    "id": "Fj0XhwbBCw2o"
   },
   "outputs": [
    {
     "name": "stdout",
     "output_type": "stream",
     "text": [
      "maximum\n",
      "maxi$u$\n"
     ]
    }
   ],
   "source": [
    "def change_char(str1):\n",
    "  char = str1[0]\n",
    "  str1 = str1.replace(char, '$')\n",
    "  str1 = char + str1[1:]\n",
    "\n",
    "  return str1\n",
    "\n",
    "print(change_char(input()))"
   ]
  },
  {
   "cell_type": "markdown",
   "metadata": {
    "colab_type": "text",
    "id": "_bIP7s1MCzue"
   },
   "source": [
    "(5) Write a program with python which could accept two parameter a and b to calculate and output the result of S, where \n",
    "\n",
    "$\\ S=3.14*(1+a/b)^3$ (4 points)\n",
    "\n"
   ]
  },
  {
   "cell_type": "code",
   "execution_count": 5,
   "metadata": {
    "colab": {},
    "colab_type": "code",
    "id": "w79QilHXD3Mg"
   },
   "outputs": [
    {
     "name": "stdout",
     "output_type": "stream",
     "text": [
      "7\n",
      "7\n",
      "25.12\n"
     ]
    }
   ],
   "source": [
    "# write your answer here\n",
    "a=int(input())\n",
    "b=int(input())\n",
    "print(3.14*((1+a/b)**3))"
   ]
  },
  {
   "cell_type": "markdown",
   "metadata": {
    "colab_type": "text",
    "id": "xCa2bK9aD4Q3"
   },
   "source": [
    "(6) Write a Python program to concatenate following dictionaries to create a new one. (4 points)\n",
    "\n",
    "Sample Dictionary : dic1={1:10, 2:20}, dic2={3:30, 4:40}, dic3={5:50,6:60}, \n",
    "\n",
    "Expected Result : {1: 10, 2: 20, 3: 30, 4: 40, 5: 50, 6: 60}\n"
   ]
  },
  {
   "cell_type": "code",
   "execution_count": 11,
   "metadata": {
    "colab": {},
    "colab_type": "code",
    "id": "_z4aLqAbEET1"
   },
   "outputs": [
    {
     "name": "stdout",
     "output_type": "stream",
     "text": [
      "{2: 36, 8: 25, 4: 46, 7: 90, 5: 6}\n"
     ]
    }
   ],
   "source": [
    "# write your answer here\n",
    "d1 ={2:36,8:25}\n",
    "d2={4:46, 7:90}\n",
    "d3={5:50,6:60},\n",
    "full = {}\n",
    "for d in [d1, d2, d3]:\n",
    "  full.update(d)\n",
    "print(full)"
   ]
  },
  {
   "cell_type": "markdown",
   "metadata": {
    "colab_type": "text",
    "id": "0v48Vqa7FrQh"
   },
   "source": [
    "(7) Write a Python program to check whether an element exists within a tuple. (4 points)"
   ]
  },
  {
   "cell_type": "code",
   "execution_count": 7,
   "metadata": {
    "colab": {},
    "colab_type": "code",
    "id": "7WEmgq-DF2P1"
   },
   "outputs": [
    {
     "name": "stdout",
     "output_type": "stream",
     "text": [
      "Element present in tuple:\n",
      "True\n",
      "True\n",
      "False\n"
     ]
    }
   ],
   "source": [
    "# write your answer here\n",
    "Tuple = (\"e\",\"4\",\"u\",\"27\",\"k\",\"12\")\n",
    "print(\"Element present in tuple:\")\n",
    "print(\"u\" in Tuple)\n",
    "print(\"4\" in Tuple)\n",
    "print(\"78\" in Tuple)\n"
   ]
  },
  {
   "cell_type": "markdown",
   "metadata": {
    "colab_type": "text",
    "id": "vD5PYLMuGga_"
   },
   "source": [
    "(8) Write a Python program to find maximum and the minimum value in a set. (4 points)"
   ]
  },
  {
   "cell_type": "code",
   "execution_count": 8,
   "metadata": {
    "colab": {},
    "colab_type": "code",
    "id": "t0D5kdJUGjjw"
   },
   "outputs": [
    {
     "name": "stdout",
     "output_type": "stream",
     "text": [
      "The max & min values of given set is: \n",
      "889\n",
      "3\n"
     ]
    }
   ],
   "source": [
    "# write your answer here\n",
    "Sets = set([3,8,19,100,535,889,776])\n",
    "print(\"The max & min values of given set is: \")\n",
    "print(max(Sets))\n",
    "print(min(Sets))"
   ]
  },
  {
   "cell_type": "markdown",
   "metadata": {
    "colab_type": "text",
    "id": "uHkd-y5VhVWC"
   },
   "source": [
    "(9) Write a Python program to randomly divide the students in this class into six groups for term projects, each group should have at least 4 students but no more than 6 students (including 6). Here is the students list: (4 points)\n",
    "\n",
    "studnet_list = ['vmb0067','pc0353','snd0097','yye0005','sg0940','bk0301','rak0120','rrk0058','spk0057','vl0135','nm0547','pn0159',\n",
    "           'msp0174','dd0420','ds0761','rs0850','ss1995','at0739','at0768','mv0299','tv0119','dy0091','py0080','ttp0037','hc0439','ri0094','pk0339', 'hn0145','mn0426']"
   ]
  },
  {
   "cell_type": "code",
   "execution_count": 19,
   "metadata": {
    "colab": {},
    "colab_type": "code",
    "id": "3iGbmcOBhTwy"
   },
   "outputs": [
    {
     "name": "stdout",
     "output_type": "stream",
     "text": [
      "[['vmb0067', 'pc0353', 'snd0097', 'yye0005'], ['sg0940', 'bk0301', 'rak0120', 'rrk0058', 'spk0057'], ['vl0135', 'nm0547', 'pn0159', 'msp0174', 'dd0420', 'ds0761'], ['rs0850', 'ss1995', 'at0739', 'at0768']]\n"
     ]
    }
   ],
   "source": [
    "studnet_list = ['vmb0067','pc0353','snd0097','yye0005','sg0940','bk0301','rak0120','rrk0058','spk0057','vl0135','nm0547','pn0159', 'msp0174','dd0420','ds0761','rs0850','ss1995','at0739','at0768','mv0299','tv0119','dy0091','py0080','ttp0037','hc0439','ri0094','pk0339', 'hn0145','mn0426']\n",
    "from itertools import islice\n",
    "  \n",
    "  \n",
    "ls = [4,5,6,4]\n",
    "  \n",
    "sl = iter(studnet_list)\n",
    "Output = [list(islice(sl, elem))\n",
    "          for elem in ls]\n",
    "\n",
    "\n",
    "print(Output)"
   ]
  },
  {
   "cell_type": "markdown",
   "metadata": {},
   "source": [
    "(10) Write a Python program to find the duplicate elements in a given array of integers. Return -1 If there are no such elements. (4 points)"
   ]
  },
  {
   "cell_type": "code",
   "execution_count": 2,
   "metadata": {},
   "outputs": [
    {
     "name": "stdout",
     "output_type": "stream",
     "text": [
      "7\n",
      "-1\n",
      "13\n"
     ]
    }
   ],
   "source": [
    "# write your answer here\n",
    "def fduplicate(nums):\n",
    "    num_set = set()\n",
    "    no_duplicate = -1\n",
    "\n",
    "    for i in range(len(nums)):\n",
    "\n",
    "        if nums[i] in num_set:\n",
    "            return nums[i]\n",
    "        else:\n",
    "            num_set.add(nums[i])\n",
    "\n",
    "    return no_duplicate\n",
    "\n",
    "print(fduplicate([1,7,7,5,4]))\n",
    "print(fduplicate([1,3,4,2]))\n",
    "print(fduplicate([1,5,7,9,13,13]))\n",
    "   "
   ]
  },
  {
   "cell_type": "markdown",
   "metadata": {},
   "source": [
    "(11) Write a Python program to select all the Sundays of a specified year. (4 extra points)"
   ]
  },
  {
   "cell_type": "code",
   "execution_count": 3,
   "metadata": {},
   "outputs": [
    {
     "name": "stdout",
     "output_type": "stream",
     "text": [
      "1999-01-03\n",
      "1999-01-10\n",
      "1999-01-17\n",
      "1999-01-24\n",
      "1999-01-31\n",
      "1999-02-07\n",
      "1999-02-14\n",
      "1999-02-21\n",
      "1999-02-28\n",
      "1999-03-07\n",
      "1999-03-14\n",
      "1999-03-21\n",
      "1999-03-28\n",
      "1999-04-04\n",
      "1999-04-11\n",
      "1999-04-18\n",
      "1999-04-25\n",
      "1999-05-02\n",
      "1999-05-09\n",
      "1999-05-16\n",
      "1999-05-23\n",
      "1999-05-30\n",
      "1999-06-06\n",
      "1999-06-13\n",
      "1999-06-20\n",
      "1999-06-27\n",
      "1999-07-04\n",
      "1999-07-11\n",
      "1999-07-18\n",
      "1999-07-25\n",
      "1999-08-01\n",
      "1999-08-08\n",
      "1999-08-15\n",
      "1999-08-22\n",
      "1999-08-29\n",
      "1999-09-05\n",
      "1999-09-12\n",
      "1999-09-19\n",
      "1999-09-26\n",
      "1999-10-03\n",
      "1999-10-10\n",
      "1999-10-17\n",
      "1999-10-24\n",
      "1999-10-31\n",
      "1999-11-07\n",
      "1999-11-14\n",
      "1999-11-21\n",
      "1999-11-28\n",
      "1999-12-05\n",
      "1999-12-12\n",
      "1999-12-19\n",
      "1999-12-26\n"
     ]
    }
   ],
   "source": [
    "# write your answer here\n",
    "from datetime import date, timedelta\n",
    "\n",
    "def sundays(year):\n",
    "       dt = date(year, 1, 1)\n",
    "       dt += timedelta(days = 6 - dt.weekday())  \n",
    "       while dt.year == year:\n",
    "          yield dt\n",
    "          dt += timedelta(days = 7)\n",
    "          \n",
    "for s in sundays(1999):\n",
    "   print(s)\n",
    "   \n"
   ]
  }
 ],
 "metadata": {
  "colab": {
   "collapsed_sections": [],
   "include_colab_link": true,
   "name": "In_class_exercise_01.ipynb",
   "provenance": []
  },
  "kernelspec": {
   "display_name": "Python 3",
   "language": "python",
   "name": "python3"
  },
  "language_info": {
   "codemirror_mode": {
    "name": "ipython",
    "version": 3
   },
   "file_extension": ".py",
   "mimetype": "text/x-python",
   "name": "python",
   "nbconvert_exporter": "python",
   "pygments_lexer": "ipython3",
   "version": "3.7.6"
  }
 },
 "nbformat": 4,
 "nbformat_minor": 1
}
